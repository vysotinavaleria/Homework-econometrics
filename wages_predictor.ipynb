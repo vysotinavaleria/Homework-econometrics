{
 "cells": [
  {
   "cell_type": "code",
   "execution_count": 33,
   "id": "43fff9ae",
   "metadata": {},
   "outputs": [],
   "source": [
    "import numpy as np\n",
    "import pandas as pd\n",
    "import io\n",
    "import statsmodels.formula.api as smf\n",
    "import scipy.stats as stats\n",
    "import scipy\n",
    "import seaborn as sns\n",
    "import re\n",
    "import matplotlib.pyplot as plt"
   ]
  },
  {
   "cell_type": "markdown",
   "id": "b5facbe7",
   "metadata": {},
   "source": [
    "В своей итоговой работе по эконометрике я решила исследовать уровень заработных плат, зависящий от различных критериев, в том числе от пола работника. \n",
    "Описание моего датасета также прикреплено на этом репозитории.\n"
   ]
  },
  {
   "cell_type": "markdown",
   "id": "99d96bc2",
   "metadata": {},
   "source": [
    "## 1.  OLS модель, спецификация "
   ]
  },
  {
   "cell_type": "code",
   "execution_count": 52,
   "id": "68791ec8",
   "metadata": {},
   "outputs": [
    {
     "data": {
      "text/html": [
       "<div>\n",
       "<style scoped>\n",
       "    .dataframe tbody tr th:only-of-type {\n",
       "        vertical-align: middle;\n",
       "    }\n",
       "\n",
       "    .dataframe tbody tr th {\n",
       "        vertical-align: top;\n",
       "    }\n",
       "\n",
       "    .dataframe thead th {\n",
       "        text-align: right;\n",
       "    }\n",
       "</style>\n",
       "<table border=\"1\" class=\"dataframe\">\n",
       "  <thead>\n",
       "    <tr style=\"text-align: right;\">\n",
       "      <th></th>\n",
       "      <th>industry</th>\n",
       "      <th>occupation</th>\n",
       "      <th>yrs_qual</th>\n",
       "      <th>sex</th>\n",
       "      <th>highest_qual</th>\n",
       "      <th>area_of_study</th>\n",
       "      <th>influencing</th>\n",
       "      <th>negotiating</th>\n",
       "      <th>sector</th>\n",
       "      <th>workforce_change</th>\n",
       "      <th>...</th>\n",
       "      <th>advising</th>\n",
       "      <th>instructing</th>\n",
       "      <th>problem_solving_quick</th>\n",
       "      <th>problem_solving_long</th>\n",
       "      <th>labour</th>\n",
       "      <th>manual_skill</th>\n",
       "      <th>computer</th>\n",
       "      <th>group_meetings</th>\n",
       "      <th>computer_level</th>\n",
       "      <th>monthly_salary</th>\n",
       "    </tr>\n",
       "  </thead>\n",
       "  <tbody>\n",
       "    <tr>\n",
       "      <th>0</th>\n",
       "      <td>Q</td>\n",
       "      <td>2</td>\n",
       "      <td>19</td>\n",
       "      <td>1</td>\n",
       "      <td>13</td>\n",
       "      <td>4</td>\n",
       "      <td>2</td>\n",
       "      <td>1</td>\n",
       "      <td>1</td>\n",
       "      <td>3</td>\n",
       "      <td>...</td>\n",
       "      <td>5</td>\n",
       "      <td>4</td>\n",
       "      <td>5</td>\n",
       "      <td>4</td>\n",
       "      <td>4</td>\n",
       "      <td>5</td>\n",
       "      <td>1</td>\n",
       "      <td>1</td>\n",
       "      <td>2</td>\n",
       "      <td>23833.333333</td>\n",
       "    </tr>\n",
       "    <tr>\n",
       "      <th>1</th>\n",
       "      <td>C</td>\n",
       "      <td>9</td>\n",
       "      <td>14</td>\n",
       "      <td>1</td>\n",
       "      <td>11</td>\n",
       "      <td>7</td>\n",
       "      <td>4</td>\n",
       "      <td>2</td>\n",
       "      <td>1</td>\n",
       "      <td>1</td>\n",
       "      <td>...</td>\n",
       "      <td>5</td>\n",
       "      <td>3</td>\n",
       "      <td>5</td>\n",
       "      <td>3</td>\n",
       "      <td>4</td>\n",
       "      <td>5</td>\n",
       "      <td>1</td>\n",
       "      <td>1</td>\n",
       "      <td>1</td>\n",
       "      <td>6583.333333</td>\n",
       "    </tr>\n",
       "    <tr>\n",
       "      <th>2</th>\n",
       "      <td>L</td>\n",
       "      <td>3</td>\n",
       "      <td>16</td>\n",
       "      <td>2</td>\n",
       "      <td>12</td>\n",
       "      <td>4</td>\n",
       "      <td>2</td>\n",
       "      <td>1</td>\n",
       "      <td>1</td>\n",
       "      <td>3</td>\n",
       "      <td>...</td>\n",
       "      <td>3</td>\n",
       "      <td>1</td>\n",
       "      <td>4</td>\n",
       "      <td>2</td>\n",
       "      <td>1</td>\n",
       "      <td>5</td>\n",
       "      <td>1</td>\n",
       "      <td>1</td>\n",
       "      <td>2</td>\n",
       "      <td>433.333333</td>\n",
       "    </tr>\n",
       "    <tr>\n",
       "      <th>3</th>\n",
       "      <td>Q</td>\n",
       "      <td>5</td>\n",
       "      <td>12</td>\n",
       "      <td>2</td>\n",
       "      <td>7</td>\n",
       "      <td>4</td>\n",
       "      <td>5</td>\n",
       "      <td>4</td>\n",
       "      <td>2</td>\n",
       "      <td>1</td>\n",
       "      <td>...</td>\n",
       "      <td>5</td>\n",
       "      <td>2</td>\n",
       "      <td>5</td>\n",
       "      <td>2</td>\n",
       "      <td>5</td>\n",
       "      <td>5</td>\n",
       "      <td>2</td>\n",
       "      <td>1</td>\n",
       "      <td>0</td>\n",
       "      <td>379.000000</td>\n",
       "    </tr>\n",
       "    <tr>\n",
       "      <th>4</th>\n",
       "      <td>P</td>\n",
       "      <td>1</td>\n",
       "      <td>18</td>\n",
       "      <td>1</td>\n",
       "      <td>13</td>\n",
       "      <td>4</td>\n",
       "      <td>3</td>\n",
       "      <td>4</td>\n",
       "      <td>3</td>\n",
       "      <td>3</td>\n",
       "      <td>...</td>\n",
       "      <td>4</td>\n",
       "      <td>2</td>\n",
       "      <td>5</td>\n",
       "      <td>4</td>\n",
       "      <td>1</td>\n",
       "      <td>5</td>\n",
       "      <td>1</td>\n",
       "      <td>2</td>\n",
       "      <td>2</td>\n",
       "      <td>4583.333333</td>\n",
       "    </tr>\n",
       "    <tr>\n",
       "      <th>...</th>\n",
       "      <td>...</td>\n",
       "      <td>...</td>\n",
       "      <td>...</td>\n",
       "      <td>...</td>\n",
       "      <td>...</td>\n",
       "      <td>...</td>\n",
       "      <td>...</td>\n",
       "      <td>...</td>\n",
       "      <td>...</td>\n",
       "      <td>...</td>\n",
       "      <td>...</td>\n",
       "      <td>...</td>\n",
       "      <td>...</td>\n",
       "      <td>...</td>\n",
       "      <td>...</td>\n",
       "      <td>...</td>\n",
       "      <td>...</td>\n",
       "      <td>...</td>\n",
       "      <td>...</td>\n",
       "      <td>...</td>\n",
       "      <td>...</td>\n",
       "    </tr>\n",
       "    <tr>\n",
       "      <th>2000</th>\n",
       "      <td>N</td>\n",
       "      <td>3</td>\n",
       "      <td>12</td>\n",
       "      <td>2</td>\n",
       "      <td>7</td>\n",
       "      <td>8</td>\n",
       "      <td>4</td>\n",
       "      <td>5</td>\n",
       "      <td>1</td>\n",
       "      <td>1</td>\n",
       "      <td>...</td>\n",
       "      <td>5</td>\n",
       "      <td>5</td>\n",
       "      <td>5</td>\n",
       "      <td>3</td>\n",
       "      <td>1</td>\n",
       "      <td>5</td>\n",
       "      <td>1</td>\n",
       "      <td>5</td>\n",
       "      <td>2</td>\n",
       "      <td>4583.333333</td>\n",
       "    </tr>\n",
       "    <tr>\n",
       "      <th>2001</th>\n",
       "      <td>C</td>\n",
       "      <td>3</td>\n",
       "      <td>16</td>\n",
       "      <td>1</td>\n",
       "      <td>12</td>\n",
       "      <td>4</td>\n",
       "      <td>3</td>\n",
       "      <td>3</td>\n",
       "      <td>1</td>\n",
       "      <td>3</td>\n",
       "      <td>...</td>\n",
       "      <td>4</td>\n",
       "      <td>4</td>\n",
       "      <td>4</td>\n",
       "      <td>2</td>\n",
       "      <td>3</td>\n",
       "      <td>4</td>\n",
       "      <td>1</td>\n",
       "      <td>1</td>\n",
       "      <td>2</td>\n",
       "      <td>5858.333333</td>\n",
       "    </tr>\n",
       "    <tr>\n",
       "      <th>2002</th>\n",
       "      <td>Q</td>\n",
       "      <td>1</td>\n",
       "      <td>18</td>\n",
       "      <td>2</td>\n",
       "      <td>13</td>\n",
       "      <td>4</td>\n",
       "      <td>4</td>\n",
       "      <td>1</td>\n",
       "      <td>2</td>\n",
       "      <td>2</td>\n",
       "      <td>...</td>\n",
       "      <td>4</td>\n",
       "      <td>4</td>\n",
       "      <td>4</td>\n",
       "      <td>3</td>\n",
       "      <td>2</td>\n",
       "      <td>5</td>\n",
       "      <td>1</td>\n",
       "      <td>2</td>\n",
       "      <td>2</td>\n",
       "      <td>11000.000000</td>\n",
       "    </tr>\n",
       "    <tr>\n",
       "      <th>2003</th>\n",
       "      <td>M</td>\n",
       "      <td>4</td>\n",
       "      <td>12</td>\n",
       "      <td>2</td>\n",
       "      <td>7</td>\n",
       "      <td>4</td>\n",
       "      <td>5</td>\n",
       "      <td>1</td>\n",
       "      <td>2</td>\n",
       "      <td>1</td>\n",
       "      <td>...</td>\n",
       "      <td>5</td>\n",
       "      <td>2</td>\n",
       "      <td>5</td>\n",
       "      <td>4</td>\n",
       "      <td>1</td>\n",
       "      <td>5</td>\n",
       "      <td>1</td>\n",
       "      <td>1</td>\n",
       "      <td>2</td>\n",
       "      <td>693.333333</td>\n",
       "    </tr>\n",
       "    <tr>\n",
       "      <th>2004</th>\n",
       "      <td>G</td>\n",
       "      <td>5</td>\n",
       "      <td>12</td>\n",
       "      <td>2</td>\n",
       "      <td>7</td>\n",
       "      <td>7</td>\n",
       "      <td>1</td>\n",
       "      <td>1</td>\n",
       "      <td>1</td>\n",
       "      <td>3</td>\n",
       "      <td>...</td>\n",
       "      <td>1</td>\n",
       "      <td>1</td>\n",
       "      <td>5</td>\n",
       "      <td>1</td>\n",
       "      <td>5</td>\n",
       "      <td>5</td>\n",
       "      <td>1</td>\n",
       "      <td>1</td>\n",
       "      <td>1</td>\n",
       "      <td>975.083333</td>\n",
       "    </tr>\n",
       "  </tbody>\n",
       "</table>\n",
       "<p>2005 rows × 28 columns</p>\n",
       "</div>"
      ],
      "text/plain": [
       "     industry  occupation  yrs_qual  sex  highest_qual  area_of_study  \\\n",
       "0           Q           2        19    1            13              4   \n",
       "1           C           9        14    1            11              7   \n",
       "2           L           3        16    2            12              4   \n",
       "3           Q           5        12    2             7              4   \n",
       "4           P           1        18    1            13              4   \n",
       "...       ...         ...       ...  ...           ...            ...   \n",
       "2000        N           3        12    2             7              8   \n",
       "2001        C           3        16    1            12              4   \n",
       "2002        Q           1        18    2            13              4   \n",
       "2003        M           4        12    2             7              4   \n",
       "2004        G           5        12    2             7              7   \n",
       "\n",
       "      influencing  negotiating  sector  workforce_change  ...  advising  \\\n",
       "0               2            1       1                 3  ...         5   \n",
       "1               4            2       1                 1  ...         5   \n",
       "2               2            1       1                 3  ...         3   \n",
       "3               5            4       2                 1  ...         5   \n",
       "4               3            4       3                 3  ...         4   \n",
       "...           ...          ...     ...               ...  ...       ...   \n",
       "2000            4            5       1                 1  ...         5   \n",
       "2001            3            3       1                 3  ...         4   \n",
       "2002            4            1       2                 2  ...         4   \n",
       "2003            5            1       2                 1  ...         5   \n",
       "2004            1            1       1                 3  ...         1   \n",
       "\n",
       "      instructing  problem_solving_quick  problem_solving_long  labour  \\\n",
       "0               4                      5                     4       4   \n",
       "1               3                      5                     3       4   \n",
       "2               1                      4                     2       1   \n",
       "3               2                      5                     2       5   \n",
       "4               2                      5                     4       1   \n",
       "...           ...                    ...                   ...     ...   \n",
       "2000            5                      5                     3       1   \n",
       "2001            4                      4                     2       3   \n",
       "2002            4                      4                     3       2   \n",
       "2003            2                      5                     4       1   \n",
       "2004            1                      5                     1       5   \n",
       "\n",
       "      manual_skill  computer  group_meetings  computer_level  monthly_salary  \n",
       "0                5         1               1               2    23833.333333  \n",
       "1                5         1               1               1     6583.333333  \n",
       "2                5         1               1               2      433.333333  \n",
       "3                5         2               1               0      379.000000  \n",
       "4                5         1               2               2     4583.333333  \n",
       "...            ...       ...             ...             ...             ...  \n",
       "2000             5         1               5               2     4583.333333  \n",
       "2001             4         1               1               2     5858.333333  \n",
       "2002             5         1               2               2    11000.000000  \n",
       "2003             5         1               1               2      693.333333  \n",
       "2004             5         1               1               1      975.083333  \n",
       "\n",
       "[2005 rows x 28 columns]"
      ]
     },
     "execution_count": 52,
     "metadata": {},
     "output_type": "execute_result"
    }
   ],
   "source": [
    "df = pd.read_csv('https://raw.githubusercontent.com/vysotinavaleria/Homework-econometrics/main/wage_predict.csv')\n",
    "df"
   ]
  },
  {
   "cell_type": "markdown",
   "id": "f110a479",
   "metadata": {},
   "source": [
    "#### Спецификация\n",
    "$$\n",
    "Salary = \\beta_0 + \\beta_1*sex+\\beta_2*computer-level+\\beta_3*labour\n",
    "$$"
   ]
  },
  {
   "cell_type": "code",
   "execution_count": 3,
   "id": "1c8b49a5",
   "metadata": {},
   "outputs": [
    {
     "data": {
      "text/plain": [
       "Intercept         6110.296\n",
       "sex              -1532.987\n",
       "computer_level    1309.594\n",
       "labour            -354.043\n",
       "dtype: float64"
      ]
     },
     "execution_count": 3,
     "metadata": {},
     "output_type": "execute_result"
    }
   ],
   "source": [
    "salary = smf.ols(formula='monthly_salary ~ sex+computer_level+labour', data=df).fit()\n",
    "salary.params.round(3)"
   ]
  },
  {
   "cell_type": "markdown",
   "id": "892e0e7f",
   "metadata": {},
   "source": [
    "# 2. Построение графиков, интерпретация коэффициентов"
   ]
  },
  {
   "cell_type": "markdown",
   "id": "60608541",
   "metadata": {},
   "source": [
    "### Интерпретация\n",
    "-Зарплаты женщин меньше зарплат мужчин на 1532 долл. при прочих равных условиях.\n",
    "\n",
    "-При увелничении значения переменной computer_level на 1, зарплата увеличивается на 1309 долл.при прочих равных условиях.\n",
    "\n",
    "-Чем чаще человек занимается физическим трудом на работе, тем ниже его зарплата при прочих равных условиях."
   ]
  },
  {
   "cell_type": "markdown",
   "id": "c0c3476c",
   "metadata": {},
   "source": [
    "### Графики"
   ]
  },
  {
   "cell_type": "code",
   "execution_count": 4,
   "id": "3b902de9",
   "metadata": {},
   "outputs": [
    {
     "data": {
      "text/plain": [
       "<AxesSubplot: xlabel='yrs_qual', ylabel='monthly_salary'>"
      ]
     },
     "execution_count": 4,
     "metadata": {},
     "output_type": "execute_result"
    },
    {
     "data": {
      "image/png": "[encoded data removed]",
      "text/plain": [
       "<Figure size 640x480 with 1 Axes>"
      ]
     },
     "metadata": {},
     "output_type": "display_data"
    }
   ],
   "source": [
    "sns.regplot(data=df, y='monthly_salary', x='yrs_qual', ci=None, order = 2, line_kws={\"color\": \"r\"})"
   ]
  },
  {
   "cell_type": "markdown",
   "id": "a9880c9a",
   "metadata": {},
   "source": [
    "### Интерпретация графика\n",
    "Между зарплатой и квалификацией наблюдается нелинейная прямая зависимость, чем выше квалификация, тем выше зарплата. Посмотрим, что будет, если изменить порядок переменной \"квалификация\": изменится ли зависимость?"
   ]
  },
  {
   "cell_type": "markdown",
   "id": "7338e6f9",
   "metadata": {},
   "source": [
    "# 3. Изменение порядка переменной, график"
   ]
  },
  {
   "cell_type": "code",
   "execution_count": 5,
   "id": "fd6128bf",
   "metadata": {},
   "outputs": [],
   "source": [
    "df['yrs_qual^3']  = df['yrs_qual']*df['yrs_qual']*df['yrs_qual']"
   ]
  },
  {
   "cell_type": "code",
   "execution_count": 6,
   "id": "9a986896",
   "metadata": {},
   "outputs": [
    {
     "data": {
      "text/plain": [
       "<AxesSubplot: xlabel='yrs_qual^3', ylabel='monthly_salary'>"
      ]
     },
     "execution_count": 6,
     "metadata": {},
     "output_type": "execute_result"
    },
    {
     "data": {
      "image/png": "[encoded data removed]",
      "text/plain": [
       "<Figure size 640x480 with 1 Axes>"
      ]
     },
     "metadata": {},
     "output_type": "display_data"
    }
   ],
   "source": [
    "sns.regplot(data=df, y='monthly_salary', x='yrs_qual^3', ci=None, order = 2, line_kws={\"color\": \"g\"})"
   ]
  },
  {
   "cell_type": "markdown",
   "id": "35bd9a5a",
   "metadata": {},
   "source": [
    "### Вывод\n",
    "Кривая стала более резко уходить вверх, увеличился коэффициент наклона, так как значения переменной \"квалификация\" увеличились. уменьшилась предсказательная точность графика, кривая стала выгнутой, а не вогнутой."
   ]
  },
  {
   "cell_type": "markdown",
   "id": "b8dd2be5",
   "metadata": {},
   "source": [
    "# 4. Графический анализ структурных сдвигов, тест Чоу"
   ]
  },
  {
   "cell_type": "code",
   "execution_count": 7,
   "id": "74d0fc39",
   "metadata": {},
   "outputs": [
    {
     "data": {
      "text/plain": [
       "<seaborn.axisgrid.FacetGrid at 0x26c19e81f0>"
      ]
     },
     "execution_count": 7,
     "metadata": {},
     "output_type": "execute_result"
    },
    {
     "data": {
      "image/png": "[encoded data removed]",
      "text/plain": [
       "<Figure size 558.875x500 with 1 Axes>"
      ]
     },
     "metadata": {},
     "output_type": "display_data"
    }
   ],
   "source": [
    "sns.lmplot(x='yrs_qual', y='monthly_salary', hue='sex', data=df)"
   ]
  },
  {
   "cell_type": "markdown",
   "id": "f2c56155",
   "metadata": {},
   "source": [
    "### Интерпретация:\n",
    "При одинаковой квалификации мужчины зарабатывают больше, чем женщины."
   ]
  },
  {
   "cell_type": "code",
   "execution_count": 8,
   "id": "8b38fd59",
   "metadata": {},
   "outputs": [
    {
     "data": {
      "text/plain": [
       "<seaborn.axisgrid.FacetGrid at 0x26c30f42b0>"
      ]
     },
     "execution_count": 8,
     "metadata": {},
     "output_type": "execute_result"
    },
    {
     "data": {
      "image/png": "[encoded data removed]",
      "text/plain": [
       "<Figure size 1058.88x500 with 2 Axes>"
      ]
     },
     "metadata": {},
     "output_type": "display_data"
    }
   ],
   "source": [
    "sns.lmplot(x=\"yrs_qual\", y=\"monthly_salary\", hue=\"sex\",col='computer', data=df)"
   ]
  },
  {
   "cell_type": "markdown",
   "id": "b4630490",
   "metadata": {},
   "source": [
    "### Интерпретация:\n",
    "При одинаковой квалификации женщины зарабатывают меньше мужчин, при отсутствии компьютера и мжчины, и женщзины зарабатывают меньше, чем они могли бы при его наличии."
   ]
  },
  {
   "cell_type": "markdown",
   "id": "485f710d",
   "metadata": {},
   "source": [
    "# 5.  Значимость коэффициентов. Вычисление TSS, RSS, ESS, стандартной ошибки, R^2 и R^2adj."
   ]
  },
  {
   "cell_type": "code",
   "execution_count": 9,
   "id": "64b0f634",
   "metadata": {},
   "outputs": [
    {
     "data": {
      "text/plain": [
       "43883272748.438"
      ]
     },
     "execution_count": 9,
     "metadata": {},
     "output_type": "execute_result"
    }
   ],
   "source": [
    "TSS = salary.centered_tss.round(3)\n",
    "TSS"
   ]
  },
  {
   "cell_type": "code",
   "execution_count": 10,
   "id": "b7d588ac",
   "metadata": {},
   "outputs": [
    {
     "data": {
      "text/plain": [
       "5608787109.278"
      ]
     },
     "execution_count": 10,
     "metadata": {},
     "output_type": "execute_result"
    }
   ],
   "source": [
    "ESS = salary.ess.round(3)\n",
    "ESS"
   ]
  },
  {
   "cell_type": "code",
   "execution_count": 11,
   "id": "9c38337b",
   "metadata": {},
   "outputs": [
    {
     "data": {
      "text/plain": [
       "38274485639.16"
      ]
     },
     "execution_count": 11,
     "metadata": {},
     "output_type": "execute_result"
    }
   ],
   "source": [
    "RSS = salary.ssr.round(3)\n",
    "RSS"
   ]
  },
  {
   "cell_type": "code",
   "execution_count": 12,
   "id": "0a684947",
   "metadata": {},
   "outputs": [
    {
     "data": {
      "text/plain": [
       "0.8721884955702708"
      ]
     },
     "execution_count": 12,
     "metadata": {},
     "output_type": "execute_result"
    }
   ],
   "source": [
    "R2 = RSS/TSS\n",
    "R2"
   ]
  },
  {
   "cell_type": "code",
   "execution_count": 13,
   "id": "d98f2e4e",
   "metadata": {},
   "outputs": [
    {
     "data": {
      "text/plain": [
       "7661025.948590874"
      ]
     },
     "execution_count": 13,
     "metadata": {},
     "output_type": "execute_result"
    }
   ],
   "source": [
    "s2 = RSS/(5000 - 4)\n",
    "s2"
   ]
  },
  {
   "cell_type": "code",
   "execution_count": 14,
   "id": "b6637dd4",
   "metadata": {},
   "outputs": [
    {
     "data": {
      "text/plain": [
       "0.8721117472689719"
      ]
     },
     "execution_count": 14,
     "metadata": {},
     "output_type": "execute_result"
    }
   ],
   "source": [
    "R2adj = 1 - (1 - R2)*(5000-1)/(5000 - 4)\n",
    "R2adj"
   ]
  },
  {
   "cell_type": "markdown",
   "id": "c393f83a",
   "metadata": {},
   "source": [
    "### Вывод:\n",
    "Значение коэффициента R2adj близко к 1, следовательно, предсказательная точность построенной модели очень высока."
   ]
  },
  {
   "cell_type": "code",
   "execution_count": 15,
   "id": "f764ebf1",
   "metadata": {},
   "outputs": [
    {
     "data": {
      "text/html": [
       "<table class=\"simpletable\">\n",
       "<tr>\n",
       "         <td></td>           <th>coef</th>     <th>std err</th>      <th>t</th>      <th>P>|t|</th>  <th>[0.025</th>    <th>0.975]</th>  \n",
       "</tr>\n",
       "<tr>\n",
       "  <th>Intercept</th>      <td> 6110.2962</td> <td>  465.753</td> <td>   13.119</td> <td> 0.000</td> <td> 5196.885</td> <td> 7023.708</td>\n",
       "</tr>\n",
       "<tr>\n",
       "  <th>sex</th>            <td>-1532.9869</td> <td>  195.886</td> <td>   -7.826</td> <td> 0.000</td> <td>-1917.148</td> <td>-1148.826</td>\n",
       "</tr>\n",
       "<tr>\n",
       "  <th>computer_level</th> <td> 1309.5935</td> <td>  126.456</td> <td>   10.356</td> <td> 0.000</td> <td> 1061.593</td> <td> 1557.594</td>\n",
       "</tr>\n",
       "<tr>\n",
       "  <th>labour</th>         <td> -354.0428</td> <td>   63.158</td> <td>   -5.606</td> <td> 0.000</td> <td> -477.906</td> <td> -230.180</td>\n",
       "</tr>\n",
       "</table>"
      ],
      "text/plain": [
       "<class 'statsmodels.iolib.table.SimpleTable'>"
      ]
     },
     "execution_count": 15,
     "metadata": {},
     "output_type": "execute_result"
    }
   ],
   "source": [
    "model = smf.ols(formula='monthly_salary ~ sex+computer_level+labour', data=df).fit()\n",
    "model.summary(alpha=0.05).tables[1]"
   ]
  },
  {
   "cell_type": "code",
   "execution_count": 16,
   "id": "66c21f3d",
   "metadata": {},
   "outputs": [
    {
     "data": {
      "text/html": [
       "<div>\n",
       "<style scoped>\n",
       "    .dataframe tbody tr th:only-of-type {\n",
       "        vertical-align: middle;\n",
       "    }\n",
       "\n",
       "    .dataframe tbody tr th {\n",
       "        vertical-align: top;\n",
       "    }\n",
       "\n",
       "    .dataframe thead th {\n",
       "        text-align: right;\n",
       "    }\n",
       "</style>\n",
       "<table border=\"1\" class=\"dataframe\">\n",
       "  <thead>\n",
       "    <tr style=\"text-align: right;\">\n",
       "      <th></th>\n",
       "      <th>coef</th>\n",
       "      <th>std err</th>\n",
       "      <th>t</th>\n",
       "      <th>P&gt;|t|</th>\n",
       "      <th>[0.025</th>\n",
       "      <th>0.975]</th>\n",
       "    </tr>\n",
       "  </thead>\n",
       "  <tbody>\n",
       "    <tr>\n",
       "      <th>Intercept</th>\n",
       "      <td>6110.2962</td>\n",
       "      <td>465.753</td>\n",
       "      <td>13.119</td>\n",
       "      <td>0.0</td>\n",
       "      <td>5196.885</td>\n",
       "      <td>7023.708</td>\n",
       "    </tr>\n",
       "    <tr>\n",
       "      <th>sex</th>\n",
       "      <td>-1532.9869</td>\n",
       "      <td>195.886</td>\n",
       "      <td>-7.826</td>\n",
       "      <td>0.0</td>\n",
       "      <td>-1917.148</td>\n",
       "      <td>-1148.826</td>\n",
       "    </tr>\n",
       "    <tr>\n",
       "      <th>computer_level</th>\n",
       "      <td>1309.5935</td>\n",
       "      <td>126.456</td>\n",
       "      <td>10.356</td>\n",
       "      <td>0.0</td>\n",
       "      <td>1061.593</td>\n",
       "      <td>1557.594</td>\n",
       "    </tr>\n",
       "    <tr>\n",
       "      <th>labour</th>\n",
       "      <td>-354.0428</td>\n",
       "      <td>63.158</td>\n",
       "      <td>-5.606</td>\n",
       "      <td>0.0</td>\n",
       "      <td>-477.906</td>\n",
       "      <td>-230.180</td>\n",
       "    </tr>\n",
       "  </tbody>\n",
       "</table>\n",
       "</div>"
      ],
      "text/plain": [
       "                     coef  std err       t  P>|t|    [0.025    0.975]\n",
       "Intercept       6110.2962  465.753  13.119    0.0  5196.885  7023.708\n",
       "sex            -1532.9869  195.886  -7.826    0.0 -1917.148 -1148.826\n",
       "computer_level  1309.5935  126.456  10.356    0.0  1061.593  1557.594\n",
       "labour          -354.0428   63.158  -5.606    0.0  -477.906  -230.180"
      ]
     },
     "execution_count": 16,
     "metadata": {},
     "output_type": "execute_result"
    }
   ],
   "source": [
    "df_1 = pd.read_html(model.summary().tables[1].as_html(), header=0, index_col=0)[0] \n",
    "df_1"
   ]
  },
  {
   "cell_type": "code",
   "execution_count": 17,
   "id": "abbf8037",
   "metadata": {},
   "outputs": [
    {
     "data": {
      "text/html": [
       "<div>\n",
       "<style scoped>\n",
       "    .dataframe tbody tr th:only-of-type {\n",
       "        vertical-align: middle;\n",
       "    }\n",
       "\n",
       "    .dataframe tbody tr th {\n",
       "        vertical-align: top;\n",
       "    }\n",
       "\n",
       "    .dataframe thead th {\n",
       "        text-align: right;\n",
       "    }\n",
       "</style>\n",
       "<table border=\"1\" class=\"dataframe\">\n",
       "  <thead>\n",
       "    <tr style=\"text-align: right;\">\n",
       "      <th></th>\n",
       "      <th>coef</th>\n",
       "      <th>std err</th>\n",
       "      <th>t</th>\n",
       "      <th>P&gt;|t|</th>\n",
       "      <th>[0.025</th>\n",
       "      <th>0.975]</th>\n",
       "      <th>tvalues</th>\n",
       "    </tr>\n",
       "  </thead>\n",
       "  <tbody>\n",
       "    <tr>\n",
       "      <th>Intercept</th>\n",
       "      <td>6110.2962</td>\n",
       "      <td>465.753</td>\n",
       "      <td>13.119</td>\n",
       "      <td>0.0</td>\n",
       "      <td>5196.885</td>\n",
       "      <td>7023.708</td>\n",
       "      <td>13.119177</td>\n",
       "    </tr>\n",
       "    <tr>\n",
       "      <th>sex</th>\n",
       "      <td>-1532.9869</td>\n",
       "      <td>195.886</td>\n",
       "      <td>-7.826</td>\n",
       "      <td>0.0</td>\n",
       "      <td>-1917.148</td>\n",
       "      <td>-1148.826</td>\n",
       "      <td>-7.825914</td>\n",
       "    </tr>\n",
       "    <tr>\n",
       "      <th>computer_level</th>\n",
       "      <td>1309.5935</td>\n",
       "      <td>126.456</td>\n",
       "      <td>10.356</td>\n",
       "      <td>0.0</td>\n",
       "      <td>1061.593</td>\n",
       "      <td>1557.594</td>\n",
       "      <td>10.356120</td>\n",
       "    </tr>\n",
       "    <tr>\n",
       "      <th>labour</th>\n",
       "      <td>-354.0428</td>\n",
       "      <td>63.158</td>\n",
       "      <td>-5.606</td>\n",
       "      <td>0.0</td>\n",
       "      <td>-477.906</td>\n",
       "      <td>-230.180</td>\n",
       "      <td>-5.605668</td>\n",
       "    </tr>\n",
       "  </tbody>\n",
       "</table>\n",
       "</div>"
      ],
      "text/plain": [
       "                     coef  std err       t  P>|t|    [0.025    0.975]  \\\n",
       "Intercept       6110.2962  465.753  13.119    0.0  5196.885  7023.708   \n",
       "sex            -1532.9869  195.886  -7.826    0.0 -1917.148 -1148.826   \n",
       "computer_level  1309.5935  126.456  10.356    0.0  1061.593  1557.594   \n",
       "labour          -354.0428   63.158  -5.606    0.0  -477.906  -230.180   \n",
       "\n",
       "                  tvalues  \n",
       "Intercept       13.119177  \n",
       "sex             -7.825914  \n",
       "computer_level  10.356120  \n",
       "labour          -5.605668  "
      ]
     },
     "execution_count": 17,
     "metadata": {},
     "output_type": "execute_result"
    }
   ],
   "source": [
    "df_1['tvalues']  = df_1['coef']/df_1['std err']\n",
    "df_1"
   ]
  },
  {
   "cell_type": "code",
   "execution_count": 18,
   "id": "dc2e03c8",
   "metadata": {},
   "outputs": [
    {
     "name": "stdout",
     "output_type": "stream",
     "text": [
      "Уровень значимости alpha:  0.05\n",
      "Критическое значение t_crit:  1.961\n"
     ]
    }
   ],
   "source": [
    "alpha = 0.05 \n",
    "print('Уровень значимости alpha: ', alpha)\n",
    "DF = int(model.df_resid) \n",
    "t_crit = scipy.stats.t.ppf(1-alpha/2, DF)\n",
    "print('Критическое значение t_crit: ', t_crit.round(3))"
   ]
  },
  {
   "cell_type": "code",
   "execution_count": 19,
   "id": "86c49a4b",
   "metadata": {},
   "outputs": [
    {
     "data": {
      "text/html": [
       "<div>\n",
       "<style scoped>\n",
       "    .dataframe tbody tr th:only-of-type {\n",
       "        vertical-align: middle;\n",
       "    }\n",
       "\n",
       "    .dataframe tbody tr th {\n",
       "        vertical-align: top;\n",
       "    }\n",
       "\n",
       "    .dataframe thead th {\n",
       "        text-align: right;\n",
       "    }\n",
       "</style>\n",
       "<table border=\"1\" class=\"dataframe\">\n",
       "  <thead>\n",
       "    <tr style=\"text-align: right;\">\n",
       "      <th></th>\n",
       "      <th>coef</th>\n",
       "      <th>std err</th>\n",
       "      <th>t</th>\n",
       "      <th>P&gt;|t|</th>\n",
       "      <th>[0.025</th>\n",
       "      <th>0.975]</th>\n",
       "      <th>tvalues</th>\n",
       "      <th>znachimosty</th>\n",
       "    </tr>\n",
       "  </thead>\n",
       "  <tbody>\n",
       "    <tr>\n",
       "      <th>Intercept</th>\n",
       "      <td>6110.2962</td>\n",
       "      <td>465.753</td>\n",
       "      <td>13.119</td>\n",
       "      <td>0.0</td>\n",
       "      <td>5196.885</td>\n",
       "      <td>7023.708</td>\n",
       "      <td>13.119177</td>\n",
       "      <td>znachim</td>\n",
       "    </tr>\n",
       "    <tr>\n",
       "      <th>sex</th>\n",
       "      <td>-1532.9869</td>\n",
       "      <td>195.886</td>\n",
       "      <td>-7.826</td>\n",
       "      <td>0.0</td>\n",
       "      <td>-1917.148</td>\n",
       "      <td>-1148.826</td>\n",
       "      <td>-7.825914</td>\n",
       "      <td>znachim</td>\n",
       "    </tr>\n",
       "    <tr>\n",
       "      <th>computer_level</th>\n",
       "      <td>1309.5935</td>\n",
       "      <td>126.456</td>\n",
       "      <td>10.356</td>\n",
       "      <td>0.0</td>\n",
       "      <td>1061.593</td>\n",
       "      <td>1557.594</td>\n",
       "      <td>10.356120</td>\n",
       "      <td>znachim</td>\n",
       "    </tr>\n",
       "    <tr>\n",
       "      <th>labour</th>\n",
       "      <td>-354.0428</td>\n",
       "      <td>63.158</td>\n",
       "      <td>-5.606</td>\n",
       "      <td>0.0</td>\n",
       "      <td>-477.906</td>\n",
       "      <td>-230.180</td>\n",
       "      <td>-5.605668</td>\n",
       "      <td>znachim</td>\n",
       "    </tr>\n",
       "  </tbody>\n",
       "</table>\n",
       "</div>"
      ],
      "text/plain": [
       "                     coef  std err       t  P>|t|    [0.025    0.975]  \\\n",
       "Intercept       6110.2962  465.753  13.119    0.0  5196.885  7023.708   \n",
       "sex            -1532.9869  195.886  -7.826    0.0 -1917.148 -1148.826   \n",
       "computer_level  1309.5935  126.456  10.356    0.0  1061.593  1557.594   \n",
       "labour          -354.0428   63.158  -5.606    0.0  -477.906  -230.180   \n",
       "\n",
       "                  tvalues znachimosty  \n",
       "Intercept       13.119177     znachim  \n",
       "sex             -7.825914     znachim  \n",
       "computer_level  10.356120     znachim  \n",
       "labour          -5.605668     znachim  "
      ]
     },
     "execution_count": 19,
     "metadata": {},
     "output_type": "execute_result"
    }
   ],
   "source": [
    "df_1['znachimosty'] = df_1.apply(lambda x : 'znachim' if np.abs(x['tvalues']) > t_crit else 'ne znachim', axis = 1 )\n",
    "df_1"
   ]
  },
  {
   "cell_type": "markdown",
   "id": "5c52e3d7",
   "metadata": {},
   "source": [
    "### Вывод:\n",
    "На основании T-теста, использующего статистику Стьюдента, мож7но сделать вывод, что все регрессоры в модели значимы"
   ]
  },
  {
   "cell_type": "markdown",
   "id": "95219945",
   "metadata": {},
   "source": [
    "# 5. Тест Фишера"
   ]
  },
  {
   "cell_type": "markdown",
   "id": "1c9f5375",
   "metadata": {},
   "source": [
    "### Гипотезы:\n",
    "$$\n",
    "H0: \\beta_{sex}=\\beta_{computer_level}=\\beta_{monthly_salary}=\\beta_{labour}=0\n",
    "$$\n",
    "$$\n",
    "H1: \\beta_{sex}^2+\\beta_{computer_level}^2+\\beta_{monthly_salary}^2+\\beta_{labour}^2>0\n",
    "$$"
   ]
  },
  {
   "cell_type": "markdown",
   "id": "9658792c",
   "metadata": {},
   "source": [
    "### Для того, чтобы провести тест Фишера, необходимо найти показатели R^2j для расширенной регрессии.\n",
    "Уровень значимости = 5%"
   ]
  },
  {
   "cell_type": "code",
   "execution_count": 20,
   "id": "81bc6c75",
   "metadata": {},
   "outputs": [
    {
     "data": {
      "text/plain": [
       "Intercept         4711.334\n",
       "sex              -1740.409\n",
       "computer_level     475.630\n",
       "labour            -211.921\n",
       "occupation        -255.565\n",
       "highest_qual       274.261\n",
       "area_of_study       70.490\n",
       "influencing        123.564\n",
       "negotiating        108.416\n",
       "sector             -89.598\n",
       "dtype: float64"
      ]
     },
     "execution_count": 20,
     "metadata": {},
     "output_type": "execute_result"
    }
   ],
   "source": [
    "salary_unrest = smf.ols(formula='monthly_salary ~ sex+computer_level+labour+occupation+highest_qual+area_of_study+influencing+negotiating+sector', data=df).fit()\n",
    "salary_unrest.params.round(3)"
   ]
  },
  {
   "cell_type": "code",
   "execution_count": 21,
   "id": "5c860a78",
   "metadata": {},
   "outputs": [
    {
     "data": {
      "text/plain": [
       "0.8069443566956717"
      ]
     },
     "execution_count": 21,
     "metadata": {},
     "output_type": "execute_result"
    }
   ],
   "source": [
    "RSS_2 = salary_unrest.ssr.round(3)\n",
    "TSS_2 = salary_unrest.centered_tss.round(3)\n",
    "R_2 = RSS_2/TSS_2\n",
    "R_2"
   ]
  },
  {
   "cell_type": "code",
   "execution_count": 22,
   "id": "75eef16e",
   "metadata": {},
   "outputs": [
    {
     "name": "stdout",
     "output_type": "stream",
     "text": [
      "0.806 0.872\n"
     ]
    }
   ],
   "source": [
    "unrest, rest = np.float_(re.findall(r'([-+]?\\d+.\\d+)','R2                      0.806          0.872'))\n",
    "print (unrest, rest)"
   ]
  },
  {
   "cell_type": "code",
   "execution_count": 23,
   "id": "42ff8427",
   "metadata": {},
   "outputs": [
    {
     "data": {
      "text/plain": [
       "-424.15206185566984"
      ]
     },
     "execution_count": 23,
     "metadata": {},
     "output_type": "execute_result"
    }
   ],
   "source": [
    "F_nab = (unrest - rest)/(1-unrest)*(5000 - 13)/4\n",
    "F_nab"
   ]
  },
  {
   "cell_type": "code",
   "execution_count": 24,
   "id": "1c2ae9dc",
   "metadata": {},
   "outputs": [
    {
     "data": {
      "text/plain": [
       "2.373713672224553"
      ]
     },
     "execution_count": 24,
     "metadata": {},
     "output_type": "execute_result"
    }
   ],
   "source": [
    "F_cr = stats.f.ppf(1-0.05, 4, 5000-13)\n",
    "F_cr"
   ]
  },
  {
   "cell_type": "markdown",
   "id": "25dba298",
   "metadata": {},
   "source": [
    "### Вывод: \n",
    "$$\n",
    "F_{obs}<F{cr}\n",
    "$$\n",
    "Данные согласуются с гипотезорй Н0, статистика имеет вид распределения Фишера"
   ]
  },
  {
   "cell_type": "markdown",
   "id": "87883c9d",
   "metadata": {},
   "source": [
    "# 6. Построение доверительных интервалов"
   ]
  },
  {
   "cell_type": "code",
   "execution_count": 25,
   "id": "b294389f",
   "metadata": {},
   "outputs": [
    {
     "data": {
      "text/html": [
       "<div>\n",
       "<style scoped>\n",
       "    .dataframe tbody tr th:only-of-type {\n",
       "        vertical-align: middle;\n",
       "    }\n",
       "\n",
       "    .dataframe tbody tr th {\n",
       "        vertical-align: top;\n",
       "    }\n",
       "\n",
       "    .dataframe thead th {\n",
       "        text-align: right;\n",
       "    }\n",
       "</style>\n",
       "<table border=\"1\" class=\"dataframe\">\n",
       "  <thead>\n",
       "    <tr style=\"text-align: right;\">\n",
       "      <th></th>\n",
       "      <th>coef</th>\n",
       "      <th>std err</th>\n",
       "      <th>t</th>\n",
       "      <th>P&gt;|t|</th>\n",
       "      <th>[0.025</th>\n",
       "      <th>0.975]</th>\n",
       "    </tr>\n",
       "  </thead>\n",
       "  <tbody>\n",
       "    <tr>\n",
       "      <th>Intercept</th>\n",
       "      <td>6110.2962</td>\n",
       "      <td>465.753</td>\n",
       "      <td>13.119</td>\n",
       "      <td>0.0</td>\n",
       "      <td>5196.885</td>\n",
       "      <td>7023.708</td>\n",
       "    </tr>\n",
       "    <tr>\n",
       "      <th>sex</th>\n",
       "      <td>-1532.9869</td>\n",
       "      <td>195.886</td>\n",
       "      <td>-7.826</td>\n",
       "      <td>0.0</td>\n",
       "      <td>-1917.148</td>\n",
       "      <td>-1148.826</td>\n",
       "    </tr>\n",
       "    <tr>\n",
       "      <th>computer_level</th>\n",
       "      <td>1309.5935</td>\n",
       "      <td>126.456</td>\n",
       "      <td>10.356</td>\n",
       "      <td>0.0</td>\n",
       "      <td>1061.593</td>\n",
       "      <td>1557.594</td>\n",
       "    </tr>\n",
       "    <tr>\n",
       "      <th>labour</th>\n",
       "      <td>-354.0428</td>\n",
       "      <td>63.158</td>\n",
       "      <td>-5.606</td>\n",
       "      <td>0.0</td>\n",
       "      <td>-477.906</td>\n",
       "      <td>-230.180</td>\n",
       "    </tr>\n",
       "  </tbody>\n",
       "</table>\n",
       "</div>"
      ],
      "text/plain": [
       "                     coef  std err       t  P>|t|    [0.025    0.975]\n",
       "Intercept       6110.2962  465.753  13.119    0.0  5196.885  7023.708\n",
       "sex            -1532.9869  195.886  -7.826    0.0 -1917.148 -1148.826\n",
       "computer_level  1309.5935  126.456  10.356    0.0  1061.593  1557.594\n",
       "labour          -354.0428   63.158  -5.606    0.0  -477.906  -230.180"
      ]
     },
     "execution_count": 25,
     "metadata": {},
     "output_type": "execute_result"
    }
   ],
   "source": [
    "df_tab = pd.read_html(model.summary().tables[1].as_html(), header=0, index_col=0)[0]\n",
    "df_tab"
   ]
  },
  {
   "cell_type": "code",
   "execution_count": 26,
   "id": "dcad6755",
   "metadata": {},
   "outputs": [
    {
     "name": "stdout",
     "output_type": "stream",
     "text": [
      "Количество наблюдений = 2005\n",
      "Количество регрессоров + 1 = 4\n",
      "Уровень значимости alpha = 0.05\n",
      "Критическое значение t_cr = 1.961\n"
     ]
    }
   ],
   "source": [
    "# уровень значимости 5%\n",
    "nobs = model.nobs\n",
    "regr_cnt = model.df_model + 1\n",
    "print(f'Количество наблюдений = {nobs:.0f}')\n",
    "print(f'Количество регрессоров + 1 = {regr_cnt:.0f}')\n",
    "t_cr = stats.t.ppf(1-alpha/2, nobs - regr_cnt)\n",
    "print(f'Уровень значимости alpha = {alpha:.2f}')\n",
    "print(f'Критическое значение t_cr = {t_cr:.3f}')"
   ]
  },
  {
   "cell_type": "code",
   "execution_count": 27,
   "id": "3dd5e3ea",
   "metadata": {},
   "outputs": [
    {
     "data": {
      "text/html": [
       "<div>\n",
       "<style scoped>\n",
       "    .dataframe tbody tr th:only-of-type {\n",
       "        vertical-align: middle;\n",
       "    }\n",
       "\n",
       "    .dataframe tbody tr th {\n",
       "        vertical-align: top;\n",
       "    }\n",
       "\n",
       "    .dataframe thead th {\n",
       "        text-align: right;\n",
       "    }\n",
       "</style>\n",
       "<table border=\"1\" class=\"dataframe\">\n",
       "  <thead>\n",
       "    <tr style=\"text-align: right;\">\n",
       "      <th></th>\n",
       "      <th>coef</th>\n",
       "      <th>std err</th>\n",
       "      <th>t</th>\n",
       "      <th>P&gt;|t|</th>\n",
       "      <th>[0.025</th>\n",
       "      <th>0.975]</th>\n",
       "      <th>нижний</th>\n",
       "      <th>верхний</th>\n",
       "    </tr>\n",
       "  </thead>\n",
       "  <tbody>\n",
       "    <tr>\n",
       "      <th>Intercept</th>\n",
       "      <td>6110.2962</td>\n",
       "      <td>465.753</td>\n",
       "      <td>13.119</td>\n",
       "      <td>0.0</td>\n",
       "      <td>5196.885</td>\n",
       "      <td>7023.708</td>\n",
       "      <td>5196.88</td>\n",
       "      <td>7023.71</td>\n",
       "    </tr>\n",
       "    <tr>\n",
       "      <th>sex</th>\n",
       "      <td>-1532.9869</td>\n",
       "      <td>195.886</td>\n",
       "      <td>-7.826</td>\n",
       "      <td>0.0</td>\n",
       "      <td>-1917.148</td>\n",
       "      <td>-1148.826</td>\n",
       "      <td>-1917.15</td>\n",
       "      <td>-1148.83</td>\n",
       "    </tr>\n",
       "    <tr>\n",
       "      <th>computer_level</th>\n",
       "      <td>1309.5935</td>\n",
       "      <td>126.456</td>\n",
       "      <td>10.356</td>\n",
       "      <td>0.0</td>\n",
       "      <td>1061.593</td>\n",
       "      <td>1557.594</td>\n",
       "      <td>1061.59</td>\n",
       "      <td>1557.59</td>\n",
       "    </tr>\n",
       "    <tr>\n",
       "      <th>labour</th>\n",
       "      <td>-354.0428</td>\n",
       "      <td>63.158</td>\n",
       "      <td>-5.606</td>\n",
       "      <td>0.0</td>\n",
       "      <td>-477.906</td>\n",
       "      <td>-230.180</td>\n",
       "      <td>-477.91</td>\n",
       "      <td>-230.18</td>\n",
       "    </tr>\n",
       "  </tbody>\n",
       "</table>\n",
       "</div>"
      ],
      "text/plain": [
       "                     coef  std err       t  P>|t|    [0.025    0.975]  \\\n",
       "Intercept       6110.2962  465.753  13.119    0.0  5196.885  7023.708   \n",
       "sex            -1532.9869  195.886  -7.826    0.0 -1917.148 -1148.826   \n",
       "computer_level  1309.5935  126.456  10.356    0.0  1061.593  1557.594   \n",
       "labour          -354.0428   63.158  -5.606    0.0  -477.906  -230.180   \n",
       "\n",
       "                 нижний  верхний  \n",
       "Intercept       5196.88  7023.71  \n",
       "sex            -1917.15 -1148.83  \n",
       "computer_level  1061.59  1557.59  \n",
       "labour          -477.91  -230.18  "
      ]
     },
     "execution_count": 27,
     "metadata": {},
     "output_type": "execute_result"
    }
   ],
   "source": [
    "df_tab['нижний'] = (df_tab['coef'].astype(float) - df_tab['std err'].astype(float)*t_cr).round(2)\n",
    "df_tab['верхний'] = (df_tab['coef'].astype(float) + df_tab['std err'].astype(float)*t_cr).round(2)\n",
    "df_tab"
   ]
  },
  {
   "cell_type": "markdown",
   "id": "a6b0fbde",
   "metadata": {},
   "source": [
    "# 7. Прогнозирование"
   ]
  },
  {
   "cell_type": "markdown",
   "id": "2e9ab47b",
   "metadata": {},
   "source": [
    "Для исследования возьмем первые 3 строки датасета"
   ]
  },
  {
   "cell_type": "code",
   "execution_count": 30,
   "id": "0790ad51",
   "metadata": {},
   "outputs": [
    {
     "data": {
      "text/html": [
       "<div>\n",
       "<style scoped>\n",
       "    .dataframe tbody tr th:only-of-type {\n",
       "        vertical-align: middle;\n",
       "    }\n",
       "\n",
       "    .dataframe tbody tr th {\n",
       "        vertical-align: top;\n",
       "    }\n",
       "\n",
       "    .dataframe thead th {\n",
       "        text-align: right;\n",
       "    }\n",
       "</style>\n",
       "<table border=\"1\" class=\"dataframe\">\n",
       "  <thead>\n",
       "    <tr style=\"text-align: right;\">\n",
       "      <th></th>\n",
       "      <th>industry</th>\n",
       "      <th>occupation</th>\n",
       "      <th>yrs_qual</th>\n",
       "      <th>sex</th>\n",
       "      <th>highest_qual</th>\n",
       "      <th>area_of_study</th>\n",
       "      <th>influencing</th>\n",
       "      <th>negotiating</th>\n",
       "      <th>sector</th>\n",
       "      <th>workforce_change</th>\n",
       "      <th>...</th>\n",
       "      <th>instructing</th>\n",
       "      <th>problem_solving_quick</th>\n",
       "      <th>problem_solving_long</th>\n",
       "      <th>labour</th>\n",
       "      <th>manual_skill</th>\n",
       "      <th>computer</th>\n",
       "      <th>group_meetings</th>\n",
       "      <th>computer_level</th>\n",
       "      <th>monthly_salary</th>\n",
       "      <th>yrs_qual^3</th>\n",
       "    </tr>\n",
       "  </thead>\n",
       "  <tbody>\n",
       "    <tr>\n",
       "      <th>0</th>\n",
       "      <td>Q</td>\n",
       "      <td>2</td>\n",
       "      <td>19</td>\n",
       "      <td>1</td>\n",
       "      <td>13</td>\n",
       "      <td>4</td>\n",
       "      <td>2</td>\n",
       "      <td>1</td>\n",
       "      <td>1</td>\n",
       "      <td>3</td>\n",
       "      <td>...</td>\n",
       "      <td>4</td>\n",
       "      <td>5</td>\n",
       "      <td>4</td>\n",
       "      <td>4</td>\n",
       "      <td>5</td>\n",
       "      <td>1</td>\n",
       "      <td>1</td>\n",
       "      <td>2</td>\n",
       "      <td>23833.333333</td>\n",
       "      <td>6859</td>\n",
       "    </tr>\n",
       "    <tr>\n",
       "      <th>1</th>\n",
       "      <td>C</td>\n",
       "      <td>9</td>\n",
       "      <td>14</td>\n",
       "      <td>1</td>\n",
       "      <td>11</td>\n",
       "      <td>7</td>\n",
       "      <td>4</td>\n",
       "      <td>2</td>\n",
       "      <td>1</td>\n",
       "      <td>1</td>\n",
       "      <td>...</td>\n",
       "      <td>3</td>\n",
       "      <td>5</td>\n",
       "      <td>3</td>\n",
       "      <td>4</td>\n",
       "      <td>5</td>\n",
       "      <td>1</td>\n",
       "      <td>1</td>\n",
       "      <td>1</td>\n",
       "      <td>6583.333333</td>\n",
       "      <td>2744</td>\n",
       "    </tr>\n",
       "    <tr>\n",
       "      <th>2</th>\n",
       "      <td>L</td>\n",
       "      <td>3</td>\n",
       "      <td>16</td>\n",
       "      <td>2</td>\n",
       "      <td>12</td>\n",
       "      <td>4</td>\n",
       "      <td>2</td>\n",
       "      <td>1</td>\n",
       "      <td>1</td>\n",
       "      <td>3</td>\n",
       "      <td>...</td>\n",
       "      <td>1</td>\n",
       "      <td>4</td>\n",
       "      <td>2</td>\n",
       "      <td>1</td>\n",
       "      <td>5</td>\n",
       "      <td>1</td>\n",
       "      <td>1</td>\n",
       "      <td>2</td>\n",
       "      <td>433.333333</td>\n",
       "      <td>4096</td>\n",
       "    </tr>\n",
       "  </tbody>\n",
       "</table>\n",
       "<p>3 rows × 29 columns</p>\n",
       "</div>"
      ],
      "text/plain": [
       "  industry  occupation  yrs_qual  sex  highest_qual  area_of_study  \\\n",
       "0        Q           2        19    1            13              4   \n",
       "1        C           9        14    1            11              7   \n",
       "2        L           3        16    2            12              4   \n",
       "\n",
       "   influencing  negotiating  sector  workforce_change  ...  instructing  \\\n",
       "0            2            1       1                 3  ...            4   \n",
       "1            4            2       1                 1  ...            3   \n",
       "2            2            1       1                 3  ...            1   \n",
       "\n",
       "   problem_solving_quick  problem_solving_long  labour  manual_skill  \\\n",
       "0                      5                     4       4             5   \n",
       "1                      5                     3       4             5   \n",
       "2                      4                     2       1             5   \n",
       "\n",
       "   computer  group_meetings  computer_level  monthly_salary  yrs_qual^3  \n",
       "0         1               1               2    23833.333333        6859  \n",
       "1         1               1               1     6583.333333        2744  \n",
       "2         1               1               2      433.333333        4096  \n",
       "\n",
       "[3 rows x 29 columns]"
      ]
     },
     "execution_count": 30,
     "metadata": {},
     "output_type": "execute_result"
    }
   ],
   "source": [
    "df1 = df.head(3)\n",
    "df1"
   ]
  },
  {
   "cell_type": "code",
   "execution_count": 31,
   "id": "3830d835",
   "metadata": {},
   "outputs": [],
   "source": [
    "res = model.predict(exog=df1, transform=True)"
   ]
  },
  {
   "cell_type": "code",
   "execution_count": 32,
   "id": "590d8998",
   "metadata": {},
   "outputs": [
    {
     "data": {
      "text/html": [
       "<div>\n",
       "<style scoped>\n",
       "    .dataframe tbody tr th:only-of-type {\n",
       "        vertical-align: middle;\n",
       "    }\n",
       "\n",
       "    .dataframe tbody tr th {\n",
       "        vertical-align: top;\n",
       "    }\n",
       "\n",
       "    .dataframe thead th {\n",
       "        text-align: right;\n",
       "    }\n",
       "</style>\n",
       "<table border=\"1\" class=\"dataframe\">\n",
       "  <thead>\n",
       "    <tr style=\"text-align: right;\">\n",
       "      <th></th>\n",
       "      <th>Прогноз</th>\n",
       "    </tr>\n",
       "  </thead>\n",
       "  <tbody>\n",
       "    <tr>\n",
       "      <th>1</th>\n",
       "      <td>5780.33</td>\n",
       "    </tr>\n",
       "    <tr>\n",
       "      <th>2</th>\n",
       "      <td>4470.73</td>\n",
       "    </tr>\n",
       "    <tr>\n",
       "      <th>3</th>\n",
       "      <td>5309.47</td>\n",
       "    </tr>\n",
       "  </tbody>\n",
       "</table>\n",
       "</div>"
      ],
      "text/plain": [
       "   Прогноз\n",
       "1  5780.33\n",
       "2  4470.73\n",
       "3  5309.47"
      ]
     },
     "execution_count": 32,
     "metadata": {},
     "output_type": "execute_result"
    }
   ],
   "source": [
    "df_res = pd.DataFrame(res.round(2), columns=['Прогноз'])\n",
    "df_res.reset_index(drop=True , inplace=True)\n",
    "df_res.index += 1\n",
    "df_res"
   ]
  },
  {
   "cell_type": "markdown",
   "id": "2d096b4d",
   "metadata": {},
   "source": [
    "# 8. Мультиколлинеарность"
   ]
  },
  {
   "cell_type": "code",
   "execution_count": 34,
   "id": "1421d7bb",
   "metadata": {},
   "outputs": [
    {
     "data": {
      "text/plain": [
       "Intercept         1.676\n",
       "monthly_salary   -0.000\n",
       "computer_level    0.013\n",
       "labour           -0.026\n",
       "dtype: float64"
      ]
     },
     "execution_count": 34,
     "metadata": {},
     "output_type": "execute_result"
    }
   ],
   "source": [
    "model_0 = smf.ols(data = df , formula = 'monthly_salary ~ sex+computer_level+labour').fit()\n",
    "model_1 = smf.ols(data = df , formula = 'sex ~ monthly_salary+computer_level+labour').fit()\n",
    "model_2 = smf.ols(data = df , formula = 'labour ~ monthly_salary+computer_level+sex').fit()\n",
    "model_3 = smf.ols(data = df , formula = 'computer_level ~ monthly_salary+sex+labour').fit()\n",
    "model_1.params.round(3)"
   ]
  },
  {
   "cell_type": "code",
   "execution_count": 35,
   "id": "0ae74091",
   "metadata": {},
   "outputs": [
    {
     "data": {
      "text/plain": [
       "Intercept         5.085\n",
       "monthly_salary   -0.000\n",
       "computer_level   -0.827\n",
       "sex              -0.255\n",
       "dtype: float64"
      ]
     },
     "execution_count": 35,
     "metadata": {},
     "output_type": "execute_result"
    }
   ],
   "source": [
    "model_2.params.round(3)"
   ]
  },
  {
   "cell_type": "code",
   "execution_count": 36,
   "id": "47d0787d",
   "metadata": {},
   "outputs": [
    {
     "data": {
      "text/plain": [
       "Intercept         1.832\n",
       "monthly_salary    0.000\n",
       "sex               0.030\n",
       "labour           -0.199\n",
       "dtype: float64"
      ]
     },
     "execution_count": 36,
     "metadata": {},
     "output_type": "execute_result"
    }
   ],
   "source": [
    "model_3.params.round(3)"
   ]
  },
  {
   "cell_type": "code",
   "execution_count": 37,
   "id": "636291d7",
   "metadata": {},
   "outputs": [
    {
     "data": {
      "text/plain": [
       "Intercept         6110.296189\n",
       "sex              -1532.986910\n",
       "computer_level    1309.593528\n",
       "labour            -354.042791\n",
       "dtype: float64"
      ]
     },
     "execution_count": 37,
     "metadata": {},
     "output_type": "execute_result"
    }
   ],
   "source": [
    "model_0.params"
   ]
  },
  {
   "cell_type": "code",
   "execution_count": 38,
   "id": "aaa0f91f",
   "metadata": {},
   "outputs": [
    {
     "data": {
      "text/plain": [
       "0.12781150442972433"
      ]
     },
     "execution_count": 38,
     "metadata": {},
     "output_type": "execute_result"
    }
   ],
   "source": [
    "model.rsquared"
   ]
  },
  {
   "cell_type": "code",
   "execution_count": 39,
   "id": "7f2181cf",
   "metadata": {},
   "outputs": [
    {
     "data": {
      "text/plain": [
       "1.034"
      ]
     },
     "execution_count": 39,
     "metadata": {},
     "output_type": "execute_result"
    }
   ],
   "source": [
    "VIF_1 = 1/(1 - model_1.rsquared.round(3))\n",
    "VIF_1.round(3)"
   ]
  },
  {
   "cell_type": "code",
   "execution_count": 40,
   "id": "2ce02155",
   "metadata": {},
   "outputs": [
    {
     "data": {
      "text/plain": [
       "1.276"
      ]
     },
     "execution_count": 40,
     "metadata": {},
     "output_type": "execute_result"
    }
   ],
   "source": [
    "VIF_2 = 1/(1 - model_2.rsquared.round(3))\n",
    "VIF_2.round(3)"
   ]
  },
  {
   "cell_type": "code",
   "execution_count": 41,
   "id": "4140bfa5",
   "metadata": {},
   "outputs": [
    {
     "data": {
      "text/plain": [
       "1.319"
      ]
     },
     "execution_count": 41,
     "metadata": {},
     "output_type": "execute_result"
    }
   ],
   "source": [
    "VIF_3 = 1/(1 - model_3.rsquared.round(3))\n",
    "VIF_3.round(3)"
   ]
  },
  {
   "cell_type": "markdown",
   "id": "4326fc1d",
   "metadata": {},
   "source": [
    "### Рассмотрим первую модель в деталях"
   ]
  },
  {
   "cell_type": "code",
   "execution_count": 42,
   "id": "075c6b6f",
   "metadata": {},
   "outputs": [
    {
     "data": {
      "text/html": [
       "<div>\n",
       "<style scoped>\n",
       "    .dataframe tbody tr th:only-of-type {\n",
       "        vertical-align: middle;\n",
       "    }\n",
       "\n",
       "    .dataframe tbody tr th {\n",
       "        vertical-align: top;\n",
       "    }\n",
       "\n",
       "    .dataframe thead th {\n",
       "        text-align: right;\n",
       "    }\n",
       "</style>\n",
       "<table border=\"1\" class=\"dataframe\">\n",
       "  <thead>\n",
       "    <tr style=\"text-align: right;\">\n",
       "      <th></th>\n",
       "      <th>monthly_salary</th>\n",
       "      <th>computer_level</th>\n",
       "      <th>sex</th>\n",
       "      <th>labour</th>\n",
       "    </tr>\n",
       "  </thead>\n",
       "  <tbody>\n",
       "    <tr>\n",
       "      <th>0</th>\n",
       "      <td>23833.333333</td>\n",
       "      <td>2</td>\n",
       "      <td>1</td>\n",
       "      <td>4</td>\n",
       "    </tr>\n",
       "    <tr>\n",
       "      <th>1</th>\n",
       "      <td>6583.333333</td>\n",
       "      <td>1</td>\n",
       "      <td>1</td>\n",
       "      <td>4</td>\n",
       "    </tr>\n",
       "    <tr>\n",
       "      <th>2</th>\n",
       "      <td>433.333333</td>\n",
       "      <td>2</td>\n",
       "      <td>2</td>\n",
       "      <td>1</td>\n",
       "    </tr>\n",
       "    <tr>\n",
       "      <th>3</th>\n",
       "      <td>379.000000</td>\n",
       "      <td>0</td>\n",
       "      <td>2</td>\n",
       "      <td>5</td>\n",
       "    </tr>\n",
       "    <tr>\n",
       "      <th>4</th>\n",
       "      <td>4583.333333</td>\n",
       "      <td>2</td>\n",
       "      <td>1</td>\n",
       "      <td>1</td>\n",
       "    </tr>\n",
       "    <tr>\n",
       "      <th>...</th>\n",
       "      <td>...</td>\n",
       "      <td>...</td>\n",
       "      <td>...</td>\n",
       "      <td>...</td>\n",
       "    </tr>\n",
       "    <tr>\n",
       "      <th>2000</th>\n",
       "      <td>4583.333333</td>\n",
       "      <td>2</td>\n",
       "      <td>2</td>\n",
       "      <td>1</td>\n",
       "    </tr>\n",
       "    <tr>\n",
       "      <th>2001</th>\n",
       "      <td>5858.333333</td>\n",
       "      <td>2</td>\n",
       "      <td>1</td>\n",
       "      <td>3</td>\n",
       "    </tr>\n",
       "    <tr>\n",
       "      <th>2002</th>\n",
       "      <td>11000.000000</td>\n",
       "      <td>2</td>\n",
       "      <td>2</td>\n",
       "      <td>2</td>\n",
       "    </tr>\n",
       "    <tr>\n",
       "      <th>2003</th>\n",
       "      <td>693.333333</td>\n",
       "      <td>2</td>\n",
       "      <td>2</td>\n",
       "      <td>1</td>\n",
       "    </tr>\n",
       "    <tr>\n",
       "      <th>2004</th>\n",
       "      <td>975.083333</td>\n",
       "      <td>1</td>\n",
       "      <td>2</td>\n",
       "      <td>5</td>\n",
       "    </tr>\n",
       "  </tbody>\n",
       "</table>\n",
       "<p>2005 rows × 4 columns</p>\n",
       "</div>"
      ],
      "text/plain": [
       "      monthly_salary  computer_level  sex  labour\n",
       "0       23833.333333               2    1       4\n",
       "1        6583.333333               1    1       4\n",
       "2         433.333333               2    2       1\n",
       "3         379.000000               0    2       5\n",
       "4        4583.333333               2    1       1\n",
       "...              ...             ...  ...     ...\n",
       "2000     4583.333333               2    2       1\n",
       "2001     5858.333333               2    1       3\n",
       "2002    11000.000000               2    2       2\n",
       "2003      693.333333               2    2       1\n",
       "2004      975.083333               1    2       5\n",
       "\n",
       "[2005 rows x 4 columns]"
      ]
     },
     "execution_count": 42,
     "metadata": {},
     "output_type": "execute_result"
    }
   ],
   "source": [
    "X = df[['monthly_salary' , 'computer_level',  'sex', 'labour']]\n",
    "X"
   ]
  },
  {
   "cell_type": "code",
   "execution_count": 43,
   "id": "05ea4f35",
   "metadata": {},
   "outputs": [
    {
     "data": {
      "text/plain": [
       "array([[ 0., -0., -0., -0.],\n",
       "       [-0.,  0., -0.,  0.],\n",
       "       [-0., -0.,  0., -0.],\n",
       "       [-0.,  0., -0.,  0.]])"
      ]
     },
     "execution_count": 43,
     "metadata": {},
     "output_type": "execute_result"
    }
   ],
   "source": [
    "np.linalg.inv(X.T@X).round(2)"
   ]
  },
  {
   "cell_type": "code",
   "execution_count": 44,
   "id": "08809ffa",
   "metadata": {},
   "outputs": [
    {
     "data": {
      "text/plain": [
       "0.0"
      ]
     },
     "execution_count": 44,
     "metadata": {},
     "output_type": "execute_result"
    }
   ],
   "source": [
    "np.linalg.det(np.linalg.inv(X.T@X).round(5))"
   ]
  },
  {
   "cell_type": "markdown",
   "id": "f5092511",
   "metadata": {},
   "source": [
    "### Если определитель матрицы равен нулю, это указывает на то, что некоторые ее строки или столбцы являются зависимыми, в нашем случае это строки monthly_salary, sex"
   ]
  },
  {
   "cell_type": "markdown",
   "id": "58356260",
   "metadata": {},
   "source": [
    "# 9. Дамми-переменные"
   ]
  },
  {
   "cell_type": "markdown",
   "id": "b93708a0",
   "metadata": {},
   "source": [
    "Отфильтруем датасет по переменной sex, чтобы проанализировать структурные сдвиги, найдем показатель R2"
   ]
  },
  {
   "cell_type": "code",
   "execution_count": 59,
   "id": "02c0f75c",
   "metadata": {},
   "outputs": [],
   "source": [
    "df2=df[df['sex']=='1']"
   ]
  },
  {
   "cell_type": "code",
   "execution_count": 45,
   "id": "22f509cc",
   "metadata": {},
   "outputs": [],
   "source": [
    "data_string = '''R2                      0.872         0.806  '''\n",
    "rest, unrest =np.float_(re.findall(r'([-+]?\\d+.\\d+)', data_string)) "
   ]
  },
  {
   "cell_type": "code",
   "execution_count": 48,
   "id": "55139d22",
   "metadata": {},
   "outputs": [
    {
     "data": {
      "text/plain": [
       "-169.76"
      ]
     },
     "execution_count": 48,
     "metadata": {},
     "output_type": "execute_result"
    }
   ],
   "source": [
    "F_nab = (unrest - rest)/(1-unrest)*(2005-9)/4\n",
    "F_nab.round(2)"
   ]
  },
  {
   "cell_type": "markdown",
   "id": "bcaa2c49",
   "metadata": {},
   "source": [
    "$$\n",
    "Н0: \\beta_{monthly_salary}=\\beta_{sex}=\\beta_{computer_level}=\\beta{labour}=0\n",
    "$$\n",
    "$$\n",
    "Н1: \\beta_{monthly_salary}^2+\\beta_{sex}^2+\\beta_{computer_level}^2+\\beta{labour}>0\n",
    "$$"
   ]
  },
  {
   "cell_type": "code",
   "execution_count": 49,
   "id": "a8d04851",
   "metadata": {},
   "outputs": [
    {
     "data": {
      "text/plain": [
       "2.384692685857469"
      ]
     },
     "execution_count": 49,
     "metadata": {},
     "output_type": "execute_result"
    }
   ],
   "source": [
    "\n",
    "F_cr = stats.f.ppf(1-0.05,4,706-8)\n",
    "F_cr"
   ]
  },
  {
   "cell_type": "markdown",
   "id": "48add325",
   "metadata": {},
   "source": [
    "$$\n",
    "F_{obs}<F_{cr}\n",
    "$$\n",
    "Нет оснований отвергать гипотезу Н0, структурные сдвиги не значимы"
   ]
  },
  {
   "cell_type": "markdown",
   "id": "b5e0ef75",
   "metadata": {},
   "source": [
    "# 10. Спецификация"
   ]
  },
  {
   "cell_type": "code",
   "execution_count": 61,
   "id": "7d7d9bc2",
   "metadata": {},
   "outputs": [
    {
     "data": {
      "text/plain": [
       "array([5780.32517019, 4470.73164211, 5309.4666345 , ..., 4955.42384322,\n",
       "       5309.4666345 , 2583.70194129])"
      ]
     },
     "execution_count": 61,
     "metadata": {},
     "output_type": "execute_result"
    }
   ],
   "source": [
    "model3 = smf.ols(data=df, formula='monthly_salary ~ sex+computer_level+labour').fit()\n",
    "hat_output = model.predict()\n",
    "model3.predict()"
   ]
  },
  {
   "cell_type": "code",
   "execution_count": 62,
   "id": "805a88ba",
   "metadata": {},
   "outputs": [
    {
     "data": {
      "text/html": [
       "<div>\n",
       "<style scoped>\n",
       "    .dataframe tbody tr th:only-of-type {\n",
       "        vertical-align: middle;\n",
       "    }\n",
       "\n",
       "    .dataframe tbody tr th {\n",
       "        vertical-align: top;\n",
       "    }\n",
       "\n",
       "    .dataframe thead th {\n",
       "        text-align: right;\n",
       "    }\n",
       "</style>\n",
       "<table border=\"1\" class=\"dataframe\">\n",
       "  <thead>\n",
       "    <tr style=\"text-align: right;\">\n",
       "      <th></th>\n",
       "      <th>industry</th>\n",
       "      <th>occupation</th>\n",
       "      <th>yrs_qual</th>\n",
       "      <th>sex</th>\n",
       "      <th>highest_qual</th>\n",
       "      <th>area_of_study</th>\n",
       "      <th>influencing</th>\n",
       "      <th>negotiating</th>\n",
       "      <th>sector</th>\n",
       "      <th>workforce_change</th>\n",
       "      <th>...</th>\n",
       "      <th>problem_solving_long</th>\n",
       "      <th>labour</th>\n",
       "      <th>manual_skill</th>\n",
       "      <th>computer</th>\n",
       "      <th>group_meetings</th>\n",
       "      <th>computer_level</th>\n",
       "      <th>monthly_salary</th>\n",
       "      <th>ms2</th>\n",
       "      <th>ms3</th>\n",
       "      <th>ms4</th>\n",
       "    </tr>\n",
       "  </thead>\n",
       "  <tbody>\n",
       "    <tr>\n",
       "      <th>0</th>\n",
       "      <td>Q</td>\n",
       "      <td>2</td>\n",
       "      <td>19</td>\n",
       "      <td>1</td>\n",
       "      <td>13</td>\n",
       "      <td>4</td>\n",
       "      <td>2</td>\n",
       "      <td>1</td>\n",
       "      <td>1</td>\n",
       "      <td>3</td>\n",
       "      <td>...</td>\n",
       "      <td>4</td>\n",
       "      <td>4</td>\n",
       "      <td>5</td>\n",
       "      <td>1</td>\n",
       "      <td>1</td>\n",
       "      <td>2</td>\n",
       "      <td>23833.333333</td>\n",
       "      <td>3.341216e+07</td>\n",
       "      <td>1.931331e+11</td>\n",
       "      <td>1.116372e+15</td>\n",
       "    </tr>\n",
       "    <tr>\n",
       "      <th>1</th>\n",
       "      <td>C</td>\n",
       "      <td>9</td>\n",
       "      <td>14</td>\n",
       "      <td>1</td>\n",
       "      <td>11</td>\n",
       "      <td>7</td>\n",
       "      <td>4</td>\n",
       "      <td>2</td>\n",
       "      <td>1</td>\n",
       "      <td>1</td>\n",
       "      <td>...</td>\n",
       "      <td>3</td>\n",
       "      <td>4</td>\n",
       "      <td>5</td>\n",
       "      <td>1</td>\n",
       "      <td>1</td>\n",
       "      <td>1</td>\n",
       "      <td>6583.333333</td>\n",
       "      <td>1.998744e+07</td>\n",
       "      <td>8.935849e+10</td>\n",
       "      <td>3.994978e+14</td>\n",
       "    </tr>\n",
       "    <tr>\n",
       "      <th>2</th>\n",
       "      <td>L</td>\n",
       "      <td>3</td>\n",
       "      <td>16</td>\n",
       "      <td>2</td>\n",
       "      <td>12</td>\n",
       "      <td>4</td>\n",
       "      <td>2</td>\n",
       "      <td>1</td>\n",
       "      <td>1</td>\n",
       "      <td>3</td>\n",
       "      <td>...</td>\n",
       "      <td>2</td>\n",
       "      <td>1</td>\n",
       "      <td>5</td>\n",
       "      <td>1</td>\n",
       "      <td>1</td>\n",
       "      <td>2</td>\n",
       "      <td>433.333333</td>\n",
       "      <td>2.819044e+07</td>\n",
       "      <td>1.496762e+11</td>\n",
       "      <td>7.947007e+14</td>\n",
       "    </tr>\n",
       "    <tr>\n",
       "      <th>3</th>\n",
       "      <td>Q</td>\n",
       "      <td>5</td>\n",
       "      <td>12</td>\n",
       "      <td>2</td>\n",
       "      <td>7</td>\n",
       "      <td>4</td>\n",
       "      <td>5</td>\n",
       "      <td>4</td>\n",
       "      <td>2</td>\n",
       "      <td>1</td>\n",
       "      <td>...</td>\n",
       "      <td>2</td>\n",
       "      <td>5</td>\n",
       "      <td>5</td>\n",
       "      <td>2</td>\n",
       "      <td>1</td>\n",
       "      <td>0</td>\n",
       "      <td>379.000000</td>\n",
       "      <td>1.623352e+06</td>\n",
       "      <td>2.068327e+09</td>\n",
       "      <td>2.635273e+12</td>\n",
       "    </tr>\n",
       "    <tr>\n",
       "      <th>4</th>\n",
       "      <td>P</td>\n",
       "      <td>1</td>\n",
       "      <td>18</td>\n",
       "      <td>1</td>\n",
       "      <td>13</td>\n",
       "      <td>4</td>\n",
       "      <td>3</td>\n",
       "      <td>4</td>\n",
       "      <td>3</td>\n",
       "      <td>3</td>\n",
       "      <td>...</td>\n",
       "      <td>4</td>\n",
       "      <td>1</td>\n",
       "      <td>5</td>\n",
       "      <td>1</td>\n",
       "      <td>2</td>\n",
       "      <td>2</td>\n",
       "      <td>4583.333333</td>\n",
       "      <td>4.681917e+07</td>\n",
       "      <td>3.203580e+11</td>\n",
       "      <td>2.192035e+15</td>\n",
       "    </tr>\n",
       "    <tr>\n",
       "      <th>...</th>\n",
       "      <td>...</td>\n",
       "      <td>...</td>\n",
       "      <td>...</td>\n",
       "      <td>...</td>\n",
       "      <td>...</td>\n",
       "      <td>...</td>\n",
       "      <td>...</td>\n",
       "      <td>...</td>\n",
       "      <td>...</td>\n",
       "      <td>...</td>\n",
       "      <td>...</td>\n",
       "      <td>...</td>\n",
       "      <td>...</td>\n",
       "      <td>...</td>\n",
       "      <td>...</td>\n",
       "      <td>...</td>\n",
       "      <td>...</td>\n",
       "      <td>...</td>\n",
       "      <td>...</td>\n",
       "      <td>...</td>\n",
       "      <td>...</td>\n",
       "    </tr>\n",
       "    <tr>\n",
       "      <th>2000</th>\n",
       "      <td>N</td>\n",
       "      <td>3</td>\n",
       "      <td>12</td>\n",
       "      <td>2</td>\n",
       "      <td>7</td>\n",
       "      <td>8</td>\n",
       "      <td>4</td>\n",
       "      <td>5</td>\n",
       "      <td>1</td>\n",
       "      <td>1</td>\n",
       "      <td>...</td>\n",
       "      <td>3</td>\n",
       "      <td>1</td>\n",
       "      <td>5</td>\n",
       "      <td>1</td>\n",
       "      <td>5</td>\n",
       "      <td>2</td>\n",
       "      <td>4583.333333</td>\n",
       "      <td>2.819044e+07</td>\n",
       "      <td>1.496762e+11</td>\n",
       "      <td>7.947007e+14</td>\n",
       "    </tr>\n",
       "    <tr>\n",
       "      <th>2001</th>\n",
       "      <td>C</td>\n",
       "      <td>3</td>\n",
       "      <td>16</td>\n",
       "      <td>1</td>\n",
       "      <td>12</td>\n",
       "      <td>4</td>\n",
       "      <td>3</td>\n",
       "      <td>3</td>\n",
       "      <td>1</td>\n",
       "      <td>3</td>\n",
       "      <td>...</td>\n",
       "      <td>2</td>\n",
       "      <td>3</td>\n",
       "      <td>4</td>\n",
       "      <td>1</td>\n",
       "      <td>1</td>\n",
       "      <td>2</td>\n",
       "      <td>5858.333333</td>\n",
       "      <td>3.763047e+07</td>\n",
       "      <td>2.308392e+11</td>\n",
       "      <td>1.416052e+15</td>\n",
       "    </tr>\n",
       "    <tr>\n",
       "      <th>2002</th>\n",
       "      <td>Q</td>\n",
       "      <td>1</td>\n",
       "      <td>18</td>\n",
       "      <td>2</td>\n",
       "      <td>13</td>\n",
       "      <td>4</td>\n",
       "      <td>4</td>\n",
       "      <td>1</td>\n",
       "      <td>2</td>\n",
       "      <td>2</td>\n",
       "      <td>...</td>\n",
       "      <td>3</td>\n",
       "      <td>2</td>\n",
       "      <td>5</td>\n",
       "      <td>1</td>\n",
       "      <td>2</td>\n",
       "      <td>2</td>\n",
       "      <td>11000.000000</td>\n",
       "      <td>2.455623e+07</td>\n",
       "      <td>1.216865e+11</td>\n",
       "      <td>6.030082e+14</td>\n",
       "    </tr>\n",
       "    <tr>\n",
       "      <th>2003</th>\n",
       "      <td>M</td>\n",
       "      <td>4</td>\n",
       "      <td>12</td>\n",
       "      <td>2</td>\n",
       "      <td>7</td>\n",
       "      <td>4</td>\n",
       "      <td>5</td>\n",
       "      <td>1</td>\n",
       "      <td>2</td>\n",
       "      <td>1</td>\n",
       "      <td>...</td>\n",
       "      <td>4</td>\n",
       "      <td>1</td>\n",
       "      <td>5</td>\n",
       "      <td>1</td>\n",
       "      <td>1</td>\n",
       "      <td>2</td>\n",
       "      <td>693.333333</td>\n",
       "      <td>2.819044e+07</td>\n",
       "      <td>1.496762e+11</td>\n",
       "      <td>7.947007e+14</td>\n",
       "    </tr>\n",
       "    <tr>\n",
       "      <th>2004</th>\n",
       "      <td>G</td>\n",
       "      <td>5</td>\n",
       "      <td>12</td>\n",
       "      <td>2</td>\n",
       "      <td>7</td>\n",
       "      <td>7</td>\n",
       "      <td>1</td>\n",
       "      <td>1</td>\n",
       "      <td>1</td>\n",
       "      <td>3</td>\n",
       "      <td>...</td>\n",
       "      <td>1</td>\n",
       "      <td>5</td>\n",
       "      <td>5</td>\n",
       "      <td>1</td>\n",
       "      <td>1</td>\n",
       "      <td>1</td>\n",
       "      <td>975.083333</td>\n",
       "      <td>6.675516e+06</td>\n",
       "      <td>1.724754e+10</td>\n",
       "      <td>4.456251e+13</td>\n",
       "    </tr>\n",
       "  </tbody>\n",
       "</table>\n",
       "<p>2005 rows × 31 columns</p>\n",
       "</div>"
      ],
      "text/plain": [
       "     industry  occupation  yrs_qual  sex  highest_qual  area_of_study  \\\n",
       "0           Q           2        19    1            13              4   \n",
       "1           C           9        14    1            11              7   \n",
       "2           L           3        16    2            12              4   \n",
       "3           Q           5        12    2             7              4   \n",
       "4           P           1        18    1            13              4   \n",
       "...       ...         ...       ...  ...           ...            ...   \n",
       "2000        N           3        12    2             7              8   \n",
       "2001        C           3        16    1            12              4   \n",
       "2002        Q           1        18    2            13              4   \n",
       "2003        M           4        12    2             7              4   \n",
       "2004        G           5        12    2             7              7   \n",
       "\n",
       "      influencing  negotiating  sector  workforce_change  ...  \\\n",
       "0               2            1       1                 3  ...   \n",
       "1               4            2       1                 1  ...   \n",
       "2               2            1       1                 3  ...   \n",
       "3               5            4       2                 1  ...   \n",
       "4               3            4       3                 3  ...   \n",
       "...           ...          ...     ...               ...  ...   \n",
       "2000            4            5       1                 1  ...   \n",
       "2001            3            3       1                 3  ...   \n",
       "2002            4            1       2                 2  ...   \n",
       "2003            5            1       2                 1  ...   \n",
       "2004            1            1       1                 3  ...   \n",
       "\n",
       "      problem_solving_long  labour  manual_skill  computer  group_meetings  \\\n",
       "0                        4       4             5         1               1   \n",
       "1                        3       4             5         1               1   \n",
       "2                        2       1             5         1               1   \n",
       "3                        2       5             5         2               1   \n",
       "4                        4       1             5         1               2   \n",
       "...                    ...     ...           ...       ...             ...   \n",
       "2000                     3       1             5         1               5   \n",
       "2001                     2       3             4         1               1   \n",
       "2002                     3       2             5         1               2   \n",
       "2003                     4       1             5         1               1   \n",
       "2004                     1       5             5         1               1   \n",
       "\n",
       "      computer_level  monthly_salary           ms2           ms3           ms4  \n",
       "0                  2    23833.333333  3.341216e+07  1.931331e+11  1.116372e+15  \n",
       "1                  1     6583.333333  1.998744e+07  8.935849e+10  3.994978e+14  \n",
       "2                  2      433.333333  2.819044e+07  1.496762e+11  7.947007e+14  \n",
       "3                  0      379.000000  1.623352e+06  2.068327e+09  2.635273e+12  \n",
       "4                  2     4583.333333  4.681917e+07  3.203580e+11  2.192035e+15  \n",
       "...              ...             ...           ...           ...           ...  \n",
       "2000               2     4583.333333  2.819044e+07  1.496762e+11  7.947007e+14  \n",
       "2001               2     5858.333333  3.763047e+07  2.308392e+11  1.416052e+15  \n",
       "2002               2    11000.000000  2.455623e+07  1.216865e+11  6.030082e+14  \n",
       "2003               2      693.333333  2.819044e+07  1.496762e+11  7.947007e+14  \n",
       "2004               1      975.083333  6.675516e+06  1.724754e+10  4.456251e+13  \n",
       "\n",
       "[2005 rows x 31 columns]"
      ]
     },
     "execution_count": 62,
     "metadata": {},
     "output_type": "execute_result"
    }
   ],
   "source": [
    "df['ms2'] =model.predict()**2\n",
    "df['ms3'] =model.predict()**3\n",
    "df['ms4'] =model.predict()**4\n",
    "df"
   ]
  },
  {
   "cell_type": "code",
   "execution_count": 63,
   "id": "7d326350",
   "metadata": {},
   "outputs": [
    {
     "data": {
      "text/plain": [
       "Intercept         1.478439e+01\n",
       "sex               1.658054e+01\n",
       "computer_level    3.877047e+00\n",
       "labour            1.752132e+02\n",
       "ms2               2.769265e-04\n",
       "ms3              -2.083026e-08\n",
       "ms4               1.873137e-13\n",
       "dtype: float64"
      ]
     },
     "execution_count": 63,
     "metadata": {},
     "output_type": "execute_result"
    }
   ],
   "source": [
    "model4 = smf.ols(data=df, formula='monthly_salary ~ sex+computer_level+labour+ms2+ms3+ms4').fit()\n",
    "model4.params"
   ]
  },
  {
   "cell_type": "code",
   "execution_count": 64,
   "id": "5c236ce4",
   "metadata": {},
   "outputs": [],
   "source": [
    "R4=model4.rsquared\n",
    "R4_res = model.rsquared"
   ]
  },
  {
   "cell_type": "code",
   "execution_count": 66,
   "id": "df951141",
   "metadata": {},
   "outputs": [
    {
     "data": {
      "text/plain": [
       "-0.7263907147810847"
      ]
     },
     "execution_count": 66,
     "metadata": {},
     "output_type": "execute_result"
    }
   ],
   "source": [
    "F_obs=((R4 - R4_res)/(1-R4))*((len(df)-7)/3)\n",
    "F_obs"
   ]
  },
  {
   "cell_type": "code",
   "execution_count": 67,
   "id": "29334b53",
   "metadata": {},
   "outputs": [
    {
     "data": {
      "text/plain": [
       "2.61"
      ]
     },
     "execution_count": 67,
     "metadata": {},
     "output_type": "execute_result"
    }
   ],
   "source": [
    "alpha = 0.05\n",
    "stats.f.ppf(1-alpha,3,len(df)-7).round(2)"
   ]
  },
  {
   "cell_type": "markdown",
   "id": "a29c55f1",
   "metadata": {},
   "source": [
    "### Гипотезы:\n",
    "$$\n",
    "H0: \\beta_{sex}=\\beta_{computer_level}=\\beta_{monthly_salary}=\\beta_{labour}=0\n",
    "$$\n",
    "$$\n",
    "H1: \\beta_{sex}^2+\\beta_{computer_level}^2+\\beta_{monthly_salary}^2+\\beta_{labour}^2>0\n",
    "$$"
   ]
  },
  {
   "cell_type": "markdown",
   "id": "0d20b6af",
   "metadata": {},
   "source": [
    "$$\n",
    "F_{obs} < F_{cr}\n",
    "$$\n",
    "Принимаем гипотезу Н1"
   ]
  },
  {
   "cell_type": "markdown",
   "id": "17d27288",
   "metadata": {},
   "source": [
    "# 11. Гетероскедастичность"
   ]
  },
  {
   "cell_type": "code",
   "execution_count": 68,
   "id": "bafab9f0",
   "metadata": {},
   "outputs": [],
   "source": [
    "df['res2']=model.resid**2\n",
    "df['res']=model.resid"
   ]
  },
  {
   "cell_type": "code",
   "execution_count": 69,
   "id": "5c0a1769",
   "metadata": {},
   "outputs": [],
   "source": [
    "sub_model= smf.ols(data=df, formula='res2~sex+computer_level+labour').fit()"
   ]
  },
  {
   "cell_type": "code",
   "execution_count": 70,
   "id": "e9246031",
   "metadata": {},
   "outputs": [
    {
     "data": {
      "text/plain": [
       "2.61"
      ]
     },
     "execution_count": 70,
     "metadata": {},
     "output_type": "execute_result"
    }
   ],
   "source": [
    "St = np.round(len(df)*sub_model.rsquared,2)\n",
    "St"
   ]
  },
  {
   "cell_type": "code",
   "execution_count": 71,
   "id": "4ddc18d1",
   "metadata": {},
   "outputs": [
    {
     "data": {
      "text/plain": [
       "12.591587243743977"
      ]
     },
     "execution_count": 71,
     "metadata": {},
     "output_type": "execute_result"
    }
   ],
   "source": [
    "Hi2 = stats.chi2.ppf(1-0.05,6)\n",
    "Hi2"
   ]
  },
  {
   "cell_type": "markdown",
   "id": "70418e79",
   "metadata": {},
   "source": [
    "$$\n",
    "nR_{0}^2 < X_{p}^2\n",
    "$$\n",
    "Нет оснований отвергать Н0, тест указывает на гомоскедастичность"
   ]
  },
  {
   "cell_type": "markdown",
   "id": "27f351dd",
   "metadata": {},
   "source": [
    "# 12. Серийная корреляция"
   ]
  },
  {
   "cell_type": "code",
   "execution_count": 72,
   "id": "09564910",
   "metadata": {},
   "outputs": [],
   "source": [
    "resSq = sum(model.resid**2)"
   ]
  },
  {
   "cell_type": "code",
   "execution_count": 73,
   "id": "d93719b2",
   "metadata": {},
   "outputs": [],
   "source": [
    "sum_resid = 0\n",
    "for i in range(len(model.resid)-1):\n",
    "    sum_resid+=(model.resid[i+1]-model.resid[i])**2"
   ]
  },
  {
   "cell_type": "code",
   "execution_count": 74,
   "id": "63777a7f",
   "metadata": {},
   "outputs": [
    {
     "data": {
      "text/plain": [
       "1.9212953943550777"
      ]
     },
     "execution_count": 74,
     "metadata": {},
     "output_type": "execute_result"
    }
   ],
   "source": [
    "\n",
    "sum_resid/resSq"
   ]
  },
  {
   "cell_type": "markdown",
   "id": "d0fe7bdb",
   "metadata": {},
   "source": [
    "$$\n",
    "p ≠ 0\n",
    "$$\n",
    "Гипотеза Н0 отвергается, есть серийная корреляция"
   ]
  },
  {
   "cell_type": "code",
   "execution_count": null,
   "id": "87c1d76a",
   "metadata": {},
   "outputs": [],
   "source": []
  }
 ],
 "metadata": {
  "kernelspec": {
   "display_name": "Python 3 (ipykernel)",
   "language": "python",
   "name": "python3"
  },
  "language_info": {
   "codemirror_mode": {
    "name": "ipython",
    "version": 3
   },
   "file_extension": ".py",
   "mimetype": "text/x-python",
   "name": "python",
   "nbconvert_exporter": "python",
   "pygments_lexer": "ipython3",
   "version": "3.9.15"
  }
 },
 "nbformat": 4,
 "nbformat_minor": 5
}
