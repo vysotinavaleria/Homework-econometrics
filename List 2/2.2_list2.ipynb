{
 "cells": [
  {
   "cell_type": "code",
   "execution_count": 1,
   "id": "e12bb86b",
   "metadata": {},
   "outputs": [],
   "source": [
    "import numpy as np # linear algebra \n",
    "import pandas as pd # data processing, CSV file I/O (e.g. pd.read_csv)\n",
    "# stats models: regression fitting via formulas\n",
    "import statsmodels.formula.api as smf\n",
    "# stats models: regression fitting via matrices of regression design\n",
    "import statsmodels.api as sm"
   ]
  },
  {
   "cell_type": "code",
   "execution_count": 2,
   "id": "2d8510aa",
   "metadata": {},
   "outputs": [
    {
     "data": {
      "text/html": [
       "<div>\n",
       "<style scoped>\n",
       "    .dataframe tbody tr th:only-of-type {\n",
       "        vertical-align: middle;\n",
       "    }\n",
       "\n",
       "    .dataframe tbody tr th {\n",
       "        vertical-align: top;\n",
       "    }\n",
       "\n",
       "    .dataframe thead th {\n",
       "        text-align: right;\n",
       "    }\n",
       "</style>\n",
       "<table border=\"1\" class=\"dataframe\">\n",
       "  <thead>\n",
       "    <tr style=\"text-align: right;\">\n",
       "      <th></th>\n",
       "      <th>IQ</th>\n",
       "      <th>south</th>\n",
       "      <th>urban</th>\n",
       "      <th>age</th>\n",
       "      <th>married</th>\n",
       "      <th>KWW</th>\n",
       "    </tr>\n",
       "  </thead>\n",
       "  <tbody>\n",
       "    <tr>\n",
       "      <th>count</th>\n",
       "      <td>935.000000</td>\n",
       "      <td>935.000000</td>\n",
       "      <td>935.000000</td>\n",
       "      <td>935.000000</td>\n",
       "      <td>935.000000</td>\n",
       "      <td>935.000000</td>\n",
       "    </tr>\n",
       "    <tr>\n",
       "      <th>mean</th>\n",
       "      <td>101.282353</td>\n",
       "      <td>0.341176</td>\n",
       "      <td>0.717647</td>\n",
       "      <td>33.080214</td>\n",
       "      <td>0.893048</td>\n",
       "      <td>35.744385</td>\n",
       "    </tr>\n",
       "    <tr>\n",
       "      <th>std</th>\n",
       "      <td>15.052636</td>\n",
       "      <td>0.474358</td>\n",
       "      <td>0.450385</td>\n",
       "      <td>3.107803</td>\n",
       "      <td>0.309217</td>\n",
       "      <td>7.638788</td>\n",
       "    </tr>\n",
       "    <tr>\n",
       "      <th>min</th>\n",
       "      <td>50.000000</td>\n",
       "      <td>0.000000</td>\n",
       "      <td>0.000000</td>\n",
       "      <td>28.000000</td>\n",
       "      <td>0.000000</td>\n",
       "      <td>12.000000</td>\n",
       "    </tr>\n",
       "    <tr>\n",
       "      <th>25%</th>\n",
       "      <td>92.000000</td>\n",
       "      <td>0.000000</td>\n",
       "      <td>0.000000</td>\n",
       "      <td>30.000000</td>\n",
       "      <td>1.000000</td>\n",
       "      <td>31.000000</td>\n",
       "    </tr>\n",
       "    <tr>\n",
       "      <th>50%</th>\n",
       "      <td>102.000000</td>\n",
       "      <td>0.000000</td>\n",
       "      <td>1.000000</td>\n",
       "      <td>33.000000</td>\n",
       "      <td>1.000000</td>\n",
       "      <td>37.000000</td>\n",
       "    </tr>\n",
       "    <tr>\n",
       "      <th>75%</th>\n",
       "      <td>112.000000</td>\n",
       "      <td>1.000000</td>\n",
       "      <td>1.000000</td>\n",
       "      <td>36.000000</td>\n",
       "      <td>1.000000</td>\n",
       "      <td>41.000000</td>\n",
       "    </tr>\n",
       "    <tr>\n",
       "      <th>max</th>\n",
       "      <td>145.000000</td>\n",
       "      <td>1.000000</td>\n",
       "      <td>1.000000</td>\n",
       "      <td>38.000000</td>\n",
       "      <td>1.000000</td>\n",
       "      <td>56.000000</td>\n",
       "    </tr>\n",
       "  </tbody>\n",
       "</table>\n",
       "</div>"
      ],
      "text/plain": [
       "               IQ       south       urban         age     married         KWW\n",
       "count  935.000000  935.000000  935.000000  935.000000  935.000000  935.000000\n",
       "mean   101.282353    0.341176    0.717647   33.080214    0.893048   35.744385\n",
       "std     15.052636    0.474358    0.450385    3.107803    0.309217    7.638788\n",
       "min     50.000000    0.000000    0.000000   28.000000    0.000000   12.000000\n",
       "25%     92.000000    0.000000    0.000000   30.000000    1.000000   31.000000\n",
       "50%    102.000000    0.000000    1.000000   33.000000    1.000000   37.000000\n",
       "75%    112.000000    1.000000    1.000000   36.000000    1.000000   41.000000\n",
       "max    145.000000    1.000000    1.000000   38.000000    1.000000   56.000000"
      ]
     },
     "execution_count": 2,
     "metadata": {},
     "output_type": "execute_result"
    }
   ],
   "source": [
    "df = pd.read_csv('https://raw.githubusercontent.com/artamonoff/Econometrica/master/python-notebooks/data-csv/wage2.csv')\n",
    "# Описательные статистики по переменным модели\n",
    "df[['IQ', 'south', 'urban', 'age', 'married', 'KWW']].describe()"
   ]
  },
  {
   "cell_type": "code",
   "execution_count": 4,
   "id": "11f584cc",
   "metadata": {},
   "outputs": [
    {
     "data": {
      "text/plain": [
       "Intercept    5.126\n",
       "IQ           0.007\n",
       "south       -0.101\n",
       "urban        0.165\n",
       "age          0.014\n",
       "married      0.191\n",
       "KWW          0.007\n",
       "dtype: float64"
      ]
     },
     "execution_count": 4,
     "metadata": {},
     "output_type": "execute_result"
    }
   ],
   "source": [
    "# специфицируем моделл через формулу\n",
    "wage_eq1 = smf.ols(formula='np.log(wage)~IQ+south+urban+age+married+KWW', data=df).fit()\n",
    "# Коэфициенты модели с округление\n",
    "wage_eq1.params.round(3)"
   ]
  },
  {
   "cell_type": "markdown",
   "id": "383306f7",
   "metadata": {},
   "source": [
    "### Спецификация \n",
    "$$\n",
    "log(wage)=5.126+0.007*IQ-0.101*south+ 0.165*urban+0.014*age+0.191*married+0.007*KWW\n",
    "$$"
   ]
  },
  {
   "cell_type": "markdown",
   "id": "d27bab03",
   "metadata": {},
   "source": [
    "### Интерпретация\n",
    "1. При изменении результата теста IQ на 1, месячная зарплата увеличится на 7%, при прочих равных условиях.\n",
    "2. При изменении восраста на год, месянчя зарплата увеличится на 14%, при прочих равных условиях."
   ]
  }
 ],
 "metadata": {
  "kernelspec": {
   "display_name": "Python 3 (ipykernel)",
   "language": "python",
   "name": "python3"
  },
  "language_info": {
   "codemirror_mode": {
    "name": "ipython",
    "version": 3
   },
   "file_extension": ".py",
   "mimetype": "text/x-python",
   "name": "python",
   "nbconvert_exporter": "python",
   "pygments_lexer": "ipython3",
   "version": "3.9.15"
  }
 },
 "nbformat": 4,
 "nbformat_minor": 5
}
