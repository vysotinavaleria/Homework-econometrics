{
 "cells": [
  {
   "cell_type": "code",
   "execution_count": 1,
   "id": "1c6b3a57",
   "metadata": {},
   "outputs": [],
   "source": [
    "import numpy as np # linear algebra \n",
    "import pandas as pd # data processing, CSV file I/O (e.g. pd.read_csv)\n",
    "# stats models: regression fitting via formulas\n",
    "import statsmodels.formula.api as smf\n",
    "# stats models: regression fitting via matrices of regression design\n",
    "import statsmodels.api as sm"
   ]
  },
  {
   "cell_type": "code",
   "execution_count": 2,
   "id": "4ff4884a",
   "metadata": {},
   "outputs": [
    {
     "data": {
      "text/html": [
       "<div>\n",
       "<style scoped>\n",
       "    .dataframe tbody tr th:only-of-type {\n",
       "        vertical-align: middle;\n",
       "    }\n",
       "\n",
       "    .dataframe tbody tr th {\n",
       "        vertical-align: top;\n",
       "    }\n",
       "\n",
       "    .dataframe thead th {\n",
       "        text-align: right;\n",
       "    }\n",
       "</style>\n",
       "<table border=\"1\" class=\"dataframe\">\n",
       "  <thead>\n",
       "    <tr style=\"text-align: right;\">\n",
       "      <th></th>\n",
       "      <th>sleep</th>\n",
       "      <th>hrwage</th>\n",
       "      <th>smsa</th>\n",
       "      <th>totwrk</th>\n",
       "      <th>male</th>\n",
       "      <th>marr</th>\n",
       "      <th>age</th>\n",
       "      <th>south</th>\n",
       "      <th>yngkid</th>\n",
       "    </tr>\n",
       "  </thead>\n",
       "  <tbody>\n",
       "    <tr>\n",
       "      <th>count</th>\n",
       "      <td>706.000000</td>\n",
       "      <td>532.000000</td>\n",
       "      <td>706.000000</td>\n",
       "      <td>706.000000</td>\n",
       "      <td>706.000000</td>\n",
       "      <td>706.00000</td>\n",
       "      <td>706.000000</td>\n",
       "      <td>706.000000</td>\n",
       "      <td>706.000000</td>\n",
       "    </tr>\n",
       "    <tr>\n",
       "      <th>mean</th>\n",
       "      <td>3266.355524</td>\n",
       "      <td>5.082839</td>\n",
       "      <td>0.399433</td>\n",
       "      <td>2122.920680</td>\n",
       "      <td>0.566572</td>\n",
       "      <td>0.82153</td>\n",
       "      <td>38.815864</td>\n",
       "      <td>0.184136</td>\n",
       "      <td>0.128895</td>\n",
       "    </tr>\n",
       "    <tr>\n",
       "      <th>std</th>\n",
       "      <td>444.413448</td>\n",
       "      <td>3.704385</td>\n",
       "      <td>0.490129</td>\n",
       "      <td>947.470123</td>\n",
       "      <td>0.495900</td>\n",
       "      <td>0.38318</td>\n",
       "      <td>11.342637</td>\n",
       "      <td>0.387870</td>\n",
       "      <td>0.335321</td>\n",
       "    </tr>\n",
       "    <tr>\n",
       "      <th>min</th>\n",
       "      <td>755.000000</td>\n",
       "      <td>0.350000</td>\n",
       "      <td>0.000000</td>\n",
       "      <td>0.000000</td>\n",
       "      <td>0.000000</td>\n",
       "      <td>0.00000</td>\n",
       "      <td>23.000000</td>\n",
       "      <td>0.000000</td>\n",
       "      <td>0.000000</td>\n",
       "    </tr>\n",
       "    <tr>\n",
       "      <th>25%</th>\n",
       "      <td>3015.000000</td>\n",
       "      <td>2.890002</td>\n",
       "      <td>0.000000</td>\n",
       "      <td>1553.500000</td>\n",
       "      <td>0.000000</td>\n",
       "      <td>1.00000</td>\n",
       "      <td>29.000000</td>\n",
       "      <td>0.000000</td>\n",
       "      <td>0.000000</td>\n",
       "    </tr>\n",
       "    <tr>\n",
       "      <th>50%</th>\n",
       "      <td>3270.500000</td>\n",
       "      <td>4.379999</td>\n",
       "      <td>0.000000</td>\n",
       "      <td>2288.000000</td>\n",
       "      <td>1.000000</td>\n",
       "      <td>1.00000</td>\n",
       "      <td>36.000000</td>\n",
       "      <td>0.000000</td>\n",
       "      <td>0.000000</td>\n",
       "    </tr>\n",
       "    <tr>\n",
       "      <th>75%</th>\n",
       "      <td>3532.250000</td>\n",
       "      <td>6.210001</td>\n",
       "      <td>1.000000</td>\n",
       "      <td>2691.750000</td>\n",
       "      <td>1.000000</td>\n",
       "      <td>1.00000</td>\n",
       "      <td>48.000000</td>\n",
       "      <td>0.000000</td>\n",
       "      <td>0.000000</td>\n",
       "    </tr>\n",
       "    <tr>\n",
       "      <th>max</th>\n",
       "      <td>4695.000000</td>\n",
       "      <td>35.509987</td>\n",
       "      <td>1.000000</td>\n",
       "      <td>6415.000000</td>\n",
       "      <td>1.000000</td>\n",
       "      <td>1.00000</td>\n",
       "      <td>65.000000</td>\n",
       "      <td>1.000000</td>\n",
       "      <td>1.000000</td>\n",
       "    </tr>\n",
       "  </tbody>\n",
       "</table>\n",
       "</div>"
      ],
      "text/plain": [
       "             sleep      hrwage        smsa       totwrk        male  \\\n",
       "count   706.000000  532.000000  706.000000   706.000000  706.000000   \n",
       "mean   3266.355524    5.082839    0.399433  2122.920680    0.566572   \n",
       "std     444.413448    3.704385    0.490129   947.470123    0.495900   \n",
       "min     755.000000    0.350000    0.000000     0.000000    0.000000   \n",
       "25%    3015.000000    2.890002    0.000000  1553.500000    0.000000   \n",
       "50%    3270.500000    4.379999    0.000000  2288.000000    1.000000   \n",
       "75%    3532.250000    6.210001    1.000000  2691.750000    1.000000   \n",
       "max    4695.000000   35.509987    1.000000  6415.000000    1.000000   \n",
       "\n",
       "            marr         age       south      yngkid  \n",
       "count  706.00000  706.000000  706.000000  706.000000  \n",
       "mean     0.82153   38.815864    0.184136    0.128895  \n",
       "std      0.38318   11.342637    0.387870    0.335321  \n",
       "min      0.00000   23.000000    0.000000    0.000000  \n",
       "25%      1.00000   29.000000    0.000000    0.000000  \n",
       "50%      1.00000   36.000000    0.000000    0.000000  \n",
       "75%      1.00000   48.000000    0.000000    0.000000  \n",
       "max      1.00000   65.000000    1.000000    1.000000  "
      ]
     },
     "execution_count": 2,
     "metadata": {},
     "output_type": "execute_result"
    }
   ],
   "source": [
    "df = pd.read_csv('https://raw.githubusercontent.com/artamonoff/Econometrica/master/python-notebooks/data-csv/sleep75.csv')\n",
    "df[['sleep', 'hrwage', 'smsa', 'totwrk', 'male', 'marr', 'age', 'south', 'yngkid']].describe()"
   ]
  },
  {
   "cell_type": "code",
   "execution_count": 3,
   "id": "be70b056",
   "metadata": {},
   "outputs": [
    {
     "data": {
      "text/plain": [
       "Intercept         3440.19\n",
       "np.log(hrwage)      -1.39\n",
       "smsa               -36.96\n",
       "totwrk              -0.16\n",
       "male                36.87\n",
       "marr                53.34\n",
       "age                  2.37\n",
       "south               76.27\n",
       "yngkid              47.92\n",
       "dtype: float64"
      ]
     },
     "execution_count": 3,
     "metadata": {},
     "output_type": "execute_result"
    }
   ],
   "source": [
    "# специфицируем моделл через формулу\n",
    "sleep_eq1 = smf.ols(formula='sleep~np.log(hrwage)+smsa+totwrk+male+marr+age+south+yngkid', data=df).fit()\n",
    "# Коэфициенты модели с округление\n",
    "sleep_eq1.params.round(2)"
   ]
  },
  {
   "cell_type": "markdown",
   "id": "0b2cf558",
   "metadata": {},
   "source": [
    "### Спецификация \n",
    "$$\n",
    "sleep=3440.19-1.39*np.log(hrwage)-36.96*smsa-0.16*totwrk+ 36.87*male+53.34*marr+2.37*age+76.27*south+47.92*yngkid\n",
    "$$"
   ]
  },
  {
   "cell_type": "code",
   "execution_count": 5,
   "id": "4875c54f",
   "metadata": {},
   "outputs": [
    {
     "data": {
      "text/plain": [
       "532.0"
      ]
     },
     "execution_count": 5,
     "metadata": {},
     "output_type": "execute_result"
    }
   ],
   "source": [
    "# Число наблюдений, под которые подгонялась модель\n",
    "sleep_eq1.nobs"
   ]
  },
  {
   "cell_type": "markdown",
   "id": "6084978a",
   "metadata": {},
   "source": [
    "### Интерпретация\n",
    "1. При учеличении почасовой оплаты на 1%, количество минут сна в неделю уменьшится на 0.00139 минут\n",
    "2. Жители мегаполисов спят на 39.96 минут меньше, чем те, кто не живут в мегаполисе, при прочих равных условиях."
   ]
  },
  {
   "cell_type": "code",
   "execution_count": null,
   "id": "09b3f8ed",
   "metadata": {},
   "outputs": [],
   "source": []
  }
 ],
 "metadata": {
  "kernelspec": {
   "display_name": "Python 3 (ipykernel)",
   "language": "python",
   "name": "python3"
  },
  "language_info": {
   "codemirror_mode": {
    "name": "ipython",
    "version": 3
   },
   "file_extension": ".py",
   "mimetype": "text/x-python",
   "name": "python",
   "nbconvert_exporter": "python",
   "pygments_lexer": "ipython3",
   "version": "3.9.16"
  }
 },
 "nbformat": 4,
 "nbformat_minor": 5
}
