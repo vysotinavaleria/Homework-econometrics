{
 "cells": [
  {
   "cell_type": "code",
   "execution_count": 1,
   "id": "253ca3d5",
   "metadata": {},
   "outputs": [],
   "source": [
    "import numpy as np\n",
    "import re"
   ]
  },
  {
   "cell_type": "code",
   "execution_count": 2,
   "id": "542337a1",
   "metadata": {},
   "outputs": [
    {
     "data": {
      "text/plain": [
       "'totwrk                       -0.167***         \\n                              (0.018)          \\n                                               \\nage                           -6.255           \\n                             (11.191)          \\n                                               \\nI(age2)                        0.109           \\n                              (0.134)          \\n                                               \\nsouth                       114.547***         \\n                             (40.637)          \\n                                               \\nmale                         90.457***         \\n                             (34.257)          \\n                                               \\nConstant                    3613.995***        \\n                             (218.433)'"
      ]
     },
     "execution_count": 2,
     "metadata": {},
     "output_type": "execute_result"
    }
   ],
   "source": [
    "data_string = '''totwrk                       -0.167***         \n",
    "                              (0.018)          \n",
    "                                               \n",
    "age                           -6.255           \n",
    "                             (11.191)          \n",
    "                                               \n",
    "I(age2)                        0.109           \n",
    "                              (0.134)          \n",
    "                                               \n",
    "south                       114.547***         \n",
    "                             (40.637)          \n",
    "                                               \n",
    "male                         90.457***         \n",
    "                             (34.257)          \n",
    "                                               \n",
    "Constant                    3613.995***        \n",
    "                             (218.433)'''\n",
    "data_string"
   ]
  },
  {
   "cell_type": "code",
   "execution_count": 3,
   "id": "6a81a297",
   "metadata": {},
   "outputs": [
    {
     "data": {
      "text/plain": [
       "['-0.167',\n",
       " '0.018',\n",
       " '-6.255',\n",
       " '11.191',\n",
       " '0.109',\n",
       " '0.134',\n",
       " '114.547',\n",
       " '40.637',\n",
       " '90.457',\n",
       " '34.257',\n",
       " '3613.995',\n",
       " '218.433']"
      ]
     },
     "execution_count": 3,
     "metadata": {},
     "output_type": "execute_result"
    }
   ],
   "source": [
    "# Выделим числа из строки с помощью регулярных выражений\n",
    "#(необходимо выделить подстроку, удовлетворяющая определенному шаблону символов)\n",
    "digital_date = re.findall(r'([-+]?\\d+.\\d+)',data_string)\n",
    "digital_date"
   ]
  },
  {
   "cell_type": "code",
   "execution_count": 4,
   "id": "540cdc87",
   "metadata": {},
   "outputs": [
    {
     "data": {
      "text/plain": [
       "array([['-0.167', '0.018'],\n",
       "       ['-6.255', '11.191'],\n",
       "       ['0.109', '0.134'],\n",
       "       ['114.547', '40.637'],\n",
       "       ['90.457', '34.257'],\n",
       "       ['3613.995', '218.433']], dtype='<U8')"
      ]
     },
     "execution_count": 4,
     "metadata": {},
     "output_type": "execute_result"
    }
   ],
   "source": [
    "# Из одномерного списка сделаем двумерный список типа размерности (8,2)\n",
    "# 8 --- количество коэффицентов, включая константу\n",
    "# 2 --- потому что строка содержит оценку коэффицента и его ошибку\n",
    "# так как исходны список содержит оценки коэффицентов и их ошибки\n",
    "beta = np.reshape(digital_date,(6,2))\n",
    "beta"
   ]
  },
  {
   "cell_type": "code",
   "execution_count": 5,
   "id": "e6602d72",
   "metadata": {},
   "outputs": [
    {
     "data": {
      "text/plain": [
       "array(['-0.167', '-6.255', '0.109', '114.547', '90.457', '3613.995'],\n",
       "      dtype='<U8')"
      ]
     },
     "execution_count": 5,
     "metadata": {},
     "output_type": "execute_result"
    }
   ],
   "source": [
    "beta[:,0]"
   ]
  },
  {
   "cell_type": "code",
   "execution_count": 6,
   "id": "173441b1",
   "metadata": {},
   "outputs": [],
   "source": [
    "# ppl_string --- переменная, которая содержит изначальную строку данных\n",
    "ppl_string = '''totwrk age south male\n",
    "1  2160  32    1    0  \n",
    "2  1720  24    0    1  \n",
    "3  2390  44    0    1 '''"
   ]
  },
  {
   "cell_type": "code",
   "execution_count": 7,
   "id": "e8c4b3e1",
   "metadata": {},
   "outputs": [],
   "source": [
    "# Создадим список из чисел, содержащихся в строке. \n",
    "# ppl_list -- список, который будет состоять из подстрок, каждая из которых удовлетворяет определенному шаблону символов\n",
    "ppl_lst = re.findall(r'([-+]?\\d+.\\d+|[-+]?\\d+)',ppl_string)"
   ]
  },
  {
   "cell_type": "code",
   "execution_count": 8,
   "id": "155508ff",
   "metadata": {},
   "outputs": [
    {
     "data": {
      "text/plain": [
       "array([['1', '2160', '32', '1', '0'],\n",
       "       ['2', '1720', '24', '0', '1'],\n",
       "       ['3', '2390', '44', '0', '1']], dtype='<U4')"
      ]
     },
     "execution_count": 8,
     "metadata": {},
     "output_type": "execute_result"
    }
   ],
   "source": [
    "ppl_numb = np.reshape(ppl_lst,(3,5))\n",
    "ppl_numb"
   ]
  },
  {
   "cell_type": "code",
   "execution_count": 9,
   "id": "2ff8cabe",
   "metadata": {},
   "outputs": [],
   "source": [
    "# Преобразуем список в двумерный массив: 3 строки, 8 столбцов.\n",
    "# 3 -- количество измерений, для которых нам необходим найти предсказанное значение\n",
    "# 6 столбцов в исходной таблице, включая столбец с нумерацией строк"
   ]
  },
  {
   "cell_type": "code",
   "execution_count": 10,
   "id": "22dedd5a",
   "metadata": {},
   "outputs": [
    {
     "data": {
      "text/plain": [
       "array([['2160', '32', '1', '0'],\n",
       "       ['1720', '24', '0', '1'],\n",
       "       ['2390', '44', '0', '1']], dtype='<U4')"
      ]
     },
     "execution_count": 10,
     "metadata": {},
     "output_type": "execute_result"
    }
   ],
   "source": [
    "# Необходимо удалить первый столбец, так как это нумерация строк\n",
    "ppl_numb = np.delete(ppl_numb,0,1)\n",
    "ppl_numb"
   ]
  },
  {
   "cell_type": "code",
   "execution_count": 11,
   "id": "571a62c4",
   "metadata": {},
   "outputs": [
    {
     "data": {
      "text/plain": [
       "array([['2160', '32', '1', '0', '1.0'],\n",
       "       ['1720', '24', '0', '1', '1.0'],\n",
       "       ['2390', '44', '0', '1', '1.0']], dtype='<U32')"
      ]
     },
     "execution_count": 11,
     "metadata": {},
     "output_type": "execute_result"
    }
   ],
   "source": [
    "# Теперь необходимо добавить столбец из единиц для того,\n",
    "#  чтобы совпадало количество столбцов в матрице с количестом элементов \n",
    "ppl_numb = np.c_[ppl_numb,np.ones(3)]\n",
    "ppl_numb"
   ]
  },
  {
   "cell_type": "code",
   "execution_count": 12,
   "id": "1dcd01f5",
   "metadata": {},
   "outputs": [
    {
     "data": {
      "text/plain": [
       "array([['2160', '32', '1', '0', '1.0', '1.0'],\n",
       "       ['1720', '24', '0', '1', '1.0', '1.0'],\n",
       "       ['2390', '44', '0', '1', '1.0', '1.0']], dtype='<U32')"
      ]
     },
     "execution_count": 12,
     "metadata": {},
     "output_type": "execute_result"
    }
   ],
   "source": [
    "# Теперь необходимо добавить столбец из единиц для того,\n",
    "#  чтобы совпадало количество столбцов в матрице с количестом элементов \n",
    "ppl_numb = np.c_[ppl_numb,np.ones(3)]\n",
    "ppl_numb"
   ]
  },
  {
   "cell_type": "code",
   "execution_count": 13,
   "id": "3967b0b6",
   "metadata": {},
   "outputs": [],
   "source": [
    "beta = beta.astype(float)\n",
    "ppl_numb = ppl_numb.astype(float)"
   ]
  },
  {
   "cell_type": "code",
   "execution_count": 14,
   "id": "e16f4ff4",
   "metadata": {},
   "outputs": [
    {
     "data": {
      "text/plain": [
       "array([[-1.670000e-01,  1.800000e-02],\n",
       "       [-6.255000e+00,  1.119100e+01],\n",
       "       [ 1.090000e-01,  1.340000e-01],\n",
       "       [ 1.145470e+02,  4.063700e+01],\n",
       "       [ 9.045700e+01,  3.425700e+01],\n",
       "       [ 3.613995e+03,  2.184330e+02]])"
      ]
     },
     "execution_count": 14,
     "metadata": {},
     "output_type": "execute_result"
    }
   ],
   "source": [
    "beta"
   ]
  },
  {
   "cell_type": "code",
   "execution_count": 15,
   "id": "aeab0fb0",
   "metadata": {},
   "outputs": [
    {
     "data": {
      "text/plain": [
       "array([[2.16e+03, 3.20e+01, 1.00e+00, 0.00e+00, 1.00e+00, 1.00e+00],\n",
       "       [1.72e+03, 2.40e+01, 0.00e+00, 1.00e+00, 1.00e+00, 1.00e+00],\n",
       "       [2.39e+03, 4.40e+01, 0.00e+00, 1.00e+00, 1.00e+00, 1.00e+00]])"
      ]
     },
     "execution_count": 15,
     "metadata": {},
     "output_type": "execute_result"
    }
   ],
   "source": [
    "ppl_numb"
   ]
  },
  {
   "cell_type": "code",
   "execution_count": 16,
   "id": "e95e5131",
   "metadata": {},
   "outputs": [
    {
     "data": {
      "text/plain": [
       "array([3143.681, 3381.639, 3144.649])"
      ]
     },
     "execution_count": 16,
     "metadata": {},
     "output_type": "execute_result"
    }
   ],
   "source": [
    "ppl_numb@beta[:,0]"
   ]
  },
  {
   "cell_type": "code",
   "execution_count": null,
   "id": "7bad1931",
   "metadata": {},
   "outputs": [],
   "source": []
  }
 ],
 "metadata": {
  "kernelspec": {
   "display_name": "Python 3 (ipykernel)",
   "language": "python",
   "name": "python3"
  },
  "language_info": {
   "codemirror_mode": {
    "name": "ipython",
    "version": 3
   },
   "file_extension": ".py",
   "mimetype": "text/x-python",
   "name": "python",
   "nbconvert_exporter": "python",
   "pygments_lexer": "ipython3",
   "version": "3.9.13"
  }
 },
 "nbformat": 4,
 "nbformat_minor": 5
}
