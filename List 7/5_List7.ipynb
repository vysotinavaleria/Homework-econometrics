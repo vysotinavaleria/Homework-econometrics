{
 "cells": [
  {
   "cell_type": "code",
   "execution_count": 1,
   "id": "64987fb4",
   "metadata": {},
   "outputs": [],
   "source": [
    "import numpy as np\n",
    "import re"
   ]
  },
  {
   "cell_type": "code",
   "execution_count": 2,
   "id": "e8e7d239",
   "metadata": {},
   "outputs": [
    {
     "data": {
      "text/plain": [
       "'log(capital)                 0.208***          \\n                              (0.017)          \\n                                               \\nlog(labour)                  0.715***          \\n                              (0.023)          \\n                                               \\nConstant                     -1.711***         \\n                              (0.097)'"
      ]
     },
     "execution_count": 2,
     "metadata": {},
     "output_type": "execute_result"
    }
   ],
   "source": [
    "data_string = '''log(capital)                 0.208***          \n",
    "                              (0.017)          \n",
    "                                               \n",
    "log(labour)                  0.715***          \n",
    "                              (0.023)          \n",
    "                                               \n",
    "Constant                     -1.711***         \n",
    "                              (0.097)'''\n",
    "data_string"
   ]
  },
  {
   "cell_type": "code",
   "execution_count": 3,
   "id": "5f72578c",
   "metadata": {},
   "outputs": [
    {
     "data": {
      "text/plain": [
       "['0.208', '0.017', '0.715', '0.023', '-1.711', '0.097']"
      ]
     },
     "execution_count": 3,
     "metadata": {},
     "output_type": "execute_result"
    }
   ],
   "source": [
    "# Выделим числа из строки с помощью регулярных выражений\n",
    "#(необходимо выделить подстроку, удовлетворяющая определенному шаблону символов)\n",
    "digital_date = re.findall(r'([-+]?\\d+.\\d+)',data_string)\n",
    "digital_date"
   ]
  },
  {
   "cell_type": "code",
   "execution_count": 4,
   "id": "a9785df1",
   "metadata": {},
   "outputs": [
    {
     "data": {
      "text/plain": [
       "array([['0.208', '0.017'],\n",
       "       ['0.715', '0.023'],\n",
       "       ['-1.711', '0.097']], dtype='<U6')"
      ]
     },
     "execution_count": 4,
     "metadata": {},
     "output_type": "execute_result"
    }
   ],
   "source": [
    "# Из одномерного списка сделаем двумерный список типа размерности (8,2)\n",
    "# 8 --- количество коэффицентов, включая константу\n",
    "# 2 --- потому что строка содержит оценку коэффицента и его ошибку\n",
    "# так как исходны список содержит оценки коэффицентов и их ошибки\n",
    "beta = np.reshape(digital_date,(3,2))\n",
    "beta"
   ]
  },
  {
   "cell_type": "code",
   "execution_count": 5,
   "id": "54a5d14c",
   "metadata": {},
   "outputs": [
    {
     "data": {
      "text/plain": [
       "array(['0.208', '0.715', '-1.711'], dtype='<U6')"
      ]
     },
     "execution_count": 5,
     "metadata": {},
     "output_type": "execute_result"
    }
   ],
   "source": [
    "beta[:,0]"
   ]
  },
  {
   "cell_type": "code",
   "execution_count": 6,
   "id": "30471c15",
   "metadata": {},
   "outputs": [],
   "source": [
    "# ppl_string --- переменная, которая содержит изначальную строку данных\n",
    "ppl_string = '''capital labour\n",
    "----------------\n",
    "1  2.970    85  \n",
    "2 10.450    60  \n",
    "3  3.850   105'''"
   ]
  },
  {
   "cell_type": "code",
   "execution_count": 7,
   "id": "80af72d2",
   "metadata": {},
   "outputs": [],
   "source": [
    "# Создадим список из чисел, содержащихся в строке. \n",
    "# ppl_list -- список, который будет состоять из подстрок, каждая из которых удовлетворяет определенному шаблону символов\n",
    "ppl_lst = re.findall(r'([-+]?\\d+.\\d+|[-+]?\\d+)',ppl_string)"
   ]
  },
  {
   "cell_type": "code",
   "execution_count": 8,
   "id": "74301b15",
   "metadata": {},
   "outputs": [
    {
     "data": {
      "text/plain": [
       "array([['1', '2.970', '85'],\n",
       "       ['2 10', '450', '60'],\n",
       "       ['3', '3.850', '105']], dtype='<U5')"
      ]
     },
     "execution_count": 8,
     "metadata": {},
     "output_type": "execute_result"
    }
   ],
   "source": [
    "ppl_numb = np.reshape(ppl_lst,(3,3))\n",
    "ppl_numb"
   ]
  },
  {
   "cell_type": "code",
   "execution_count": 9,
   "id": "75eb3921",
   "metadata": {},
   "outputs": [
    {
     "data": {
      "text/plain": [
       "array([['2.970', '85'],\n",
       "       ['450', '60'],\n",
       "       ['3.850', '105']], dtype='<U5')"
      ]
     },
     "execution_count": 9,
     "metadata": {},
     "output_type": "execute_result"
    }
   ],
   "source": [
    "# Необходимо удалить первый столбец, так как это нумерация строк\n",
    "ppl_numb = np.delete(ppl_numb,0,1)\n",
    "ppl_numb"
   ]
  },
  {
   "cell_type": "code",
   "execution_count": 14,
   "id": "6b4f8edb",
   "metadata": {},
   "outputs": [
    {
     "data": {
      "text/plain": [
       "array([[  2.97,  85.  ,   1.  ],\n",
       "       [450.  ,  60.  ,   1.  ],\n",
       "       [  3.85, 105.  ,   1.  ]])"
      ]
     },
     "execution_count": 14,
     "metadata": {},
     "output_type": "execute_result"
    }
   ],
   "source": [
    "ppl_numb = np.c_[ppl_numb,np.ones(3)]\n",
    "ppl_numb"
   ]
  },
  {
   "cell_type": "code",
   "execution_count": 15,
   "id": "87eceb68",
   "metadata": {},
   "outputs": [],
   "source": [
    "beta = beta.astype(float)\n",
    "ppl_numb = ppl_numb.astype(float)"
   ]
  },
  {
   "cell_type": "code",
   "execution_count": 16,
   "id": "3293b4ef",
   "metadata": {},
   "outputs": [
    {
     "data": {
      "text/plain": [
       "array([[ 0.208,  0.017],\n",
       "       [ 0.715,  0.023],\n",
       "       [-1.711,  0.097]])"
      ]
     },
     "execution_count": 16,
     "metadata": {},
     "output_type": "execute_result"
    }
   ],
   "source": [
    "beta"
   ]
  },
  {
   "cell_type": "code",
   "execution_count": 17,
   "id": "d0a5ab90",
   "metadata": {},
   "outputs": [
    {
     "data": {
      "text/plain": [
       "array([[  2.97,  85.  ,   1.  ],\n",
       "       [450.  ,  60.  ,   1.  ],\n",
       "       [  3.85, 105.  ,   1.  ]])"
      ]
     },
     "execution_count": 17,
     "metadata": {},
     "output_type": "execute_result"
    }
   ],
   "source": [
    "ppl_numb"
   ]
  },
  {
   "cell_type": "code",
   "execution_count": 18,
   "id": "ee6cb92d",
   "metadata": {},
   "outputs": [
    {
     "data": {
      "text/plain": [
       "array([ 59.68176, 134.789  ,  74.1648 ])"
      ]
     },
     "execution_count": 18,
     "metadata": {},
     "output_type": "execute_result"
    }
   ],
   "source": [
    "ppl_numb@beta[:,0]"
   ]
  },
  {
   "cell_type": "code",
   "execution_count": null,
   "id": "ed907e4e",
   "metadata": {},
   "outputs": [],
   "source": []
  },
  {
   "cell_type": "code",
   "execution_count": null,
   "id": "e96d6b5a",
   "metadata": {},
   "outputs": [],
   "source": []
  },
  {
   "cell_type": "code",
   "execution_count": null,
   "id": "c745ac69",
   "metadata": {},
   "outputs": [],
   "source": []
  }
 ],
 "metadata": {
  "kernelspec": {
   "display_name": "Python 3 (ipykernel)",
   "language": "python",
   "name": "python3"
  },
  "language_info": {
   "codemirror_mode": {
    "name": "ipython",
    "version": 3
   },
   "file_extension": ".py",
   "mimetype": "text/x-python",
   "name": "python",
   "nbconvert_exporter": "python",
   "pygments_lexer": "ipython3",
   "version": "3.9.13"
  }
 },
 "nbformat": 4,
 "nbformat_minor": 5
}
