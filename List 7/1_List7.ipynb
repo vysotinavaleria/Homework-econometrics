{
 "cells": [
  {
   "cell_type": "code",
   "execution_count": 1,
   "id": "c58d0ced",
   "metadata": {},
   "outputs": [],
   "source": [
    "import numpy as np\n",
    "import re"
   ]
  },
  {
   "cell_type": "code",
   "execution_count": 2,
   "id": "25e625c7",
   "metadata": {},
   "outputs": [
    {
     "data": {
      "text/plain": [
       "'totwrk                       -0.169***         \\n                              (0.018)          \\n                                               \\nage                           2.689*           \\n                              (1.469)          \\n                                               \\nsouth                        101.568**         \\n                             (41.837)          \\n                                               \\nmale                         87.669**          \\n                             (35.104)          \\n                                               \\nsmsa                         -54.748*          \\n                             (33.123)          \\n                                               \\nyngkid                        -13.962          \\n                             (50.341)          \\n                                               \\nmarr                          31.211           \\n                             (42.233)          \\n                                               \\nConstant                    3450.913***        \\n                             (80.726)'"
      ]
     },
     "execution_count": 2,
     "metadata": {},
     "output_type": "execute_result"
    }
   ],
   "source": [
    "data_string = '''totwrk                       -0.169***         \n",
    "                              (0.018)          \n",
    "                                               \n",
    "age                           2.689*           \n",
    "                              (1.469)          \n",
    "                                               \n",
    "south                        101.568**         \n",
    "                             (41.837)          \n",
    "                                               \n",
    "male                         87.669**          \n",
    "                             (35.104)          \n",
    "                                               \n",
    "smsa                         -54.748*          \n",
    "                             (33.123)          \n",
    "                                               \n",
    "yngkid                        -13.962          \n",
    "                             (50.341)          \n",
    "                                               \n",
    "marr                          31.211           \n",
    "                             (42.233)          \n",
    "                                               \n",
    "Constant                    3450.913***        \n",
    "                             (80.726)'''\n",
    "data_string"
   ]
  },
  {
   "cell_type": "code",
   "execution_count": 3,
   "id": "15c9eed2",
   "metadata": {},
   "outputs": [
    {
     "data": {
      "text/plain": [
       "['-0.169',\n",
       " '0.018',\n",
       " '2.689',\n",
       " '1.469',\n",
       " '101.568',\n",
       " '41.837',\n",
       " '87.669',\n",
       " '35.104',\n",
       " '-54.748',\n",
       " '33.123',\n",
       " '-13.962',\n",
       " '50.341',\n",
       " '31.211',\n",
       " '42.233',\n",
       " '3450.913',\n",
       " '80.726']"
      ]
     },
     "execution_count": 3,
     "metadata": {},
     "output_type": "execute_result"
    }
   ],
   "source": [
    "# Выделим числа из строки с помощью регулярных выражений\n",
    "#(необходимо выделить подстроку, удовлетворяющая определенному шаблону символов)\n",
    "digital_date = re.findall(r'([-+]?\\d+.\\d+)',data_string)\n",
    "digital_date"
   ]
  },
  {
   "cell_type": "code",
   "execution_count": 4,
   "id": "476a5b0d",
   "metadata": {},
   "outputs": [
    {
     "data": {
      "text/plain": [
       "array([['-0.169', '0.018'],\n",
       "       ['2.689', '1.469'],\n",
       "       ['101.568', '41.837'],\n",
       "       ['87.669', '35.104'],\n",
       "       ['-54.748', '33.123'],\n",
       "       ['-13.962', '50.341'],\n",
       "       ['31.211', '42.233'],\n",
       "       ['3450.913', '80.726']], dtype='<U8')"
      ]
     },
     "execution_count": 4,
     "metadata": {},
     "output_type": "execute_result"
    }
   ],
   "source": [
    "# Из одномерного списка сделаем двумерный список типа размерности (8,2)\n",
    "# 8 --- количество коэффицентов, включая константу\n",
    "# 2 --- потому что строка содержит оценку коэффицента и его ошибку\n",
    "# так как исходны список содержит оценки коэффицентов и их ошибки\n",
    "beta = np.reshape(digital_date,(8,2))\n",
    "beta"
   ]
  },
  {
   "cell_type": "code",
   "execution_count": 5,
   "id": "296da00a",
   "metadata": {},
   "outputs": [
    {
     "data": {
      "text/plain": [
       "array(['-0.169', '2.689', '101.568', '87.669', '-54.748', '-13.962',\n",
       "       '31.211', '3450.913'], dtype='<U8')"
      ]
     },
     "execution_count": 5,
     "metadata": {},
     "output_type": "execute_result"
    }
   ],
   "source": [
    "beta[:,0]"
   ]
  },
  {
   "cell_type": "code",
   "execution_count": 6,
   "id": "75da464b",
   "metadata": {},
   "outputs": [],
   "source": [
    "# ppl_string --- переменная, которая содержит изначальную строку данных\n",
    "ppl_string = '''totwrk age south male smsa yngkid marr\n",
    "1  2150  37.1    0    1    1     0     1  \n",
    "2  1950  28.1    1    1    0     1     0  \n",
    "3  2240  26.1    0    0    1     0     0 '''"
   ]
  },
  {
   "cell_type": "code",
   "execution_count": 7,
   "id": "f7240613",
   "metadata": {},
   "outputs": [],
   "source": [
    "# Создадим список из чисел, содержащихся в строке. \n",
    "# ppl_list -- список, который будет состоять из подстрок, каждая из которых удовлетворяет определенному шаблону символов\n",
    "ppl_lst = re.findall(r'([-+]?\\d+.\\d+|[-+]?\\d+)',ppl_string)"
   ]
  },
  {
   "cell_type": "code",
   "execution_count": 8,
   "id": "baf7a51f",
   "metadata": {},
   "outputs": [
    {
     "data": {
      "text/plain": [
       "array([['1', '2150', '37.1', '0', '1', '1', '0', '1'],\n",
       "       ['2', '1950', '28.1', '1', '1', '0', '1', '0'],\n",
       "       ['3', '2240', '26.1', '0', '0', '1', '0', '0']], dtype='<U4')"
      ]
     },
     "execution_count": 8,
     "metadata": {},
     "output_type": "execute_result"
    }
   ],
   "source": [
    "ppl_numb = np.reshape(ppl_lst,(3,8))\n",
    "ppl_numb"
   ]
  },
  {
   "cell_type": "code",
   "execution_count": 9,
   "id": "0043e650",
   "metadata": {},
   "outputs": [],
   "source": [
    "# Преобразуем список в двумерный массив: 3 строки, 8 столбцов.\n",
    "# 3 -- количество измерений, для которых нам необходим найти предсказанное значение\n",
    "# 8 столбцов в исходной таблице, включая столбец с нумерацией строк"
   ]
  },
  {
   "cell_type": "code",
   "execution_count": 11,
   "id": "514c0283",
   "metadata": {},
   "outputs": [
    {
     "data": {
      "text/plain": [
       "array([['2150', '37.1', '0', '1', '1', '0', '1'],\n",
       "       ['1950', '28.1', '1', '1', '0', '1', '0'],\n",
       "       ['2240', '26.1', '0', '0', '1', '0', '0']], dtype='<U4')"
      ]
     },
     "execution_count": 11,
     "metadata": {},
     "output_type": "execute_result"
    }
   ],
   "source": [
    "# Необходимо удалить первый столбец, так как это нумерация строк\n",
    "ppl_numb = np.delete(ppl_numb,0,1)\n",
    "ppl_numb"
   ]
  },
  {
   "cell_type": "code",
   "execution_count": 13,
   "id": "70c7fa23",
   "metadata": {},
   "outputs": [
    {
     "data": {
      "text/plain": [
       "array([['2150', '37.1', '0', '1', '1', '0', '1', '1.0'],\n",
       "       ['1950', '28.1', '1', '1', '0', '1', '0', '1.0'],\n",
       "       ['2240', '26.1', '0', '0', '1', '0', '0', '1.0']], dtype='<U32')"
      ]
     },
     "execution_count": 13,
     "metadata": {},
     "output_type": "execute_result"
    }
   ],
   "source": [
    "# Теперь необходимо добавить столбец из единиц для того,\n",
    "#  чтобы совпадало количество столбцов в матрице с количестом элементов \n",
    "ppl_numb = np.c_[ppl_numb,np.ones(3)]\n",
    "ppl_numb"
   ]
  },
  {
   "cell_type": "code",
   "execution_count": 14,
   "id": "156f1b70",
   "metadata": {},
   "outputs": [],
   "source": [
    "beta = beta.astype(float)\n",
    "ppl_numb = ppl_numb.astype(float)"
   ]
  },
  {
   "cell_type": "code",
   "execution_count": 15,
   "id": "ffbd225d",
   "metadata": {},
   "outputs": [
    {
     "data": {
      "text/plain": [
       "array([[-1.690000e-01,  1.800000e-02],\n",
       "       [ 2.689000e+00,  1.469000e+00],\n",
       "       [ 1.015680e+02,  4.183700e+01],\n",
       "       [ 8.766900e+01,  3.510400e+01],\n",
       "       [-5.474800e+01,  3.312300e+01],\n",
       "       [-1.396200e+01,  5.034100e+01],\n",
       "       [ 3.121100e+01,  4.223300e+01],\n",
       "       [ 3.450913e+03,  8.072600e+01]])"
      ]
     },
     "execution_count": 15,
     "metadata": {},
     "output_type": "execute_result"
    }
   ],
   "source": [
    "beta"
   ]
  },
  {
   "cell_type": "code",
   "execution_count": 16,
   "id": "07383287",
   "metadata": {},
   "outputs": [
    {
     "data": {
      "text/plain": [
       "array([[2.15e+03, 3.71e+01, 0.00e+00, 1.00e+00, 1.00e+00, 0.00e+00,\n",
       "        1.00e+00, 1.00e+00],\n",
       "       [1.95e+03, 2.81e+01, 1.00e+00, 1.00e+00, 0.00e+00, 1.00e+00,\n",
       "        0.00e+00, 1.00e+00],\n",
       "       [2.24e+03, 2.61e+01, 0.00e+00, 0.00e+00, 1.00e+00, 0.00e+00,\n",
       "        0.00e+00, 1.00e+00]])"
      ]
     },
     "execution_count": 16,
     "metadata": {},
     "output_type": "execute_result"
    }
   ],
   "source": [
    "ppl_numb"
   ]
  },
  {
   "cell_type": "code",
   "execution_count": 18,
   "id": "730ba7f8",
   "metadata": {},
   "outputs": [
    {
     "name": "stdout",
     "output_type": "stream",
     "text": [
      "[[3251.4569  284.3859]\n",
      " [3372.1989  284.3869]\n",
      " [3087.7879  192.5099]]\n"
     ]
    }
   ],
   "source": [
    "# результатом произведения двух матриц будут два столбца\n",
    "# 1й равен произведению значений измерений и коэффициентов\n",
    "# 2й равен произведению значений измерений и ошибок коэффициентов\n",
    "print(np.matmul(ppl_numb,beta))"
   ]
  },
  {
   "cell_type": "code",
   "execution_count": 19,
   "id": "a83874c5",
   "metadata": {},
   "outputs": [
    {
     "data": {
      "text/plain": [
       "array([3251.4569, 3372.1989, 3087.7879])"
      ]
     },
     "execution_count": 19,
     "metadata": {},
     "output_type": "execute_result"
    }
   ],
   "source": [
    "ppl_numb@beta[:,0]\n"
   ]
  },
  {
   "cell_type": "code",
   "execution_count": 20,
   "id": "c4e3d148",
   "metadata": {},
   "outputs": [
    {
     "data": {
      "text/plain": [
       "array([1.8000e-02, 1.4690e+00, 4.1837e+01, 3.5104e+01, 3.3123e+01,\n",
       "       5.0341e+01, 4.2233e+01, 8.0726e+01])"
      ]
     },
     "execution_count": 20,
     "metadata": {},
     "output_type": "execute_result"
    }
   ],
   "source": [
    "beta[:,1]"
   ]
  },
  {
   "cell_type": "code",
   "execution_count": null,
   "id": "e47a150b",
   "metadata": {},
   "outputs": [],
   "source": []
  }
 ],
 "metadata": {
  "kernelspec": {
   "display_name": "Python 3 (ipykernel)",
   "language": "python",
   "name": "python3"
  },
  "language_info": {
   "codemirror_mode": {
    "name": "ipython",
    "version": 3
   },
   "file_extension": ".py",
   "mimetype": "text/x-python",
   "name": "python",
   "nbconvert_exporter": "python",
   "pygments_lexer": "ipython3",
   "version": "3.9.13"
  }
 },
 "nbformat": 4,
 "nbformat_minor": 5
}
