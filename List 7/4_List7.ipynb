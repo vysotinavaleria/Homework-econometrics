{
 "cells": [
  {
   "cell_type": "code",
   "execution_count": 1,
   "id": "c0989d65",
   "metadata": {},
   "outputs": [],
   "source": [
    "import numpy as np\n",
    "import re"
   ]
  },
  {
   "cell_type": "code",
   "execution_count": 2,
   "id": "1118bc0f",
   "metadata": {},
   "outputs": [
    {
     "data": {
      "text/plain": [
       "'exper                        0.037***          \\n                              (0.006)          \\n                                               \\nI(exper2)                    -0.001***         \\n                             (0.0001)          \\n                                               \\nfemale                       -0.363***         \\n                              (0.040)          \\n                                               \\nmarried                      0.144***          \\n                              (0.045)          \\n                                               \\nsmsa                         0.273***          \\n                              (0.044)          \\n                                               \\nConstant                     1.250***          \\n                              (0.061)'"
      ]
     },
     "execution_count": 2,
     "metadata": {},
     "output_type": "execute_result"
    }
   ],
   "source": [
    "data_string = '''exper                        0.037***          \n",
    "                              (0.006)          \n",
    "                                               \n",
    "I(exper2)                    -0.001***         \n",
    "                             (0.0001)          \n",
    "                                               \n",
    "female                       -0.363***         \n",
    "                              (0.040)          \n",
    "                                               \n",
    "married                      0.144***          \n",
    "                              (0.045)          \n",
    "                                               \n",
    "smsa                         0.273***          \n",
    "                              (0.044)          \n",
    "                                               \n",
    "Constant                     1.250***          \n",
    "                              (0.061)'''\n",
    "data_string"
   ]
  },
  {
   "cell_type": "code",
   "execution_count": 3,
   "id": "24a0c642",
   "metadata": {},
   "outputs": [
    {
     "data": {
      "text/plain": [
       "['0.037',\n",
       " '0.006',\n",
       " '-0.001',\n",
       " '0.0001',\n",
       " '-0.363',\n",
       " '0.040',\n",
       " '0.144',\n",
       " '0.045',\n",
       " '0.273',\n",
       " '0.044',\n",
       " '1.250',\n",
       " '0.061']"
      ]
     },
     "execution_count": 3,
     "metadata": {},
     "output_type": "execute_result"
    }
   ],
   "source": [
    "# Выделим числа из строки с помощью регулярных выражений\n",
    "#(необходимо выделить подстроку, удовлетворяющая определенному шаблону символов)\n",
    "digital_date = re.findall(r'([-+]?\\d+.\\d+)',data_string)\n",
    "digital_date"
   ]
  },
  {
   "cell_type": "code",
   "execution_count": 5,
   "id": "e6e5b278",
   "metadata": {},
   "outputs": [
    {
     "data": {
      "text/plain": [
       "array([['0.037', '0.006'],\n",
       "       ['-0.001', '0.0001'],\n",
       "       ['-0.363', '0.040'],\n",
       "       ['0.144', '0.045'],\n",
       "       ['0.273', '0.044'],\n",
       "       ['1.250', '0.061']], dtype='<U6')"
      ]
     },
     "execution_count": 5,
     "metadata": {},
     "output_type": "execute_result"
    }
   ],
   "source": [
    "# Из одномерного списка сделаем двумерный список типа размерности (8,2)\n",
    "# 8 --- количество коэффицентов, включая константу\n",
    "# 2 --- потому что строка содержит оценку коэффицента и его ошибку\n",
    "# так как исходны список содержит оценки коэффицентов и их ошибки\n",
    "beta = np.reshape(digital_date,(6,2))\n",
    "beta"
   ]
  },
  {
   "cell_type": "code",
   "execution_count": 8,
   "id": "05ae38cb",
   "metadata": {},
   "outputs": [],
   "source": [
    "# ppl_string --- переменная, которая содержит изначальную строку данных\n",
    "ppl_string = '''exper female married smsa\n",
    "---------------------------\n",
    "1   5     1       1     1  \n",
    "2  26     0       0     1  \n",
    "3  38     1       1     0'''\n"
   ]
  },
  {
   "cell_type": "code",
   "execution_count": 9,
   "id": "9d6fab65",
   "metadata": {},
   "outputs": [
    {
     "data": {
      "text/plain": [
       "['1', '5', '1', '1', '1', '2', '26', '0', '0', '1', '3', '38', '1', '1', '0']"
      ]
     },
     "execution_count": 9,
     "metadata": {},
     "output_type": "execute_result"
    }
   ],
   "source": [
    "ppl_lst = re.findall(r'([-+]?\\d+)', ppl_string)\n",
    "ppl_lst"
   ]
  },
  {
   "cell_type": "code",
   "execution_count": 11,
   "id": "d0b18b7a",
   "metadata": {},
   "outputs": [
    {
     "data": {
      "text/plain": [
       "array([['1', '5', '1', '1', '1'],\n",
       "       ['2', '26', '0', '0', '1'],\n",
       "       ['3', '38', '1', '1', '0']], dtype='<U2')"
      ]
     },
     "execution_count": 11,
     "metadata": {},
     "output_type": "execute_result"
    }
   ],
   "source": [
    "ppl_numb = np.reshape(ppl_lst,(3,5))\n",
    "ppl_numb"
   ]
  },
  {
   "cell_type": "code",
   "execution_count": 12,
   "id": "ef8a359b",
   "metadata": {},
   "outputs": [
    {
     "data": {
      "text/plain": [
       "array([['5', '1', '1', '1'],\n",
       "       ['26', '0', '0', '1'],\n",
       "       ['38', '1', '1', '0']], dtype='<U2')"
      ]
     },
     "execution_count": 12,
     "metadata": {},
     "output_type": "execute_result"
    }
   ],
   "source": [
    "ppl_numb = np.delete(ppl_numb,0,1)\n",
    "ppl_numb"
   ]
  },
  {
   "cell_type": "code",
   "execution_count": 13,
   "id": "f57f1a23",
   "metadata": {},
   "outputs": [
    {
     "data": {
      "text/plain": [
       "array([['5', '1', '1', '1', '1.0'],\n",
       "       ['26', '0', '0', '1', '1.0'],\n",
       "       ['38', '1', '1', '0', '1.0']], dtype='<U32')"
      ]
     },
     "execution_count": 13,
     "metadata": {},
     "output_type": "execute_result"
    }
   ],
   "source": [
    "ppl_numb = np.c_[ppl_numb,np.ones(3)]\n",
    "ppl_numb"
   ]
  },
  {
   "cell_type": "code",
   "execution_count": 17,
   "id": "e8d00580",
   "metadata": {},
   "outputs": [
    {
     "data": {
      "text/plain": [
       "array([[ 5.,  1.,  1.,  1.,  1.,  1.],\n",
       "       [26.,  0.,  0.,  1.,  1.,  1.],\n",
       "       [38.,  1.,  1.,  0.,  1.,  1.]])"
      ]
     },
     "execution_count": 17,
     "metadata": {},
     "output_type": "execute_result"
    }
   ],
   "source": [
    "ppl_numb = np.c_[ppl_numb,np.ones(3)]\n",
    "ppl_numb"
   ]
  },
  {
   "cell_type": "code",
   "execution_count": 18,
   "id": "b89e40c3",
   "metadata": {},
   "outputs": [],
   "source": [
    "beta = beta.astype(float)\n",
    "ppl_numb = ppl_numb.astype(float)"
   ]
  },
  {
   "cell_type": "code",
   "execution_count": 19,
   "id": "91c76f8f",
   "metadata": {},
   "outputs": [
    {
     "data": {
      "text/plain": [
       "array([[ 3.70e-02,  6.00e-03],\n",
       "       [-1.00e-03,  1.00e-04],\n",
       "       [-3.63e-01,  4.00e-02],\n",
       "       [ 1.44e-01,  4.50e-02],\n",
       "       [ 2.73e-01,  4.40e-02],\n",
       "       [ 1.25e+00,  6.10e-02]])"
      ]
     },
     "execution_count": 19,
     "metadata": {},
     "output_type": "execute_result"
    }
   ],
   "source": [
    "beta"
   ]
  },
  {
   "cell_type": "code",
   "execution_count": 20,
   "id": "8fd17771",
   "metadata": {},
   "outputs": [
    {
     "data": {
      "text/plain": [
       "array([[ 5.,  1.,  1.,  1.,  1.,  1.],\n",
       "       [26.,  0.,  0.,  1.,  1.,  1.],\n",
       "       [38.,  1.,  1.,  0.,  1.,  1.]])"
      ]
     },
     "execution_count": 20,
     "metadata": {},
     "output_type": "execute_result"
    }
   ],
   "source": [
    "ppl_numb"
   ]
  },
  {
   "cell_type": "code",
   "execution_count": 21,
   "id": "d042f1b2",
   "metadata": {},
   "outputs": [
    {
     "data": {
      "text/plain": [
       "array([1.488, 2.629, 2.565])"
      ]
     },
     "execution_count": 21,
     "metadata": {},
     "output_type": "execute_result"
    }
   ],
   "source": [
    "\n",
    "ppl_numb@beta[:,0]"
   ]
  },
  {
   "cell_type": "code",
   "execution_count": null,
   "id": "fa070960",
   "metadata": {},
   "outputs": [],
   "source": []
  }
 ],
 "metadata": {
  "kernelspec": {
   "display_name": "Python 3 (ipykernel)",
   "language": "python",
   "name": "python3"
  },
  "language_info": {
   "codemirror_mode": {
    "name": "ipython",
    "version": 3
   },
   "file_extension": ".py",
   "mimetype": "text/x-python",
   "name": "python",
   "nbconvert_exporter": "python",
   "pygments_lexer": "ipython3",
   "version": "3.9.13"
  }
 },
 "nbformat": 4,
 "nbformat_minor": 5
}
