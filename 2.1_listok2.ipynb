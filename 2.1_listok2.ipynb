{
 "cells": [
  {
   "cell_type": "code",
   "execution_count": 1,
   "id": "a9155cac",
   "metadata": {},
   "outputs": [],
   "source": [
    "import numpy as np # linear algebra \n",
    "import pandas as pd # data processing, CSV file I/O (e.g. pd.read_csv)\n",
    "# stats models: regression fitting via formulas\n",
    "import statsmodels.formula.api as smf\n",
    "# stats models: regression fitting via matrices of regression design\n",
    "import statsmodels.api as sm"
   ]
  },
  {
   "cell_type": "code",
   "execution_count": 3,
   "id": "641daf75",
   "metadata": {},
   "outputs": [
    {
     "data": {
      "text/html": [
       "<div>\n",
       "<style scoped>\n",
       "    .dataframe tbody tr th:only-of-type {\n",
       "        vertical-align: middle;\n",
       "    }\n",
       "\n",
       "    .dataframe tbody tr th {\n",
       "        vertical-align: top;\n",
       "    }\n",
       "\n",
       "    .dataframe thead th {\n",
       "        text-align: right;\n",
       "    }\n",
       "</style>\n",
       "<table border=\"1\" class=\"dataframe\">\n",
       "  <thead>\n",
       "    <tr style=\"text-align: right;\">\n",
       "      <th></th>\n",
       "      <th>IQ</th>\n",
       "      <th>age</th>\n",
       "    </tr>\n",
       "  </thead>\n",
       "  <tbody>\n",
       "    <tr>\n",
       "      <th>count</th>\n",
       "      <td>935.000000</td>\n",
       "      <td>935.000000</td>\n",
       "    </tr>\n",
       "    <tr>\n",
       "      <th>mean</th>\n",
       "      <td>101.282353</td>\n",
       "      <td>33.080214</td>\n",
       "    </tr>\n",
       "    <tr>\n",
       "      <th>std</th>\n",
       "      <td>15.052636</td>\n",
       "      <td>3.107803</td>\n",
       "    </tr>\n",
       "    <tr>\n",
       "      <th>min</th>\n",
       "      <td>50.000000</td>\n",
       "      <td>28.000000</td>\n",
       "    </tr>\n",
       "    <tr>\n",
       "      <th>25%</th>\n",
       "      <td>92.000000</td>\n",
       "      <td>30.000000</td>\n",
       "    </tr>\n",
       "    <tr>\n",
       "      <th>50%</th>\n",
       "      <td>102.000000</td>\n",
       "      <td>33.000000</td>\n",
       "    </tr>\n",
       "    <tr>\n",
       "      <th>75%</th>\n",
       "      <td>112.000000</td>\n",
       "      <td>36.000000</td>\n",
       "    </tr>\n",
       "    <tr>\n",
       "      <th>max</th>\n",
       "      <td>145.000000</td>\n",
       "      <td>38.000000</td>\n",
       "    </tr>\n",
       "  </tbody>\n",
       "</table>\n",
       "</div>"
      ],
      "text/plain": [
       "               IQ         age\n",
       "count  935.000000  935.000000\n",
       "mean   101.282353   33.080214\n",
       "std     15.052636    3.107803\n",
       "min     50.000000   28.000000\n",
       "25%     92.000000   30.000000\n",
       "50%    102.000000   33.000000\n",
       "75%    112.000000   36.000000\n",
       "max    145.000000   38.000000"
      ]
     },
     "execution_count": 3,
     "metadata": {},
     "output_type": "execute_result"
    }
   ],
   "source": [
    "df = pd.read_csv('https://raw.githubusercontent.com/artamonoff/Econometrica/master/python-notebooks/data-csv/wage2.csv')\n",
    "# Описательные статистики по переменным модели\n",
    "df[['IQ','age']].describe()"
   ]
  },
  {
   "cell_type": "code",
   "execution_count": 4,
   "id": "7c2267bd",
   "metadata": {},
   "outputs": [
    {
     "data": {
      "text/plain": [
       "Intercept    5.077\n",
       "IQ           0.009\n",
       "age          0.024\n",
       "dtype: float64"
      ]
     },
     "execution_count": 4,
     "metadata": {},
     "output_type": "execute_result"
    }
   ],
   "source": [
    "# специфицируем моделл через формулу\n",
    "wage_eq1 = smf.ols(formula='np.log(wage)~IQ+age', data=df).fit()\n",
    "# Коэфициенты модели с округление\n",
    "wage_eq1.params.round(3)"
   ]
  },
  {
   "cell_type": "markdown",
   "id": "a7eb7ebc",
   "metadata": {},
   "source": [
    "### Спецификация "
   ]
  },
  {
   "cell_type": "markdown",
   "id": "0067a8ff",
   "metadata": {},
   "source": [
    "$$\n",
    "log(wage)= 5.077+0.009*IQ+0.024*age\n",
    "$$"
   ]
  },
  {
   "cell_type": "markdown",
   "id": "131c21c0",
   "metadata": {},
   "source": [
    "### Интерпретация \n",
    "1. При увеличении значения IQ теста на 1, зарплата одного сотрудника в тысячах евро изменится на 0.9% при прочих равных условиях.\n",
    "2. При увеличении возраста сотрудника на 1 год, его зп уведичится на 2.4% при прочих равных условиях."
   ]
  }
 ],
 "metadata": {
  "kernelspec": {
   "display_name": "Python 3 (ipykernel)",
   "language": "python",
   "name": "python3"
  },
  "language_info": {
   "codemirror_mode": {
    "name": "ipython",
    "version": 3
   },
   "file_extension": ".py",
   "mimetype": "text/x-python",
   "name": "python",
   "nbconvert_exporter": "python",
   "pygments_lexer": "ipython3",
   "version": "3.9.16"
  }
 },
 "nbformat": 4,
 "nbformat_minor": 5
}
