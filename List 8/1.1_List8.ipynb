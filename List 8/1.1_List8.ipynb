{
 "cells": [
  {
   "cell_type": "code",
   "execution_count": 1,
   "id": "afe84021",
   "metadata": {},
   "outputs": [],
   "source": [
    "import pandas as pd\n",
    "import numpy as np\n",
    "import statsmodels.api as sm \n",
    "import statsmodels.formula.api as smf\n",
    "from statsmodels.iolib.summary2 import summary_params # вывод результатов тестирования\n",
    "from statsmodels.iolib.summary2 import summary_col # вывод результатов тестирования\n",
    "from statsmodels.stats.outliers_influence import variance_inflation_factor # VIF\n",
    "import scipy\n",
    "import matplotlib.pyplot as plt\n",
    "import seaborn as sns"
   ]
  },
  {
   "cell_type": "code",
   "execution_count": 2,
   "id": "83cbd856",
   "metadata": {},
   "outputs": [],
   "source": [
    "df = pd.read_csv('https://raw.githubusercontent.com/ryupepa/Econometrica/master/python-notebooks/data-csv/sleep75.csv')\n",
    "df['totwrk2_10000'] = df['totwrk']**2/10000"
   ]
  },
  {
   "cell_type": "code",
   "execution_count": 3,
   "id": "7e713d9b",
   "metadata": {},
   "outputs": [
    {
     "data": {
      "text/plain": [
       "Intercept        9.003\n",
       "totwrk2_10000    0.021\n",
       "age             -0.008\n",
       "smsa             0.357\n",
       "male             1.071\n",
       "south            0.989\n",
       "dtype: float64"
      ]
     },
     "execution_count": 3,
     "metadata": {},
     "output_type": "execute_result"
    }
   ],
   "source": [
    "model = smf.ols(data = df , formula = 'sleep~I(totwrk/100)+totwrk2_10000 +  age + smsa + male + south').fit()\n",
    "model_1 = smf.ols(data = df , formula = 'I(totwrk/100)~totwrk2_10000 +  age + smsa + male + south').fit()\n",
    "model_2 = smf.ols(data = df , formula = 'totwrk2_10000~ I(totwrk/100)+  age + smsa + male + south').fit()\n",
    "model_3 = smf.ols(data = df , formula = 'male~totwrk2_10000+ I(totwrk/100)+  age + smsa  + south').fit()\n",
    "model_1.params.round(3)"
   ]
  },
  {
   "cell_type": "code",
   "execution_count": 4,
   "id": "29ab0d76",
   "metadata": {},
   "outputs": [
    {
     "data": {
      "text/plain": [
       "0.8820765217832193"
      ]
     },
     "execution_count": 4,
     "metadata": {},
     "output_type": "execute_result"
    }
   ],
   "source": [
    "\n",
    "model_1.rsquared"
   ]
  },
  {
   "cell_type": "code",
   "execution_count": 5,
   "id": "96e1d8a7",
   "metadata": {},
   "outputs": [
    {
     "data": {
      "text/plain": [
       "8.47"
      ]
     },
     "execution_count": 5,
     "metadata": {},
     "output_type": "execute_result"
    }
   ],
   "source": [
    "VIF_1 = 1/(1 - model_1.rsquared.round(3))\n",
    "VIF_1.round(2)"
   ]
  },
  {
   "cell_type": "code",
   "execution_count": 6,
   "id": "98e592c3",
   "metadata": {},
   "outputs": [
    {
     "data": {
      "text/plain": [
       "8.26"
      ]
     },
     "execution_count": 6,
     "metadata": {},
     "output_type": "execute_result"
    }
   ],
   "source": [
    "VIF_2 = 1/(1 - model_2.rsquared.round(3))\n",
    "VIF_2.round(2)"
   ]
  },
  {
   "cell_type": "code",
   "execution_count": 7,
   "id": "499a05fe",
   "metadata": {},
   "outputs": [
    {
     "data": {
      "text/plain": [
       "1.17"
      ]
     },
     "execution_count": 7,
     "metadata": {},
     "output_type": "execute_result"
    }
   ],
   "source": [
    "VIF_3 = 1/(1 - model_3.rsquared.round(3))\n",
    "VIF_3.round(2)"
   ]
  },
  {
   "cell_type": "code",
   "execution_count": null,
   "id": "33938775",
   "metadata": {},
   "outputs": [],
   "source": []
  }
 ],
 "metadata": {
  "kernelspec": {
   "display_name": "Python 3 (ipykernel)",
   "language": "python",
   "name": "python3"
  },
  "language_info": {
   "codemirror_mode": {
    "name": "ipython",
    "version": 3
   },
   "file_extension": ".py",
   "mimetype": "text/x-python",
   "name": "python",
   "nbconvert_exporter": "python",
   "pygments_lexer": "ipython3",
   "version": "3.9.13"
  }
 },
 "nbformat": 4,
 "nbformat_minor": 5
}
