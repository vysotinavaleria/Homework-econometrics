{
 "cells": [
  {
   "cell_type": "code",
   "execution_count": 1,
   "id": "55b61754",
   "metadata": {},
   "outputs": [],
   "source": [
    "import pandas as pd\n",
    "import numpy as np\n",
    "import statsmodels.api as sm \n",
    "import statsmodels.formula.api as smf\n",
    "from statsmodels.iolib.summary2 import summary_params # вывод результатов тестирования\n",
    "from statsmodels.iolib.summary2 import summary_col # вывод результатов тестирования\n",
    "from statsmodels.stats.outliers_influence import variance_inflation_factor # VIF\n",
    "import scipy\n",
    "import matplotlib.pyplot as plt\n",
    "import seaborn as sns"
   ]
  },
  {
   "cell_type": "code",
   "execution_count": 4,
   "id": "63753d34",
   "metadata": {},
   "outputs": [],
   "source": [
    "df = pd.read_csv('https://raw.githubusercontent.com/ryupepa/Econometrica/master/python-notebooks/data-csv/sleep75.csv')\n",
    "df['totwrk2_10000'] = df['totwrk']**2/10000"
   ]
  },
  {
   "cell_type": "code",
   "execution_count": 5,
   "id": "4f91a42e",
   "metadata": {},
   "outputs": [],
   "source": [
    "# Модель sleep на totwrk/100, totwrk^2/10000, age, smsa, male\n",
    "Sleep_eq12 = smf.ols(formula = 'sleep~I(totwrk/100)+I(totwrk**2/10000)+age+smsa+male', data = df).fit()"
   ]
  },
  {
   "cell_type": "code",
   "execution_count": 6,
   "id": "06bde648",
   "metadata": {},
   "outputs": [
    {
     "name": "stdout",
     "output_type": "stream",
     "text": [
      "\n",
      "==================================\n",
      "                          sleep   \n",
      "----------------------------------\n",
      "Intercept              3428.805***\n",
      "                       (76.655)   \n",
      "I(totwrk / 100)        -8.195*    \n",
      "                       (4.789)    \n",
      "I(totwrk ** 2 / 10000) -0.214*    \n",
      "                       (0.111)    \n",
      "age                    2.817**    \n",
      "                       (1.387)    \n",
      "smsa                   -78.049**  \n",
      "                       (32.072)   \n",
      "male                   86.639**   \n",
      "                       (34.200)   \n",
      "R-squared              0.128      \n",
      "R-squared Adj.         0.122      \n",
      "No. Observations       706        \n",
      "Residual Std. Error    416.457    \n",
      "F-statistic            20.566     \n",
      "Prob (F-statistic)     0.000      \n",
      "==================================\n",
      "Standard errors in parentheses.\n",
      "* p<.1, ** p<.05, ***p<.01\n"
     ]
    }
   ],
   "source": [
    "info_dict = {'No. Observations': lambda x: '{0:d}'.format(int(x.nobs)), \n",
    "             'Residual Std. Error': lambda x: \"%#8.3f\" % x.mse_resid**0.5,\n",
    "             'F-statistic': lambda x: '{:.3f}'.format(x.fvalue), \n",
    "             'Prob (F-statistic)': lambda x: '{:.3f}'.format(x.f_pvalue)\n",
    "             }\n",
    "print(summary_col(Sleep_eq12, float_format='%.3f', stars=True, info_dict = info_dict))"
   ]
  },
  {
   "cell_type": "code",
   "execution_count": 7,
   "id": "e0825b69",
   "metadata": {},
   "outputs": [
    {
     "data": {
      "text/html": [
       "<div>\n",
       "<style scoped>\n",
       "    .dataframe tbody tr th:only-of-type {\n",
       "        vertical-align: middle;\n",
       "    }\n",
       "\n",
       "    .dataframe tbody tr th {\n",
       "        vertical-align: top;\n",
       "    }\n",
       "\n",
       "    .dataframe thead th {\n",
       "        text-align: right;\n",
       "    }\n",
       "</style>\n",
       "<table border=\"1\" class=\"dataframe\">\n",
       "  <thead>\n",
       "    <tr style=\"text-align: right;\">\n",
       "      <th></th>\n",
       "      <th>Coef.</th>\n",
       "      <th>Std.Err.</th>\n",
       "      <th>t</th>\n",
       "      <th>P&gt;|t|</th>\n",
       "      <th>[0.025</th>\n",
       "      <th>0.975]</th>\n",
       "      <th>significance</th>\n",
       "    </tr>\n",
       "  </thead>\n",
       "  <tbody>\n",
       "    <tr>\n",
       "      <th>Intercept</th>\n",
       "      <td>3428.804849</td>\n",
       "      <td>76.655048</td>\n",
       "      <td>44.730320</td>\n",
       "      <td>2.023213e-207</td>\n",
       "      <td>3278.303493</td>\n",
       "      <td>3579.306204</td>\n",
       "      <td>Значим</td>\n",
       "    </tr>\n",
       "    <tr>\n",
       "      <th>I(totwrk / 100)</th>\n",
       "      <td>-8.195316</td>\n",
       "      <td>4.789446</td>\n",
       "      <td>-1.711120</td>\n",
       "      <td>8.750201e-02</td>\n",
       "      <td>-17.598716</td>\n",
       "      <td>1.208085</td>\n",
       "      <td>Незначим</td>\n",
       "    </tr>\n",
       "    <tr>\n",
       "      <th>I(totwrk ** 2 / 10000)</th>\n",
       "      <td>-0.214156</td>\n",
       "      <td>0.110951</td>\n",
       "      <td>-1.930194</td>\n",
       "      <td>5.398646e-02</td>\n",
       "      <td>-0.431992</td>\n",
       "      <td>0.003680</td>\n",
       "      <td>Незначим</td>\n",
       "    </tr>\n",
       "    <tr>\n",
       "      <th>age</th>\n",
       "      <td>2.816697</td>\n",
       "      <td>1.386926</td>\n",
       "      <td>2.030892</td>\n",
       "      <td>4.264340e-02</td>\n",
       "      <td>0.093663</td>\n",
       "      <td>5.539731</td>\n",
       "      <td>Значим</td>\n",
       "    </tr>\n",
       "    <tr>\n",
       "      <th>smsa</th>\n",
       "      <td>-78.049460</td>\n",
       "      <td>32.072351</td>\n",
       "      <td>-2.433543</td>\n",
       "      <td>1.520105e-02</td>\n",
       "      <td>-141.018991</td>\n",
       "      <td>-15.079930</td>\n",
       "      <td>Значим</td>\n",
       "    </tr>\n",
       "    <tr>\n",
       "      <th>male</th>\n",
       "      <td>86.638759</td>\n",
       "      <td>34.199952</td>\n",
       "      <td>2.533301</td>\n",
       "      <td>1.151657e-02</td>\n",
       "      <td>19.491986</td>\n",
       "      <td>153.785532</td>\n",
       "      <td>Значим</td>\n",
       "    </tr>\n",
       "  </tbody>\n",
       "</table>\n",
       "</div>"
      ],
      "text/plain": [
       "                              Coef.   Std.Err.          t          P>|t|  \\\n",
       "Intercept               3428.804849  76.655048  44.730320  2.023213e-207   \n",
       "I(totwrk / 100)           -8.195316   4.789446  -1.711120   8.750201e-02   \n",
       "I(totwrk ** 2 / 10000)    -0.214156   0.110951  -1.930194   5.398646e-02   \n",
       "age                        2.816697   1.386926   2.030892   4.264340e-02   \n",
       "smsa                     -78.049460  32.072351  -2.433543   1.520105e-02   \n",
       "male                      86.638759  34.199952   2.533301   1.151657e-02   \n",
       "\n",
       "                             [0.025       0.975] significance  \n",
       "Intercept               3278.303493  3579.306204       Значим  \n",
       "I(totwrk / 100)          -17.598716     1.208085     Незначим  \n",
       "I(totwrk ** 2 / 10000)    -0.431992     0.003680     Незначим  \n",
       "age                        0.093663     5.539731       Значим  \n",
       "smsa                    -141.018991   -15.079930       Значим  \n",
       "male                      19.491986   153.785532       Значим  "
      ]
     },
     "execution_count": 7,
     "metadata": {},
     "output_type": "execute_result"
    }
   ],
   "source": [
    "df = summary_params(Sleep_eq12, alpha=0.05)\n",
    "df['significance'] = df.apply(lambda x: 'Значим' if x['P>|t|']<0.05 else 'Незначим', axis=1)\n",
    "df"
   ]
  },
  {
   "cell_type": "code",
   "execution_count": null,
   "id": "161e2941",
   "metadata": {},
   "outputs": [],
   "source": []
  }
 ],
 "metadata": {
  "kernelspec": {
   "display_name": "Python 3 (ipykernel)",
   "language": "python",
   "name": "python3"
  },
  "language_info": {
   "codemirror_mode": {
    "name": "ipython",
    "version": 3
   },
   "file_extension": ".py",
   "mimetype": "text/x-python",
   "name": "python",
   "nbconvert_exporter": "python",
   "pygments_lexer": "ipython3",
   "version": "3.9.13"
  }
 },
 "nbformat": 4,
 "nbformat_minor": 5
}
