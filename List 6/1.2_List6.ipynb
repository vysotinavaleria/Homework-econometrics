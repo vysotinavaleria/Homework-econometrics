{
 "cells": [
  {
   "cell_type": "code",
   "execution_count": 1,
   "id": "7162efee",
   "metadata": {},
   "outputs": [],
   "source": [
    "import pandas as pd\n",
    "import numpy as np\n",
    "import io\n",
    "import statsmodels.formula.api as smf\n",
    "import scipy.stats as stats\n",
    "import re"
   ]
  },
  {
   "cell_type": "code",
   "execution_count": 4,
   "id": "fec2efdf",
   "metadata": {},
   "outputs": [],
   "source": [
    "data_string = '''log(capital)                 0.208***          \n",
    "                              (0.017)          \n",
    "                                               \n",
    "log(labour)                  0.715***          \n",
    "                              (0.023)          \n",
    "                                               \n",
    "Constant                     -1.711***         \n",
    "                              (0.097)'''"
   ]
  },
  {
   "cell_type": "code",
   "execution_count": 5,
   "id": "f75f2580",
   "metadata": {},
   "outputs": [
    {
     "data": {
      "text/plain": [
       "array([['log(capital)', '0.208***', '(0.017)'],\n",
       "       ['log(labour)', '0.715***', '(0.023)'],\n",
       "       ['Constant', '-1.711***', '(0.097)']], dtype='<U12')"
      ]
     },
     "execution_count": 5,
     "metadata": {},
     "output_type": "execute_result"
    }
   ],
   "source": [
    "np.reshape(data_string.strip().split(), (3,3) )"
   ]
  },
  {
   "cell_type": "code",
   "execution_count": 7,
   "id": "111784e6",
   "metadata": {},
   "outputs": [
    {
     "data": {
      "text/html": [
       "<div>\n",
       "<style scoped>\n",
       "    .dataframe tbody tr th:only-of-type {\n",
       "        vertical-align: middle;\n",
       "    }\n",
       "\n",
       "    .dataframe tbody tr th {\n",
       "        vertical-align: top;\n",
       "    }\n",
       "\n",
       "    .dataframe thead th {\n",
       "        text-align: right;\n",
       "    }\n",
       "</style>\n",
       "<table border=\"1\" class=\"dataframe\">\n",
       "  <thead>\n",
       "    <tr style=\"text-align: right;\">\n",
       "      <th></th>\n",
       "      <th>Coeff</th>\n",
       "      <th>Est str</th>\n",
       "      <th>std.err. str</th>\n",
       "    </tr>\n",
       "  </thead>\n",
       "  <tbody>\n",
       "    <tr>\n",
       "      <th>0</th>\n",
       "      <td>log(capital)</td>\n",
       "      <td>0.208***</td>\n",
       "      <td>(0.017)</td>\n",
       "    </tr>\n",
       "    <tr>\n",
       "      <th>1</th>\n",
       "      <td>log(labour)</td>\n",
       "      <td>0.715***</td>\n",
       "      <td>(0.023)</td>\n",
       "    </tr>\n",
       "    <tr>\n",
       "      <th>2</th>\n",
       "      <td>Constant</td>\n",
       "      <td>-1.711***</td>\n",
       "      <td>(0.097)</td>\n",
       "    </tr>\n",
       "  </tbody>\n",
       "</table>\n",
       "</div>"
      ],
      "text/plain": [
       "          Coeff    Est str std.err. str\n",
       "0  log(capital)   0.208***      (0.017)\n",
       "1   log(labour)   0.715***      (0.023)\n",
       "2      Constant  -1.711***      (0.097)"
      ]
     },
     "execution_count": 7,
     "metadata": {},
     "output_type": "execute_result"
    }
   ],
   "source": [
    "df = pd.DataFrame(np.reshape(data_string.strip().split(), (3,3) ), columns=['Coeff','Est str','std.err. str'])\n",
    "df"
   ]
  },
  {
   "cell_type": "code",
   "execution_count": 8,
   "id": "6eb89f62",
   "metadata": {},
   "outputs": [
    {
     "data": {
      "text/html": [
       "<div>\n",
       "<style scoped>\n",
       "    .dataframe tbody tr th:only-of-type {\n",
       "        vertical-align: middle;\n",
       "    }\n",
       "\n",
       "    .dataframe tbody tr th {\n",
       "        vertical-align: top;\n",
       "    }\n",
       "\n",
       "    .dataframe thead th {\n",
       "        text-align: right;\n",
       "    }\n",
       "</style>\n",
       "<table border=\"1\" class=\"dataframe\">\n",
       "  <thead>\n",
       "    <tr style=\"text-align: right;\">\n",
       "      <th></th>\n",
       "      <th>Coeff</th>\n",
       "      <th>Est str</th>\n",
       "      <th>std.err. str</th>\n",
       "      <th>Estimate</th>\n",
       "      <th>Std.error</th>\n",
       "    </tr>\n",
       "  </thead>\n",
       "  <tbody>\n",
       "    <tr>\n",
       "      <th>0</th>\n",
       "      <td>log(capital)</td>\n",
       "      <td>0.208***</td>\n",
       "      <td>(0.017)</td>\n",
       "      <td>0.208</td>\n",
       "      <td>0.017</td>\n",
       "    </tr>\n",
       "    <tr>\n",
       "      <th>1</th>\n",
       "      <td>log(labour)</td>\n",
       "      <td>0.715***</td>\n",
       "      <td>(0.023)</td>\n",
       "      <td>0.715</td>\n",
       "      <td>0.023</td>\n",
       "    </tr>\n",
       "    <tr>\n",
       "      <th>2</th>\n",
       "      <td>Constant</td>\n",
       "      <td>-1.711***</td>\n",
       "      <td>(0.097)</td>\n",
       "      <td>-1.711</td>\n",
       "      <td>0.097</td>\n",
       "    </tr>\n",
       "  </tbody>\n",
       "</table>\n",
       "</div>"
      ],
      "text/plain": [
       "          Coeff    Est str std.err. str  Estimate  Std.error\n",
       "0  log(capital)   0.208***      (0.017)     0.208      0.017\n",
       "1   log(labour)   0.715***      (0.023)     0.715      0.023\n",
       "2      Constant  -1.711***      (0.097)    -1.711      0.097"
      ]
     },
     "execution_count": 8,
     "metadata": {},
     "output_type": "execute_result"
    }
   ],
   "source": [
    "df['Estimate'] = df['Est str'].str.extract(r'([-+]?\\d+.\\d+)').astype(float)\n",
    "df['Std.error'] = df['std.err. str'].str.extract(r'([-+]?\\d+.\\d+)').astype(float)\n",
    "df"
   ]
  },
  {
   "cell_type": "code",
   "execution_count": 9,
   "id": "72ad6369",
   "metadata": {},
   "outputs": [
    {
     "data": {
      "text/plain": [
       "1.9641566779100001"
      ]
     },
     "execution_count": 9,
     "metadata": {},
     "output_type": "execute_result"
    }
   ],
   "source": [
    "alpha = 0.05\n",
    "t_cr = stats.t.ppf(1-alpha/2, 570 - 3)\n",
    "t_cr"
   ]
  },
  {
   "cell_type": "code",
   "execution_count": 10,
   "id": "49a42d3f",
   "metadata": {},
   "outputs": [
    {
     "data": {
      "text/html": [
       "<div>\n",
       "<style scoped>\n",
       "    .dataframe tbody tr th:only-of-type {\n",
       "        vertical-align: middle;\n",
       "    }\n",
       "\n",
       "    .dataframe tbody tr th {\n",
       "        vertical-align: top;\n",
       "    }\n",
       "\n",
       "    .dataframe thead th {\n",
       "        text-align: right;\n",
       "    }\n",
       "</style>\n",
       "<table border=\"1\" class=\"dataframe\">\n",
       "  <thead>\n",
       "    <tr style=\"text-align: right;\">\n",
       "      <th></th>\n",
       "      <th>Coeff</th>\n",
       "      <th>Est str</th>\n",
       "      <th>std.err. str</th>\n",
       "      <th>Estimate</th>\n",
       "      <th>Std.error</th>\n",
       "      <th>lower</th>\n",
       "      <th>upper</th>\n",
       "    </tr>\n",
       "  </thead>\n",
       "  <tbody>\n",
       "    <tr>\n",
       "      <th>0</th>\n",
       "      <td>log(capital)</td>\n",
       "      <td>0.208***</td>\n",
       "      <td>(0.017)</td>\n",
       "      <td>0.208</td>\n",
       "      <td>0.017</td>\n",
       "      <td>0.175</td>\n",
       "      <td>0.241</td>\n",
       "    </tr>\n",
       "    <tr>\n",
       "      <th>1</th>\n",
       "      <td>log(labour)</td>\n",
       "      <td>0.715***</td>\n",
       "      <td>(0.023)</td>\n",
       "      <td>0.715</td>\n",
       "      <td>0.023</td>\n",
       "      <td>0.670</td>\n",
       "      <td>0.760</td>\n",
       "    </tr>\n",
       "    <tr>\n",
       "      <th>2</th>\n",
       "      <td>Constant</td>\n",
       "      <td>-1.711***</td>\n",
       "      <td>(0.097)</td>\n",
       "      <td>-1.711</td>\n",
       "      <td>0.097</td>\n",
       "      <td>-1.902</td>\n",
       "      <td>-1.520</td>\n",
       "    </tr>\n",
       "  </tbody>\n",
       "</table>\n",
       "</div>"
      ],
      "text/plain": [
       "          Coeff    Est str std.err. str  Estimate  Std.error  lower  upper\n",
       "0  log(capital)   0.208***      (0.017)     0.208      0.017  0.175  0.241\n",
       "1   log(labour)   0.715***      (0.023)     0.715      0.023  0.670  0.760\n",
       "2      Constant  -1.711***      (0.097)    -1.711      0.097 -1.902 -1.520"
      ]
     },
     "execution_count": 10,
     "metadata": {},
     "output_type": "execute_result"
    }
   ],
   "source": [
    "df['lower'] = (df['Estimate'] - df['Std.error']*t_cr).round(3)\n",
    "df['upper'] = (df['Estimate'] + df['Std.error']*t_cr).round(3)\n",
    "df"
   ]
  },
  {
   "cell_type": "code",
   "execution_count": null,
   "id": "d6a16aba",
   "metadata": {},
   "outputs": [],
   "source": []
  }
 ],
 "metadata": {
  "kernelspec": {
   "display_name": "Python 3 (ipykernel)",
   "language": "python",
   "name": "python3"
  },
  "language_info": {
   "codemirror_mode": {
    "name": "ipython",
    "version": 3
   },
   "file_extension": ".py",
   "mimetype": "text/x-python",
   "name": "python",
   "nbconvert_exporter": "python",
   "pygments_lexer": "ipython3",
   "version": "3.9.13"
  }
 },
 "nbformat": 4,
 "nbformat_minor": 5
}
