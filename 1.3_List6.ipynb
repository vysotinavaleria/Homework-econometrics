{
 "cells": [
  {
   "cell_type": "code",
   "execution_count": 1,
   "id": "7a9ad2f0",
   "metadata": {},
   "outputs": [],
   "source": [
    "import pandas as pd\n",
    "import numpy as np\n",
    "import io\n",
    "import statsmodels.formula.api as smf\n",
    "import scipy.stats as stats\n",
    "import re"
   ]
  },
  {
   "cell_type": "code",
   "execution_count": 2,
   "id": "e60de31e",
   "metadata": {},
   "outputs": [],
   "source": [
    "data_string = '''log(q)                       0.403***          \n",
    "                              (0.032)          \n",
    "                                               \n",
    "I(log(q)2)                   0.030***          \n",
    "                              (0.002)          \n",
    "                                               \n",
    "log(pl)                       0.146**          \n",
    "                              (0.070)          \n",
    "                                               \n",
    "log(pk)                      0.157***          \n",
    "                              (0.058)          \n",
    "                                               \n",
    "log(pf)                      0.685***          \n",
    "                              (0.043)          \n",
    "                                               \n",
    "Constant                     -6.739***         \n",
    "                              (0.706)'''"
   ]
  },
  {
   "cell_type": "code",
   "execution_count": 3,
   "id": "56483807",
   "metadata": {},
   "outputs": [
    {
     "data": {
      "text/plain": [
       "array([['log(q)', '0.403***', '(0.032)'],\n",
       "       ['I(log(q)2)', '0.030***', '(0.002)'],\n",
       "       ['log(pl)', '0.146**', '(0.070)'],\n",
       "       ['log(pk)', '0.157***', '(0.058)'],\n",
       "       ['log(pf)', '0.685***', '(0.043)'],\n",
       "       ['Constant', '-6.739***', '(0.706)']], dtype='<U10')"
      ]
     },
     "execution_count": 3,
     "metadata": {},
     "output_type": "execute_result"
    }
   ],
   "source": [
    "np.reshape(data_string.strip().split(), (6,3) )"
   ]
  },
  {
   "cell_type": "code",
   "execution_count": 4,
   "id": "147b23a1",
   "metadata": {},
   "outputs": [
    {
     "data": {
      "text/html": [
       "<div>\n",
       "<style scoped>\n",
       "    .dataframe tbody tr th:only-of-type {\n",
       "        vertical-align: middle;\n",
       "    }\n",
       "\n",
       "    .dataframe tbody tr th {\n",
       "        vertical-align: top;\n",
       "    }\n",
       "\n",
       "    .dataframe thead th {\n",
       "        text-align: right;\n",
       "    }\n",
       "</style>\n",
       "<table border=\"1\" class=\"dataframe\">\n",
       "  <thead>\n",
       "    <tr style=\"text-align: right;\">\n",
       "      <th></th>\n",
       "      <th>Coeff</th>\n",
       "      <th>Est str</th>\n",
       "      <th>std.err. str</th>\n",
       "    </tr>\n",
       "  </thead>\n",
       "  <tbody>\n",
       "    <tr>\n",
       "      <th>0</th>\n",
       "      <td>log(q)</td>\n",
       "      <td>0.403***</td>\n",
       "      <td>(0.032)</td>\n",
       "    </tr>\n",
       "    <tr>\n",
       "      <th>1</th>\n",
       "      <td>I(log(q)2)</td>\n",
       "      <td>0.030***</td>\n",
       "      <td>(0.002)</td>\n",
       "    </tr>\n",
       "    <tr>\n",
       "      <th>2</th>\n",
       "      <td>log(pl)</td>\n",
       "      <td>0.146**</td>\n",
       "      <td>(0.070)</td>\n",
       "    </tr>\n",
       "    <tr>\n",
       "      <th>3</th>\n",
       "      <td>log(pk)</td>\n",
       "      <td>0.157***</td>\n",
       "      <td>(0.058)</td>\n",
       "    </tr>\n",
       "    <tr>\n",
       "      <th>4</th>\n",
       "      <td>log(pf)</td>\n",
       "      <td>0.685***</td>\n",
       "      <td>(0.043)</td>\n",
       "    </tr>\n",
       "    <tr>\n",
       "      <th>5</th>\n",
       "      <td>Constant</td>\n",
       "      <td>-6.739***</td>\n",
       "      <td>(0.706)</td>\n",
       "    </tr>\n",
       "  </tbody>\n",
       "</table>\n",
       "</div>"
      ],
      "text/plain": [
       "        Coeff    Est str std.err. str\n",
       "0      log(q)   0.403***      (0.032)\n",
       "1  I(log(q)2)   0.030***      (0.002)\n",
       "2     log(pl)    0.146**      (0.070)\n",
       "3     log(pk)   0.157***      (0.058)\n",
       "4     log(pf)   0.685***      (0.043)\n",
       "5    Constant  -6.739***      (0.706)"
      ]
     },
     "execution_count": 4,
     "metadata": {},
     "output_type": "execute_result"
    }
   ],
   "source": [
    "df = pd.DataFrame(np.reshape(data_string.strip().split(), (6,3) ), columns=['Coeff','Est str','std.err. str'])\n",
    "df"
   ]
  },
  {
   "cell_type": "code",
   "execution_count": 5,
   "id": "97c84608",
   "metadata": {},
   "outputs": [
    {
     "data": {
      "text/html": [
       "<div>\n",
       "<style scoped>\n",
       "    .dataframe tbody tr th:only-of-type {\n",
       "        vertical-align: middle;\n",
       "    }\n",
       "\n",
       "    .dataframe tbody tr th {\n",
       "        vertical-align: top;\n",
       "    }\n",
       "\n",
       "    .dataframe thead th {\n",
       "        text-align: right;\n",
       "    }\n",
       "</style>\n",
       "<table border=\"1\" class=\"dataframe\">\n",
       "  <thead>\n",
       "    <tr style=\"text-align: right;\">\n",
       "      <th></th>\n",
       "      <th>Coeff</th>\n",
       "      <th>Est str</th>\n",
       "      <th>std.err. str</th>\n",
       "      <th>Estimate</th>\n",
       "      <th>Std.error</th>\n",
       "    </tr>\n",
       "  </thead>\n",
       "  <tbody>\n",
       "    <tr>\n",
       "      <th>0</th>\n",
       "      <td>log(q)</td>\n",
       "      <td>0.403***</td>\n",
       "      <td>(0.032)</td>\n",
       "      <td>0.403</td>\n",
       "      <td>0.032</td>\n",
       "    </tr>\n",
       "    <tr>\n",
       "      <th>1</th>\n",
       "      <td>I(log(q)2)</td>\n",
       "      <td>0.030***</td>\n",
       "      <td>(0.002)</td>\n",
       "      <td>0.030</td>\n",
       "      <td>0.002</td>\n",
       "    </tr>\n",
       "    <tr>\n",
       "      <th>2</th>\n",
       "      <td>log(pl)</td>\n",
       "      <td>0.146**</td>\n",
       "      <td>(0.070)</td>\n",
       "      <td>0.146</td>\n",
       "      <td>0.070</td>\n",
       "    </tr>\n",
       "    <tr>\n",
       "      <th>3</th>\n",
       "      <td>log(pk)</td>\n",
       "      <td>0.157***</td>\n",
       "      <td>(0.058)</td>\n",
       "      <td>0.157</td>\n",
       "      <td>0.058</td>\n",
       "    </tr>\n",
       "    <tr>\n",
       "      <th>4</th>\n",
       "      <td>log(pf)</td>\n",
       "      <td>0.685***</td>\n",
       "      <td>(0.043)</td>\n",
       "      <td>0.685</td>\n",
       "      <td>0.043</td>\n",
       "    </tr>\n",
       "    <tr>\n",
       "      <th>5</th>\n",
       "      <td>Constant</td>\n",
       "      <td>-6.739***</td>\n",
       "      <td>(0.706)</td>\n",
       "      <td>-6.739</td>\n",
       "      <td>0.706</td>\n",
       "    </tr>\n",
       "  </tbody>\n",
       "</table>\n",
       "</div>"
      ],
      "text/plain": [
       "        Coeff    Est str std.err. str  Estimate  Std.error\n",
       "0      log(q)   0.403***      (0.032)     0.403      0.032\n",
       "1  I(log(q)2)   0.030***      (0.002)     0.030      0.002\n",
       "2     log(pl)    0.146**      (0.070)     0.146      0.070\n",
       "3     log(pk)   0.157***      (0.058)     0.157      0.058\n",
       "4     log(pf)   0.685***      (0.043)     0.685      0.043\n",
       "5    Constant  -6.739***      (0.706)    -6.739      0.706"
      ]
     },
     "execution_count": 5,
     "metadata": {},
     "output_type": "execute_result"
    }
   ],
   "source": [
    "df['Estimate'] = df['Est str'].str.extract(r'([-+]?\\d+.\\d+)').astype(float)\n",
    "df['Std.error'] = df['std.err. str'].str.extract(r'([-+]?\\d+.\\d+)').astype(float)\n",
    "df"
   ]
  },
  {
   "cell_type": "code",
   "execution_count": 6,
   "id": "81b48a15",
   "metadata": {},
   "outputs": [
    {
     "data": {
      "text/plain": [
       "2.5845280108343665"
      ]
     },
     "execution_count": 6,
     "metadata": {},
     "output_type": "execute_result"
    }
   ],
   "source": [
    "alpha = 0.01\n",
    "t_cr = stats.t.ppf(1-alpha/2, 570 - 3)\n",
    "t_cr"
   ]
  },
  {
   "cell_type": "code",
   "execution_count": 7,
   "id": "9dcd44cb",
   "metadata": {},
   "outputs": [
    {
     "data": {
      "text/html": [
       "<div>\n",
       "<style scoped>\n",
       "    .dataframe tbody tr th:only-of-type {\n",
       "        vertical-align: middle;\n",
       "    }\n",
       "\n",
       "    .dataframe tbody tr th {\n",
       "        vertical-align: top;\n",
       "    }\n",
       "\n",
       "    .dataframe thead th {\n",
       "        text-align: right;\n",
       "    }\n",
       "</style>\n",
       "<table border=\"1\" class=\"dataframe\">\n",
       "  <thead>\n",
       "    <tr style=\"text-align: right;\">\n",
       "      <th></th>\n",
       "      <th>Coeff</th>\n",
       "      <th>Est str</th>\n",
       "      <th>std.err. str</th>\n",
       "      <th>Estimate</th>\n",
       "      <th>Std.error</th>\n",
       "      <th>lower</th>\n",
       "      <th>upper</th>\n",
       "    </tr>\n",
       "  </thead>\n",
       "  <tbody>\n",
       "    <tr>\n",
       "      <th>0</th>\n",
       "      <td>log(q)</td>\n",
       "      <td>0.403***</td>\n",
       "      <td>(0.032)</td>\n",
       "      <td>0.403</td>\n",
       "      <td>0.032</td>\n",
       "      <td>0.320</td>\n",
       "      <td>0.486</td>\n",
       "    </tr>\n",
       "    <tr>\n",
       "      <th>1</th>\n",
       "      <td>I(log(q)2)</td>\n",
       "      <td>0.030***</td>\n",
       "      <td>(0.002)</td>\n",
       "      <td>0.030</td>\n",
       "      <td>0.002</td>\n",
       "      <td>0.025</td>\n",
       "      <td>0.035</td>\n",
       "    </tr>\n",
       "    <tr>\n",
       "      <th>2</th>\n",
       "      <td>log(pl)</td>\n",
       "      <td>0.146**</td>\n",
       "      <td>(0.070)</td>\n",
       "      <td>0.146</td>\n",
       "      <td>0.070</td>\n",
       "      <td>-0.035</td>\n",
       "      <td>0.327</td>\n",
       "    </tr>\n",
       "    <tr>\n",
       "      <th>3</th>\n",
       "      <td>log(pk)</td>\n",
       "      <td>0.157***</td>\n",
       "      <td>(0.058)</td>\n",
       "      <td>0.157</td>\n",
       "      <td>0.058</td>\n",
       "      <td>0.007</td>\n",
       "      <td>0.307</td>\n",
       "    </tr>\n",
       "    <tr>\n",
       "      <th>4</th>\n",
       "      <td>log(pf)</td>\n",
       "      <td>0.685***</td>\n",
       "      <td>(0.043)</td>\n",
       "      <td>0.685</td>\n",
       "      <td>0.043</td>\n",
       "      <td>0.574</td>\n",
       "      <td>0.796</td>\n",
       "    </tr>\n",
       "    <tr>\n",
       "      <th>5</th>\n",
       "      <td>Constant</td>\n",
       "      <td>-6.739***</td>\n",
       "      <td>(0.706)</td>\n",
       "      <td>-6.739</td>\n",
       "      <td>0.706</td>\n",
       "      <td>-8.564</td>\n",
       "      <td>-4.914</td>\n",
       "    </tr>\n",
       "  </tbody>\n",
       "</table>\n",
       "</div>"
      ],
      "text/plain": [
       "        Coeff    Est str std.err. str  Estimate  Std.error  lower  upper\n",
       "0      log(q)   0.403***      (0.032)     0.403      0.032  0.320  0.486\n",
       "1  I(log(q)2)   0.030***      (0.002)     0.030      0.002  0.025  0.035\n",
       "2     log(pl)    0.146**      (0.070)     0.146      0.070 -0.035  0.327\n",
       "3     log(pk)   0.157***      (0.058)     0.157      0.058  0.007  0.307\n",
       "4     log(pf)   0.685***      (0.043)     0.685      0.043  0.574  0.796\n",
       "5    Constant  -6.739***      (0.706)    -6.739      0.706 -8.564 -4.914"
      ]
     },
     "execution_count": 7,
     "metadata": {},
     "output_type": "execute_result"
    }
   ],
   "source": [
    "df['lower'] = (df['Estimate'] - df['Std.error']*t_cr).round(3)\n",
    "df['upper'] = (df['Estimate'] + df['Std.error']*t_cr).round(3)\n",
    "df"
   ]
  },
  {
   "cell_type": "code",
   "execution_count": null,
   "id": "9ae28334",
   "metadata": {},
   "outputs": [],
   "source": []
  }
 ],
 "metadata": {
  "kernelspec": {
   "display_name": "Python 3 (ipykernel)",
   "language": "python",
   "name": "python3"
  },
  "language_info": {
   "codemirror_mode": {
    "name": "ipython",
    "version": 3
   },
   "file_extension": ".py",
   "mimetype": "text/x-python",
   "name": "python",
   "nbconvert_exporter": "python",
   "pygments_lexer": "ipython3",
   "version": "3.9.13"
  }
 },
 "nbformat": 4,
 "nbformat_minor": 5
}
