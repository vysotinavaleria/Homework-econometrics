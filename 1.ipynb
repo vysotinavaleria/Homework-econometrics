{
 "cells": [
  {
   "cell_type": "code",
   "execution_count": 54,
   "id": "2cd06b36",
   "metadata": {},
   "outputs": [],
   "source": [
    "import numpy as np\n",
    "import pandas as pd\n",
    "import io\n",
    "import statsmodels.formula.api as smf\n",
    "import scipy.stats as stats\n",
    "import scipy\n",
    "import seaborn as sns"
   ]
  },
  {
   "cell_type": "code",
   "execution_count": 114,
   "id": "3e59ca22",
   "metadata": {},
   "outputs": [
    {
     "data": {
      "text/html": [
       "<div>\n",
       "<style scoped>\n",
       "    .dataframe tbody tr th:only-of-type {\n",
       "        vertical-align: middle;\n",
       "    }\n",
       "\n",
       "    .dataframe tbody tr th {\n",
       "        vertical-align: top;\n",
       "    }\n",
       "\n",
       "    .dataframe thead th {\n",
       "        text-align: right;\n",
       "    }\n",
       "</style>\n",
       "<table border=\"1\" class=\"dataframe\">\n",
       "  <thead>\n",
       "    <tr style=\"text-align: right;\">\n",
       "      <th></th>\n",
       "      <th>participation</th>\n",
       "      <th>income</th>\n",
       "      <th>age</th>\n",
       "      <th>education</th>\n",
       "      <th>youngkids</th>\n",
       "      <th>oldkids</th>\n",
       "      <th>foreign</th>\n",
       "    </tr>\n",
       "  </thead>\n",
       "  <tbody>\n",
       "    <tr>\n",
       "      <th>0</th>\n",
       "      <td>no</td>\n",
       "      <td>10.787497</td>\n",
       "      <td>3.0</td>\n",
       "      <td>8</td>\n",
       "      <td>1</td>\n",
       "      <td>1</td>\n",
       "      <td>no</td>\n",
       "    </tr>\n",
       "    <tr>\n",
       "      <th>1</th>\n",
       "      <td>yes</td>\n",
       "      <td>10.524251</td>\n",
       "      <td>4.5</td>\n",
       "      <td>8</td>\n",
       "      <td>0</td>\n",
       "      <td>1</td>\n",
       "      <td>no</td>\n",
       "    </tr>\n",
       "    <tr>\n",
       "      <th>2</th>\n",
       "      <td>no</td>\n",
       "      <td>10.968578</td>\n",
       "      <td>4.6</td>\n",
       "      <td>9</td>\n",
       "      <td>0</td>\n",
       "      <td>0</td>\n",
       "      <td>no</td>\n",
       "    </tr>\n",
       "    <tr>\n",
       "      <th>3</th>\n",
       "      <td>no</td>\n",
       "      <td>11.104999</td>\n",
       "      <td>3.1</td>\n",
       "      <td>11</td>\n",
       "      <td>2</td>\n",
       "      <td>0</td>\n",
       "      <td>no</td>\n",
       "    </tr>\n",
       "    <tr>\n",
       "      <th>4</th>\n",
       "      <td>no</td>\n",
       "      <td>11.108470</td>\n",
       "      <td>4.4</td>\n",
       "      <td>12</td>\n",
       "      <td>0</td>\n",
       "      <td>2</td>\n",
       "      <td>no</td>\n",
       "    </tr>\n",
       "  </tbody>\n",
       "</table>\n",
       "</div>"
      ],
      "text/plain": [
       "  participation     income  age  education  youngkids  oldkids foreign\n",
       "0            no  10.787497  3.0          8          1        1      no\n",
       "1           yes  10.524251  4.5          8          0        1      no\n",
       "2            no  10.968578  4.6          9          0        0      no\n",
       "3            no  11.104999  3.1         11          2        0      no\n",
       "4            no  11.108470  4.4         12          0        2      no"
      ]
     },
     "execution_count": 114,
     "metadata": {},
     "output_type": "execute_result"
    }
   ],
   "source": [
    "df = pd.read_csv('https://raw.githubusercontent.com/artamonoff/Econometrica/master/python-notebooks/data-csv/SwissLabor.csv')\n",
    "df.head()"
   ]
  },
  {
   "cell_type": "markdown",
   "id": "545bfe3d",
   "metadata": {},
   "source": [
    "## Спецификация\n",
    "$$\n",
    "income=\\beta_{0}+\\beta_{1}*participation+\\beta_{2}*age+\\beta_{3}*education\n",
    "$$"
   ]
  },
  {
   "cell_type": "code",
   "execution_count": 100,
   "id": "07bd7d49",
   "metadata": {},
   "outputs": [
    {
     "data": {
      "text/plain": [
       "Intercept               10.269\n",
       "participation[T.yes]    -0.113\n",
       "age                      0.016\n",
       "education                0.043\n",
       "dtype: float64"
      ]
     },
     "execution_count": 100,
     "metadata": {},
     "output_type": "execute_result"
    }
   ],
   "source": [
    "# специфицируем модель через формулу\n",
    "price_eq = smf.ols(formula='income~participation+age+education', data=df).fit()\n",
    "# Коэфициенты модели с округление\n",
    "price_eq.params.round(3)"
   ]
  },
  {
   "cell_type": "code",
   "execution_count": 101,
   "id": "1f5e82f1",
   "metadata": {},
   "outputs": [
    {
     "data": {
      "text/plain": [
       "148.198"
      ]
     },
     "execution_count": 101,
     "metadata": {},
     "output_type": "execute_result"
    }
   ],
   "source": [
    "# TSS\n",
    "TSS = price_eq.centered_tss.round(3)\n",
    "TSS"
   ]
  },
  {
   "cell_type": "code",
   "execution_count": 102,
   "id": "8827ea48",
   "metadata": {},
   "outputs": [
    {
     "data": {
      "text/plain": [
       "19.032"
      ]
     },
     "execution_count": 102,
     "metadata": {},
     "output_type": "execute_result"
    }
   ],
   "source": [
    "# ESS\n",
    "ESS = price_eq.ess.round(3)\n",
    "ESS"
   ]
  },
  {
   "cell_type": "code",
   "execution_count": 103,
   "id": "0bb56483",
   "metadata": {},
   "outputs": [
    {
     "data": {
      "text/plain": [
       "129.166"
      ]
     },
     "execution_count": 103,
     "metadata": {},
     "output_type": "execute_result"
    }
   ],
   "source": [
    "# RSS\n",
    "RSS = price_eq.ssr.round(3)\n",
    "RSS"
   ]
  },
  {
   "cell_type": "markdown",
   "id": "94c5ab13",
   "metadata": {},
   "source": [
    "## R^2\n",
    "\n",
    "$$\n",
    "R^2 = RSS/TSS\n",
    "$$"
   ]
  },
  {
   "cell_type": "code",
   "execution_count": 104,
   "id": "c6312982",
   "metadata": {},
   "outputs": [
    {
     "data": {
      "text/plain": [
       "0.871577214267399"
      ]
     },
     "execution_count": 104,
     "metadata": {},
     "output_type": "execute_result"
    }
   ],
   "source": [
    "#R^2\n",
    "R2 = RSS/TSS\n",
    "R2"
   ]
  },
  {
   "cell_type": "markdown",
   "id": "4609b517",
   "metadata": {},
   "source": [
    "## s^2\n",
    "$$\n",
    "s^2 = RSS/(n - m)\n",
    "$$"
   ]
  },
  {
   "cell_type": "code",
   "execution_count": 121,
   "id": "2c568e42",
   "metadata": {},
   "outputs": [
    {
     "data": {
      "text/plain": [
       "0.14880875576036867"
      ]
     },
     "execution_count": 121,
     "metadata": {},
     "output_type": "execute_result"
    }
   ],
   "source": [
    "#s^2\n",
    "s2 = RSS/(872 - 4)\n",
    "s2"
   ]
  },
  {
   "cell_type": "markdown",
   "id": "a85df2a6",
   "metadata": {},
   "source": [
    "## R^2adj\n",
    "\n",
    "$$\n",
    "R^2adj = 1 - (1 - R^2) * (n - 1)/(n - m)\n",
    "$$"
   ]
  },
  {
   "cell_type": "code",
   "execution_count": 122,
   "id": "cae9a5c5",
   "metadata": {},
   "outputs": [
    {
     "data": {
      "text/plain": [
       "0.8711333567130236"
      ]
     },
     "execution_count": 122,
     "metadata": {},
     "output_type": "execute_result"
    }
   ],
   "source": [
    "#R^2adj\n",
    "R2adj = 1 - (1 - R2)*(872-1)/(872 - 4)\n",
    "R2adj"
   ]
  },
  {
   "cell_type": "markdown",
   "id": "11907902",
   "metadata": {},
   "source": [
    "## Интерпретация \n",
    "\n",
    "Если человек является участником рынка труда, его нетрудовой доход уменьшается на 0.113 при прочих равных условиях.\n",
    "\n",
    "При изменения возраста на 1 год, нетрудовой доход увеличивается на 0.16 при прочих равных условиях.\n",
    "\n",
    "При изменении значения переменной образования на 1, нетрудовой доход увеличивается на 0.43 при прочих равных условиях.\n"
   ]
  },
  {
   "cell_type": "code",
   "execution_count": 107,
   "id": "90781800",
   "metadata": {},
   "outputs": [
    {
     "data": {
      "text/html": [
       "<table class=\"simpletable\">\n",
       "<tr>\n",
       "            <td></td>              <th>coef</th>     <th>std err</th>      <th>t</th>      <th>P>|t|</th>  <th>[0.025</th>    <th>0.975]</th>  \n",
       "</tr>\n",
       "<tr>\n",
       "  <th>Intercept</th>            <td>    2.3315</td> <td>    0.007</td> <td>  331.910</td> <td> 0.000</td> <td>    2.318</td> <td>    2.345</td>\n",
       "</tr>\n",
       "<tr>\n",
       "  <th>participation[T.yes]</th> <td>   -0.0105</td> <td>    0.003</td> <td>   -4.162</td> <td> 0.000</td> <td>   -0.015</td> <td>   -0.006</td>\n",
       "</tr>\n",
       "<tr>\n",
       "  <th>age</th>                  <td>    0.0011</td> <td>    0.001</td> <td>    0.938</td> <td> 0.348</td> <td>   -0.001</td> <td>    0.003</td>\n",
       "</tr>\n",
       "<tr>\n",
       "  <th>education</th>            <td>    0.0040</td> <td>    0.000</td> <td>    9.508</td> <td> 0.000</td> <td>    0.003</td> <td>    0.005</td>\n",
       "</tr>\n",
       "</table>"
      ],
      "text/plain": [
       "<class 'statsmodels.iolib.table.SimpleTable'>"
      ]
     },
     "execution_count": 107,
     "metadata": {},
     "output_type": "execute_result"
    }
   ],
   "source": [
    "model = smf.ols(formula='np.log(income)~participation+age+education', data=df).fit()\n",
    "model.summary(alpha=0.05).tables[1]"
   ]
  },
  {
   "cell_type": "code",
   "execution_count": 108,
   "id": "c2157fe8",
   "metadata": {},
   "outputs": [
    {
     "data": {
      "text/html": [
       "<div>\n",
       "<style scoped>\n",
       "    .dataframe tbody tr th:only-of-type {\n",
       "        vertical-align: middle;\n",
       "    }\n",
       "\n",
       "    .dataframe tbody tr th {\n",
       "        vertical-align: top;\n",
       "    }\n",
       "\n",
       "    .dataframe thead th {\n",
       "        text-align: right;\n",
       "    }\n",
       "</style>\n",
       "<table border=\"1\" class=\"dataframe\">\n",
       "  <thead>\n",
       "    <tr style=\"text-align: right;\">\n",
       "      <th></th>\n",
       "      <th>coef</th>\n",
       "      <th>std err</th>\n",
       "      <th>t</th>\n",
       "      <th>P&gt;|t|</th>\n",
       "      <th>[0.025</th>\n",
       "      <th>0.975]</th>\n",
       "    </tr>\n",
       "  </thead>\n",
       "  <tbody>\n",
       "    <tr>\n",
       "      <th>Intercept</th>\n",
       "      <td>2.3315</td>\n",
       "      <td>0.007</td>\n",
       "      <td>331.910</td>\n",
       "      <td>0.000</td>\n",
       "      <td>2.318</td>\n",
       "      <td>2.345</td>\n",
       "    </tr>\n",
       "    <tr>\n",
       "      <th>participation[T.yes]</th>\n",
       "      <td>-0.0105</td>\n",
       "      <td>0.003</td>\n",
       "      <td>-4.162</td>\n",
       "      <td>0.000</td>\n",
       "      <td>-0.015</td>\n",
       "      <td>-0.006</td>\n",
       "    </tr>\n",
       "    <tr>\n",
       "      <th>age</th>\n",
       "      <td>0.0011</td>\n",
       "      <td>0.001</td>\n",
       "      <td>0.938</td>\n",
       "      <td>0.348</td>\n",
       "      <td>-0.001</td>\n",
       "      <td>0.003</td>\n",
       "    </tr>\n",
       "    <tr>\n",
       "      <th>education</th>\n",
       "      <td>0.0040</td>\n",
       "      <td>0.000</td>\n",
       "      <td>9.508</td>\n",
       "      <td>0.000</td>\n",
       "      <td>0.003</td>\n",
       "      <td>0.005</td>\n",
       "    </tr>\n",
       "  </tbody>\n",
       "</table>\n",
       "</div>"
      ],
      "text/plain": [
       "                        coef  std err        t  P>|t|  [0.025  0.975]\n",
       "Intercept             2.3315    0.007  331.910  0.000   2.318   2.345\n",
       "participation[T.yes] -0.0105    0.003   -4.162  0.000  -0.015  -0.006\n",
       "age                   0.0011    0.001    0.938  0.348  -0.001   0.003\n",
       "education             0.0040    0.000    9.508  0.000   0.003   0.005"
      ]
     },
     "execution_count": 108,
     "metadata": {},
     "output_type": "execute_result"
    }
   ],
   "source": [
    "df = pd.read_html(model.summary().tables[1].as_html(), header=0, index_col=0)[0] \n",
    "df"
   ]
  },
  {
   "cell_type": "code",
   "execution_count": 109,
   "id": "f836344a",
   "metadata": {},
   "outputs": [
    {
     "data": {
      "text/html": [
       "<div>\n",
       "<style scoped>\n",
       "    .dataframe tbody tr th:only-of-type {\n",
       "        vertical-align: middle;\n",
       "    }\n",
       "\n",
       "    .dataframe tbody tr th {\n",
       "        vertical-align: top;\n",
       "    }\n",
       "\n",
       "    .dataframe thead th {\n",
       "        text-align: right;\n",
       "    }\n",
       "</style>\n",
       "<table border=\"1\" class=\"dataframe\">\n",
       "  <thead>\n",
       "    <tr style=\"text-align: right;\">\n",
       "      <th></th>\n",
       "      <th>coef</th>\n",
       "      <th>std err</th>\n",
       "      <th>t</th>\n",
       "      <th>P&gt;|t|</th>\n",
       "      <th>[0.025</th>\n",
       "      <th>0.975]</th>\n",
       "      <th>tvalues</th>\n",
       "    </tr>\n",
       "  </thead>\n",
       "  <tbody>\n",
       "    <tr>\n",
       "      <th>Intercept</th>\n",
       "      <td>2.3315</td>\n",
       "      <td>0.007</td>\n",
       "      <td>331.910</td>\n",
       "      <td>0.000</td>\n",
       "      <td>2.318</td>\n",
       "      <td>2.345</td>\n",
       "      <td>333.071429</td>\n",
       "    </tr>\n",
       "    <tr>\n",
       "      <th>participation[T.yes]</th>\n",
       "      <td>-0.0105</td>\n",
       "      <td>0.003</td>\n",
       "      <td>-4.162</td>\n",
       "      <td>0.000</td>\n",
       "      <td>-0.015</td>\n",
       "      <td>-0.006</td>\n",
       "      <td>-3.500000</td>\n",
       "    </tr>\n",
       "    <tr>\n",
       "      <th>age</th>\n",
       "      <td>0.0011</td>\n",
       "      <td>0.001</td>\n",
       "      <td>0.938</td>\n",
       "      <td>0.348</td>\n",
       "      <td>-0.001</td>\n",
       "      <td>0.003</td>\n",
       "      <td>1.100000</td>\n",
       "    </tr>\n",
       "    <tr>\n",
       "      <th>education</th>\n",
       "      <td>0.0040</td>\n",
       "      <td>0.000</td>\n",
       "      <td>9.508</td>\n",
       "      <td>0.000</td>\n",
       "      <td>0.003</td>\n",
       "      <td>0.005</td>\n",
       "      <td>inf</td>\n",
       "    </tr>\n",
       "  </tbody>\n",
       "</table>\n",
       "</div>"
      ],
      "text/plain": [
       "                        coef  std err        t  P>|t|  [0.025  0.975]  \\\n",
       "Intercept             2.3315    0.007  331.910  0.000   2.318   2.345   \n",
       "participation[T.yes] -0.0105    0.003   -4.162  0.000  -0.015  -0.006   \n",
       "age                   0.0011    0.001    0.938  0.348  -0.001   0.003   \n",
       "education             0.0040    0.000    9.508  0.000   0.003   0.005   \n",
       "\n",
       "                         tvalues  \n",
       "Intercept             333.071429  \n",
       "participation[T.yes]   -3.500000  \n",
       "age                     1.100000  \n",
       "education                    inf  "
      ]
     },
     "execution_count": 109,
     "metadata": {},
     "output_type": "execute_result"
    }
   ],
   "source": [
    "df['tvalues']  = df['coef']/df['std err']\n",
    "df"
   ]
  },
  {
   "cell_type": "code",
   "execution_count": 110,
   "id": "566a4dcc",
   "metadata": {},
   "outputs": [
    {
     "name": "stdout",
     "output_type": "stream",
     "text": [
      "Уровень значимости alpha:  0.05\n",
      "Критическое значение t_crit:  1.963\n"
     ]
    }
   ],
   "source": [
    "alpha = 0.05 \n",
    "print('Уровень значимости alpha: ', alpha)\n",
    "DF = int(model.df_resid) \n",
    "t_crit = scipy.stats.t.ppf(1-alpha/2, DF)\n",
    "print('Критическое значение t_crit: ', t_crit.round(3))"
   ]
  },
  {
   "cell_type": "code",
   "execution_count": 111,
   "id": "9b7daa50",
   "metadata": {},
   "outputs": [
    {
     "data": {
      "text/html": [
       "<div>\n",
       "<style scoped>\n",
       "    .dataframe tbody tr th:only-of-type {\n",
       "        vertical-align: middle;\n",
       "    }\n",
       "\n",
       "    .dataframe tbody tr th {\n",
       "        vertical-align: top;\n",
       "    }\n",
       "\n",
       "    .dataframe thead th {\n",
       "        text-align: right;\n",
       "    }\n",
       "</style>\n",
       "<table border=\"1\" class=\"dataframe\">\n",
       "  <thead>\n",
       "    <tr style=\"text-align: right;\">\n",
       "      <th></th>\n",
       "      <th>coef</th>\n",
       "      <th>std err</th>\n",
       "      <th>t</th>\n",
       "      <th>P&gt;|t|</th>\n",
       "      <th>[0.025</th>\n",
       "      <th>0.975]</th>\n",
       "      <th>tvalues</th>\n",
       "      <th>znachimosty</th>\n",
       "    </tr>\n",
       "  </thead>\n",
       "  <tbody>\n",
       "    <tr>\n",
       "      <th>Intercept</th>\n",
       "      <td>2.3315</td>\n",
       "      <td>0.007</td>\n",
       "      <td>331.910</td>\n",
       "      <td>0.000</td>\n",
       "      <td>2.318</td>\n",
       "      <td>2.345</td>\n",
       "      <td>333.071429</td>\n",
       "      <td>znachim</td>\n",
       "    </tr>\n",
       "    <tr>\n",
       "      <th>participation[T.yes]</th>\n",
       "      <td>-0.0105</td>\n",
       "      <td>0.003</td>\n",
       "      <td>-4.162</td>\n",
       "      <td>0.000</td>\n",
       "      <td>-0.015</td>\n",
       "      <td>-0.006</td>\n",
       "      <td>-3.500000</td>\n",
       "      <td>znachim</td>\n",
       "    </tr>\n",
       "    <tr>\n",
       "      <th>age</th>\n",
       "      <td>0.0011</td>\n",
       "      <td>0.001</td>\n",
       "      <td>0.938</td>\n",
       "      <td>0.348</td>\n",
       "      <td>-0.001</td>\n",
       "      <td>0.003</td>\n",
       "      <td>1.100000</td>\n",
       "      <td>ne znachim</td>\n",
       "    </tr>\n",
       "    <tr>\n",
       "      <th>education</th>\n",
       "      <td>0.0040</td>\n",
       "      <td>0.000</td>\n",
       "      <td>9.508</td>\n",
       "      <td>0.000</td>\n",
       "      <td>0.003</td>\n",
       "      <td>0.005</td>\n",
       "      <td>inf</td>\n",
       "      <td>znachim</td>\n",
       "    </tr>\n",
       "  </tbody>\n",
       "</table>\n",
       "</div>"
      ],
      "text/plain": [
       "                        coef  std err        t  P>|t|  [0.025  0.975]  \\\n",
       "Intercept             2.3315    0.007  331.910  0.000   2.318   2.345   \n",
       "participation[T.yes] -0.0105    0.003   -4.162  0.000  -0.015  -0.006   \n",
       "age                   0.0011    0.001    0.938  0.348  -0.001   0.003   \n",
       "education             0.0040    0.000    9.508  0.000   0.003   0.005   \n",
       "\n",
       "                         tvalues znachimosty  \n",
       "Intercept             333.071429     znachim  \n",
       "participation[T.yes]   -3.500000     znachim  \n",
       "age                     1.100000  ne znachim  \n",
       "education                    inf     znachim  "
      ]
     },
     "execution_count": 111,
     "metadata": {},
     "output_type": "execute_result"
    }
   ],
   "source": [
    "df['znachimosty'] = df.apply(lambda x : 'znachim' if np.abs(x['tvalues']) > t_crit else 'ne znachim', axis = 1 )\n",
    "df"
   ]
  },
  {
   "cell_type": "markdown",
   "id": "05e70bfa",
   "metadata": {},
   "source": [
    "## Значимость\n",
    "Только возраст не значим"
   ]
  },
  {
   "cell_type": "code",
   "execution_count": 119,
   "id": "a572d88b",
   "metadata": {},
   "outputs": [
    {
     "data": {
      "text/plain": [
       "<AxesSubplot:xlabel='age', ylabel='income'>"
      ]
     },
     "execution_count": 119,
     "metadata": {},
     "output_type": "execute_result"
    },
    {
     "data": {
      "image/png": "[encoded data removed]",
      "text/plain": [
       "<Figure size 640x480 with 1 Axes>"
      ]
     },
     "metadata": {},
     "output_type": "display_data"
    }
   ],
   "source": [
    "sns.regplot(data=df[df['participation']=='yes'], y='income', x='age', ci=None, order = 2, line_kws={\"color\": \"r\"})"
   ]
  },
  {
   "cell_type": "code",
   "execution_count": 120,
   "id": "7deb9d88",
   "metadata": {},
   "outputs": [
    {
     "data": {
      "text/plain": [
       "<AxesSubplot:xlabel='age', ylabel='income'>"
      ]
     },
     "execution_count": 120,
     "metadata": {},
     "output_type": "execute_result"
    },
    {
     "data": {
      "image/png": "[encoded data removed]",
      "text/plain": [
       "<Figure size 640x480 with 1 Axes>"
      ]
     },
     "metadata": {},
     "output_type": "display_data"
    }
   ],
   "source": [
    "sns.regplot(data=df[df['participation']=='no'], y='income', x='age', ci=None, order = 2, line_kws={\"color\": \"r\"})"
   ]
  },
  {
   "cell_type": "markdown",
   "id": "2f98cc7f",
   "metadata": {},
   "source": [
    "## Интерпретация\n",
    "Среди тех, кто не является участником рынка труда, разброс нетрудового дохода больше.\n"
   ]
  },
  {
   "cell_type": "code",
   "execution_count": 126,
   "id": "eabfa9bc",
   "metadata": {},
   "outputs": [
    {
     "data": {
      "text/plain": [
       "participation[no]     10.269\n",
       "participation[yes]    10.156\n",
       "age                    0.016\n",
       "education              0.043\n",
       "dtype: float64"
      ]
     },
     "execution_count": 126,
     "metadata": {},
     "output_type": "execute_result"
    }
   ],
   "source": [
    "\n",
    "price_eq1 = smf.ols(formula='income~-1+participation+age+education', data=df).fit()\n",
    "\n",
    "price_eq1.params.round(3)"
   ]
  },
  {
   "cell_type": "code",
   "execution_count": 127,
   "id": "bcd75017",
   "metadata": {},
   "outputs": [
    {
     "data": {
      "text/plain": [
       "148.198"
      ]
     },
     "execution_count": 127,
     "metadata": {},
     "output_type": "execute_result"
    }
   ],
   "source": [
    "# TSS\n",
    "TSS = price_eq1.centered_tss.round(3)\n",
    "TSS"
   ]
  },
  {
   "cell_type": "code",
   "execution_count": 128,
   "id": "5a4d8c88",
   "metadata": {},
   "outputs": [
    {
     "data": {
      "text/plain": [
       "19.032"
      ]
     },
     "execution_count": 128,
     "metadata": {},
     "output_type": "execute_result"
    }
   ],
   "source": [
    "# ESS\n",
    "ESS = price_eq1.ess.round(3)\n",
    "ESS"
   ]
  },
  {
   "cell_type": "code",
   "execution_count": 129,
   "id": "e9086fd2",
   "metadata": {},
   "outputs": [
    {
     "data": {
      "text/plain": [
       "129.166"
      ]
     },
     "execution_count": 129,
     "metadata": {},
     "output_type": "execute_result"
    }
   ],
   "source": [
    "# RSS\n",
    "RSS = price_eq1.ssr.round(3)\n",
    "RSS"
   ]
  },
  {
   "cell_type": "code",
   "execution_count": 130,
   "id": "8977624d",
   "metadata": {},
   "outputs": [
    {
     "data": {
      "text/plain": [
       "0.871577214267399"
      ]
     },
     "execution_count": 130,
     "metadata": {},
     "output_type": "execute_result"
    }
   ],
   "source": [
    "#R^2\n",
    "R2 = RSS/TSS\n",
    "R2"
   ]
  },
  {
   "cell_type": "markdown",
   "id": "108c9ad0",
   "metadata": {},
   "source": [
    "## Интерператция \n",
    "Коэффициенты детерминации регрессии с константой и без совпадают. Коэффициент детерминации показывает, в какой мере признак зависит от параметров модели. Так как константа не является параметром модели, коэффициенты детерминации в регрессиях с константой и без одинаковы."
   ]
  },
  {
   "cell_type": "code",
   "execution_count": null,
   "id": "9ccd9293",
   "metadata": {},
   "outputs": [],
   "source": []
  }
 ],
 "metadata": {
  "kernelspec": {
   "display_name": "Python 3 (ipykernel)",
   "language": "python",
   "name": "python3"
  },
  "language_info": {
   "codemirror_mode": {
    "name": "ipython",
    "version": 3
   },
   "file_extension": ".py",
   "mimetype": "text/x-python",
   "name": "python",
   "nbconvert_exporter": "python",
   "pygments_lexer": "ipython3",
   "version": "3.9.13"
  }
 },
 "nbformat": 4,
 "nbformat_minor": 5
}
