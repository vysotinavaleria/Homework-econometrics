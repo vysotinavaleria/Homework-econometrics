{
 "cells": [
  {
   "cell_type": "markdown",
   "id": "16b6c323",
   "metadata": {},
   "source": [
    "$$\n",
    "R^2_{adj} = 1 - (1-R^2)*\\frac{n-1}{n-k}\n",
    "$$\n",
    "n - количество измерений\n",
    "к - количество регрессоров"
   ]
  },
  {
   "cell_type": "code",
   "execution_count": 3,
   "id": "079d1307",
   "metadata": {},
   "outputs": [
    {
     "data": {
      "text/plain": [
       "0.2825335892514397"
      ]
     },
     "execution_count": 3,
     "metadata": {},
     "output_type": "execute_result"
    }
   ],
   "source": [
    "n = 526\n",
    "k = 5\n",
    "R2 = 0.288\n",
    "R2adj = 1 - (1- R2)*(n-1)/(n-k)\n",
    "R2adj"
   ]
  },
  {
   "cell_type": "code",
   "execution_count": null,
   "id": "b7ec1933",
   "metadata": {},
   "outputs": [],
   "source": []
  }
 ],
 "metadata": {
  "kernelspec": {
   "display_name": "Python 3 (ipykernel)",
   "language": "python",
   "name": "python3"
  },
  "language_info": {
   "codemirror_mode": {
    "name": "ipython",
    "version": 3
   },
   "file_extension": ".py",
   "mimetype": "text/x-python",
   "name": "python",
   "nbconvert_exporter": "python",
   "pygments_lexer": "ipython3",
   "version": "3.9.15"
  }
 },
 "nbformat": 4,
 "nbformat_minor": 5
}
