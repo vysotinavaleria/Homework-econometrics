{
 "cells": [
  {
   "cell_type": "markdown",
   "id": "01f33643",
   "metadata": {},
   "source": [
    "$$\n",
    "H_0 : \\beta{smsa} = \\beta{yngkid} = \\beta{marr} = \\beta{union} = 0\n",
    "$$\n",
    "$$\n",
    "H_1 : \\beta{smsa}^2 + \\beta{yngkid}^2 + \\beta{marr}^2 + \\beta{union}^2 > 0\n",
    "$$"
   ]
  },
  {
   "cell_type": "code",
   "execution_count": 1,
   "id": "05c1e7de",
   "metadata": {},
   "outputs": [],
   "source": [
    "import pandas as pd\n",
    "import numpy as np\n",
    "import io\n",
    "import statsmodels.formula.api as smf\n",
    "import scipy.stats as stats\n",
    "import re"
   ]
  },
  {
   "cell_type": "code",
   "execution_count": 2,
   "id": "3767c4e6",
   "metadata": {},
   "outputs": [
    {
     "name": "stdout",
     "output_type": "stream",
     "text": [
      "0.131 0.127\n"
     ]
    }
   ],
   "source": [
    "unrest, rest = np.float_(re.findall(r'([-+]?\\d+.\\d+)','R2                      0.131          0.127'))\n",
    "print (unrest, rest)"
   ]
  },
  {
   "cell_type": "code",
   "execution_count": 7,
   "id": "98d9f869",
   "metadata": {},
   "outputs": [
    {
     "data": {
      "text/plain": [
       "0.8020713463751445"
      ]
     },
     "execution_count": 7,
     "metadata": {},
     "output_type": "execute_result"
    }
   ],
   "source": [
    "F_obs = (unrest - rest)/(1-unrest)*(706 - 9)/4\n",
    "F_obs"
   ]
  },
  {
   "cell_type": "code",
   "execution_count": 9,
   "id": "2f99fa47",
   "metadata": {},
   "outputs": [
    {
     "data": {
      "text/plain": [
       "2.3847110483450447"
      ]
     },
     "execution_count": 9,
     "metadata": {},
     "output_type": "execute_result"
    }
   ],
   "source": [
    "alpha = 0.05\n",
    "F_cr = stats.f.ppf(1-alpha, 4, 706-9)\n",
    "F_cr"
   ]
  },
  {
   "cell_type": "markdown",
   "id": "283e0057",
   "metadata": {},
   "source": [
    "$F_{obs} < F_{cr}$ данные согласуются с гипотезой $Н_0$"
   ]
  },
  {
   "cell_type": "code",
   "execution_count": null,
   "id": "9501e6d1",
   "metadata": {},
   "outputs": [],
   "source": []
  }
 ],
 "metadata": {
  "kernelspec": {
   "display_name": "Python 3 (ipykernel)",
   "language": "python",
   "name": "python3"
  },
  "language_info": {
   "codemirror_mode": {
    "name": "ipython",
    "version": 3
   },
   "file_extension": ".py",
   "mimetype": "text/x-python",
   "name": "python",
   "nbconvert_exporter": "python",
   "pygments_lexer": "ipython3",
   "version": "3.9.15"
  }
 },
 "nbformat": 4,
 "nbformat_minor": 5
}
